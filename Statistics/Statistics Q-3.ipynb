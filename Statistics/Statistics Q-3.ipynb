{
 "cells": [
  {
   "cell_type": "markdown",
   "id": "439305f9",
   "metadata": {},
   "source": [
    "**a. Measure the dispersion in both and interpret the results.**"
   ]
  },
  {
   "cell_type": "code",
   "execution_count": 1,
   "id": "b67ff225",
   "metadata": {},
   "outputs": [],
   "source": [
    "import pandas as pd"
   ]
  },
  {
   "cell_type": "code",
   "execution_count": 8,
   "id": "32b0c0b8",
   "metadata": {},
   "outputs": [],
   "source": [
    "import requests\n",
    "\n",
    "df = pd.read_csv(\"data.csv\")"
   ]
  },
  {
   "cell_type": "code",
   "execution_count": 9,
   "id": "ab207b83",
   "metadata": {},
   "outputs": [
    {
     "data": {
      "text/html": [
       "<div>\n",
       "<style scoped>\n",
       "    .dataframe tbody tr th:only-of-type {\n",
       "        vertical-align: middle;\n",
       "    }\n",
       "\n",
       "    .dataframe tbody tr th {\n",
       "        vertical-align: top;\n",
       "    }\n",
       "\n",
       "    .dataframe thead th {\n",
       "        text-align: right;\n",
       "    }\n",
       "</style>\n",
       "<table border=\"1\" class=\"dataframe\">\n",
       "  <thead>\n",
       "    <tr style=\"text-align: right;\">\n",
       "      <th></th>\n",
       "      <th>Patient ID</th>\n",
       "      <th>Blood Pressure Before (mmHg)</th>\n",
       "      <th>Blood Pressure After (mmHg)</th>\n",
       "    </tr>\n",
       "  </thead>\n",
       "  <tbody>\n",
       "    <tr>\n",
       "      <th>0</th>\n",
       "      <td>1</td>\n",
       "      <td>130</td>\n",
       "      <td>120</td>\n",
       "    </tr>\n",
       "    <tr>\n",
       "      <th>1</th>\n",
       "      <td>2</td>\n",
       "      <td>142</td>\n",
       "      <td>135</td>\n",
       "    </tr>\n",
       "    <tr>\n",
       "      <th>2</th>\n",
       "      <td>3</td>\n",
       "      <td>120</td>\n",
       "      <td>118</td>\n",
       "    </tr>\n",
       "    <tr>\n",
       "      <th>3</th>\n",
       "      <td>4</td>\n",
       "      <td>135</td>\n",
       "      <td>127</td>\n",
       "    </tr>\n",
       "    <tr>\n",
       "      <th>4</th>\n",
       "      <td>5</td>\n",
       "      <td>148</td>\n",
       "      <td>140</td>\n",
       "    </tr>\n",
       "    <tr>\n",
       "      <th>...</th>\n",
       "      <td>...</td>\n",
       "      <td>...</td>\n",
       "      <td>...</td>\n",
       "    </tr>\n",
       "    <tr>\n",
       "      <th>95</th>\n",
       "      <td>96</td>\n",
       "      <td>136</td>\n",
       "      <td>129</td>\n",
       "    </tr>\n",
       "    <tr>\n",
       "      <th>96</th>\n",
       "      <td>97</td>\n",
       "      <td>143</td>\n",
       "      <td>137</td>\n",
       "    </tr>\n",
       "    <tr>\n",
       "      <th>97</th>\n",
       "      <td>98</td>\n",
       "      <td>127</td>\n",
       "      <td>123</td>\n",
       "    </tr>\n",
       "    <tr>\n",
       "      <th>98</th>\n",
       "      <td>99</td>\n",
       "      <td>139</td>\n",
       "      <td>135</td>\n",
       "    </tr>\n",
       "    <tr>\n",
       "      <th>99</th>\n",
       "      <td>100</td>\n",
       "      <td>135</td>\n",
       "      <td>130</td>\n",
       "    </tr>\n",
       "  </tbody>\n",
       "</table>\n",
       "<p>100 rows × 3 columns</p>\n",
       "</div>"
      ],
      "text/plain": [
       "    Patient ID   Blood Pressure Before (mmHg)   Blood Pressure After (mmHg)\n",
       "0            1                            130                           120\n",
       "1            2                            142                           135\n",
       "2            3                            120                           118\n",
       "3            4                            135                           127\n",
       "4            5                            148                           140\n",
       "..         ...                            ...                           ...\n",
       "95          96                            136                           129\n",
       "96          97                            143                           137\n",
       "97          98                            127                           123\n",
       "98          99                            139                           135\n",
       "99         100                            135                           130\n",
       "\n",
       "[100 rows x 3 columns]"
      ]
     },
     "execution_count": 9,
     "metadata": {},
     "output_type": "execute_result"
    }
   ],
   "source": [
    "df"
   ]
  },
  {
   "cell_type": "code",
   "execution_count": 10,
   "id": "557b5b7b",
   "metadata": {},
   "outputs": [],
   "source": [
    "from statistics import mean, median, mode, stdev"
   ]
  },
  {
   "cell_type": "code",
   "execution_count": 11,
   "id": "d3db7d61",
   "metadata": {},
   "outputs": [
    {
     "data": {
      "text/plain": [
       "(100, 3)"
      ]
     },
     "execution_count": 11,
     "metadata": {},
     "output_type": "execute_result"
    }
   ],
   "source": [
    "df.shape"
   ]
  },
  {
   "cell_type": "code",
   "execution_count": 12,
   "id": "df6a5027",
   "metadata": {},
   "outputs": [],
   "source": [
    "import statistics as st"
   ]
  },
  {
   "cell_type": "code",
   "execution_count": 17,
   "id": "c32d4124",
   "metadata": {},
   "outputs": [
    {
     "data": {
      "text/plain": [
       "Index(['Patient ID', ' Blood Pressure Before (mmHg)',\n",
       "       ' Blood Pressure After (mmHg)'],\n",
       "      dtype='object')"
      ]
     },
     "execution_count": 17,
     "metadata": {},
     "output_type": "execute_result"
    }
   ],
   "source": [
    "df.columns"
   ]
  },
  {
   "cell_type": "code",
   "execution_count": 19,
   "id": "3abd9d1b",
   "metadata": {},
   "outputs": [],
   "source": [
    "df1 = df[' Blood Pressure Before (mmHg)']"
   ]
  },
  {
   "cell_type": "code",
   "execution_count": 21,
   "id": "a7a52447",
   "metadata": {},
   "outputs": [],
   "source": [
    "df2 = df[' Blood Pressure After (mmHg)']"
   ]
  },
  {
   "cell_type": "code",
   "execution_count": null,
   "id": "fe5aad1e",
   "metadata": {},
   "outputs": [],
   "source": [
    "st"
   ]
  },
  {
   "cell_type": "markdown",
   "id": "ba953e40",
   "metadata": {},
   "source": [
    "median calculation for Blood pressure before"
   ]
  },
  {
   "cell_type": "code",
   "execution_count": 23,
   "id": "9fd66d28",
   "metadata": {},
   "outputs": [
    {
     "data": {
      "text/plain": [
       "135.0"
      ]
     },
     "execution_count": 23,
     "metadata": {},
     "output_type": "execute_result"
    }
   ],
   "source": [
    "st.median(df1)"
   ]
  },
  {
   "cell_type": "markdown",
   "id": "a2747d35",
   "metadata": {},
   "source": [
    "Mean calculation for Blood pressure after"
   ]
  },
  {
   "cell_type": "code",
   "execution_count": 24,
   "id": "e5c76385",
   "metadata": {},
   "outputs": [
    {
     "data": {
      "text/plain": [
       "128.0"
      ]
     },
     "execution_count": 24,
     "metadata": {},
     "output_type": "execute_result"
    }
   ],
   "source": [
    "st.median(df2)"
   ]
  },
  {
   "cell_type": "markdown",
   "id": "dcc8c5b9",
   "metadata": {},
   "source": [
    "Variance calculation"
   ]
  },
  {
   "cell_type": "code",
   "execution_count": 25,
   "id": "1dac5b19",
   "metadata": {},
   "outputs": [
    {
     "data": {
      "text/plain": [
       "43.53727272727273"
      ]
     },
     "execution_count": 25,
     "metadata": {},
     "output_type": "execute_result"
    }
   ],
   "source": [
    "st.variance(df1)"
   ]
  },
  {
   "cell_type": "code",
   "execution_count": 26,
   "id": "ed4a2578",
   "metadata": {},
   "outputs": [
    {
     "data": {
      "text/plain": [
       "47.444848484848485"
      ]
     },
     "execution_count": 26,
     "metadata": {},
     "output_type": "execute_result"
    }
   ],
   "source": [
    "st.variance(df2)"
   ]
  },
  {
   "cell_type": "markdown",
   "id": "d47f74d7",
   "metadata": {},
   "source": [
    "Population Variance"
   ]
  },
  {
   "cell_type": "code",
   "execution_count": 39,
   "id": "ebd22620",
   "metadata": {},
   "outputs": [
    {
     "name": "stdout",
     "output_type": "stream",
     "text": [
      "43.1019\n",
      "46.9704\n"
     ]
    }
   ],
   "source": [
    "def var_population(x):\n",
    "    var_pop = st.variance(x)*((len(x)-1)/len(x))\n",
    "    return var_pop\n",
    "\n",
    "print(var_population(df1))\n",
    "print(var_population(df2))"
   ]
  },
  {
   "cell_type": "markdown",
   "id": "b6f8fd0f",
   "metadata": {},
   "source": [
    "the population variance is slightly less than the sample variance"
   ]
  },
  {
   "cell_type": "raw",
   "id": "f13acf85",
   "metadata": {},
   "source": [
    "Standard Deviation calculation"
   ]
  },
  {
   "cell_type": "code",
   "execution_count": 27,
   "id": "d35f4e1a",
   "metadata": {},
   "outputs": [
    {
     "data": {
      "text/plain": [
       "6.598278012275076"
      ]
     },
     "execution_count": 27,
     "metadata": {},
     "output_type": "execute_result"
    }
   ],
   "source": [
    "st.stdev(df1)"
   ]
  },
  {
   "cell_type": "code",
   "execution_count": 29,
   "id": "13387be5",
   "metadata": {},
   "outputs": [
    {
     "data": {
      "text/plain": [
       "6.888022102523226"
      ]
     },
     "execution_count": 29,
     "metadata": {},
     "output_type": "execute_result"
    }
   ],
   "source": [
    "st.stdev(df2)"
   ]
  },
  {
   "cell_type": "markdown",
   "id": "f3559b71",
   "metadata": {},
   "source": [
    "A low coefficient of variation indicates the values are not very widely dispersed, but a higher value indicates a greater dispersion of the sample."
   ]
  },
  {
   "cell_type": "code",
   "execution_count": 30,
   "id": "e39f1925",
   "metadata": {},
   "outputs": [
    {
     "data": {
      "text/plain": [
       "Patient ID                       0.000000\n",
       " Blood Pressure Before (mmHg)    0.144983\n",
       " Blood Pressure After (mmHg)     0.267724\n",
       "dtype: float64"
      ]
     },
     "execution_count": 30,
     "metadata": {},
     "output_type": "execute_result"
    }
   ],
   "source": [
    "df.skew()"
   ]
  },
  {
   "cell_type": "code",
   "execution_count": 34,
   "id": "3eb6ebbf",
   "metadata": {},
   "outputs": [],
   "source": [
    "import seaborn as sns\n",
    "import matplotlib as plt"
   ]
  },
  {
   "cell_type": "markdown",
   "id": "edf4a651",
   "metadata": {},
   "source": [
    "The distribution is symmetric"
   ]
  },
  {
   "cell_type": "code",
   "execution_count": 38,
   "id": "b301cd0c",
   "metadata": {},
   "outputs": [
    {
     "name": "stderr",
     "output_type": "stream",
     "text": [
      "D:\\ineuron\\lib\\site-packages\\seaborn\\distributions.py:2619: FutureWarning: `distplot` is a deprecated function and will be removed in a future version. Please adapt your code to use either `displot` (a figure-level function with similar flexibility) or `histplot` (an axes-level function for histograms).\n",
      "  warnings.warn(msg, FutureWarning)\n"
     ]
    },
    {
     "ename": "AttributeError",
     "evalue": "module 'matplotlib' has no attribute 'show'",
     "output_type": "error",
     "traceback": [
      "\u001b[1;31m---------------------------------------------------------------------------\u001b[0m",
      "\u001b[1;31mAttributeError\u001b[0m                            Traceback (most recent call last)",
      "Input \u001b[1;32mIn [38]\u001b[0m, in \u001b[0;36m<cell line: 5>\u001b[1;34m()\u001b[0m\n\u001b[0;32m      3\u001b[0m ax\u001b[38;5;241m.\u001b[39mset_ylabel(\u001b[38;5;124m'\u001b[39m\u001b[38;5;124m Blood Pressure After (mmHg)\u001b[39m\u001b[38;5;124m'\u001b[39m)\n\u001b[0;32m      4\u001b[0m ax\u001b[38;5;241m.\u001b[39mset_xlabel(\u001b[38;5;124m'\u001b[39m\u001b[38;5;124m Blood Pressure Before (mmHg)\u001b[39m\u001b[38;5;124m'\u001b[39m)\n\u001b[1;32m----> 5\u001b[0m \u001b[43mplt\u001b[49m\u001b[38;5;241;43m.\u001b[39;49m\u001b[43mshow\u001b[49m()\n",
      "File \u001b[1;32mD:\\ineuron\\lib\\site-packages\\matplotlib\\_api\\__init__.py:222\u001b[0m, in \u001b[0;36mcaching_module_getattr.<locals>.__getattr__\u001b[1;34m(name)\u001b[0m\n\u001b[0;32m    220\u001b[0m \u001b[38;5;28;01mif\u001b[39;00m name \u001b[38;5;129;01min\u001b[39;00m props:\n\u001b[0;32m    221\u001b[0m     \u001b[38;5;28;01mreturn\u001b[39;00m props[name]\u001b[38;5;241m.\u001b[39m\u001b[38;5;21m__get__\u001b[39m(instance)\n\u001b[1;32m--> 222\u001b[0m \u001b[38;5;28;01mraise\u001b[39;00m \u001b[38;5;167;01mAttributeError\u001b[39;00m(\n\u001b[0;32m    223\u001b[0m     \u001b[38;5;124mf\u001b[39m\u001b[38;5;124m\"\u001b[39m\u001b[38;5;124mmodule \u001b[39m\u001b[38;5;132;01m{\u001b[39;00m\u001b[38;5;28mcls\u001b[39m\u001b[38;5;241m.\u001b[39m\u001b[38;5;18m__module__\u001b[39m\u001b[38;5;132;01m!r}\u001b[39;00m\u001b[38;5;124m has no attribute \u001b[39m\u001b[38;5;132;01m{\u001b[39;00mname\u001b[38;5;132;01m!r}\u001b[39;00m\u001b[38;5;124m\"\u001b[39m)\n",
      "\u001b[1;31mAttributeError\u001b[0m: module 'matplotlib' has no attribute 'show'"
     ]
    },
    {
     "data": {
      "image/png": "[encoded data removed]",
      "text/plain": [
       "<Figure size 432x288 with 1 Axes>"
      ]
     },
     "metadata": {
      "needs_background": "light"
     },
     "output_type": "display_data"
    }
   ],
   "source": [
    "#fig = plt.figure(figsize=(12, 4))\n",
    "ax = sns.distplot(df[' Blood Pressure Before (mmHg)'].dropna())\n",
    "ax.set_ylabel(' Blood Pressure After (mmHg)')\n",
    "ax.set_xlabel(' Blood Pressure Before (mmHg)')\n",
    "plt.show()"
   ]
  },
  {
   "cell_type": "markdown",
   "id": "3e285ce3",
   "metadata": {},
   "source": [
    "**b. Calculate mean and 5% confidence interval and plot it in a graph**"
   ]
  },
  {
   "cell_type": "markdown",
   "id": "96ba5eda",
   "metadata": {},
   "source": [
    "Mean calculation for Blood pressure before"
   ]
  },
  {
   "cell_type": "code",
   "execution_count": 43,
   "id": "5f828ce6",
   "metadata": {},
   "outputs": [
    {
     "data": {
      "text/plain": [
       "133.91"
      ]
     },
     "execution_count": 43,
     "metadata": {},
     "output_type": "execute_result"
    }
   ],
   "source": [
    "st.mean(df1)"
   ]
  },
  {
   "cell_type": "markdown",
   "id": "2ac095f3",
   "metadata": {},
   "source": [
    "Mean calculation for Blood pressure after"
   ]
  },
  {
   "cell_type": "code",
   "execution_count": 44,
   "id": "6ebff954",
   "metadata": {},
   "outputs": [
    {
     "data": {
      "text/plain": [
       "128.36"
      ]
     },
     "execution_count": 44,
     "metadata": {},
     "output_type": "execute_result"
    }
   ],
   "source": [
    "st.mean(df2)"
   ]
  },
  {
   "cell_type": "code",
   "execution_count": 45,
   "id": "b6dbf169",
   "metadata": {},
   "outputs": [],
   "source": [
    "from scipy.stats import t"
   ]
  },
  {
   "cell_type": "markdown",
   "id": "414208e2",
   "metadata": {},
   "source": [
    "Calculate Confidence Intervals"
   ]
  },
  {
   "cell_type": "code",
   "execution_count": 47,
   "id": "48c2b3ce",
   "metadata": {},
   "outputs": [],
   "source": [
    "m = df1.mean() \n",
    "s = df1.std() \n",
    "dof = len(df1)-1 \n",
    "confidence = 0.95"
   ]
  },
  {
   "cell_type": "code",
   "execution_count": 50,
   "id": "4d7df244",
   "metadata": {},
   "outputs": [],
   "source": [
    "m = df2.mean() \n",
    "s = df2.std() \n",
    "doff = len(df2)-1 \n",
    "confidence = 0.95"
   ]
  },
  {
   "cell_type": "markdown",
   "id": "2f3e3cef",
   "metadata": {},
   "source": [
    "We now need the value of t. The function that calculates the inverse cumulative distribution is ppf. We need to apply the absolute value because the cumulative distribution works with the left tail, so the result would be negative."
   ]
  },
  {
   "cell_type": "code",
   "execution_count": 49,
   "id": "34407f3b",
   "metadata": {},
   "outputs": [],
   "source": [
    "t_crit = np.abs(t.ppf((1-confidence)/2,dof))"
   ]
  },
  {
   "cell_type": "code",
   "execution_count": 51,
   "id": "8c3ce1c0",
   "metadata": {},
   "outputs": [],
   "source": [
    "t_crit = np.abs(t.ppf((1-confidence)/2,doff))"
   ]
  },
  {
   "cell_type": "code",
   "execution_count": 52,
   "id": "e5a48184",
   "metadata": {},
   "outputs": [
    {
     "data": {
      "text/plain": [
       "(126.99326697818071, 129.7267330218193)"
      ]
     },
     "execution_count": 52,
     "metadata": {},
     "output_type": "execute_result"
    }
   ],
   "source": [
    "(m-s*t_crit/np.sqrt(len(df1)), m+s*t_crit/np.sqrt(len(df1)))"
   ]
  },
  {
   "cell_type": "code",
   "execution_count": 53,
   "id": "258dd5fa",
   "metadata": {},
   "outputs": [
    {
     "data": {
      "text/plain": [
       "(126.99326697818071, 129.7267330218193)"
      ]
     },
     "execution_count": 53,
     "metadata": {},
     "output_type": "execute_result"
    }
   ],
   "source": [
    "(m-s*t_crit/np.sqrt(len(df2)), m+s*t_crit/np.sqrt(len(df2)))"
   ]
  },
  {
   "cell_type": "code",
   "execution_count": 55,
   "id": "bddb8fe1",
   "metadata": {},
   "outputs": [
    {
     "data": {
      "text/plain": [
       "array([132.69  , 135.1205])"
      ]
     },
     "execution_count": 55,
     "metadata": {},
     "output_type": "execute_result"
    }
   ],
   "source": [
    "values = [np.random.choice(df1,size=len(df1),replace=True).mean() for i in range(1000)] \n",
    "np.percentile(values,[100*(1-confidence)/2,100*(1-(1-confidence)/2)]) "
   ]
  },
  {
   "cell_type": "markdown",
   "id": "7b89c520",
   "metadata": {},
   "source": [
    "**c. Calculate the Mean absolute deviation and Standard deviation and interpret\n",
    "the results.**"
   ]
  },
  {
   "cell_type": "code",
   "execution_count": 56,
   "id": "25a2e10e",
   "metadata": {},
   "outputs": [
    {
     "name": "stdout",
     "output_type": "stream",
     "text": [
      "Standard Deviation of Sample: 6.598278012275076\n",
      "Standard Deviation of population: 6.56520372875054\n"
     ]
    }
   ],
   "source": [
    "import numpy as np\n",
    "\n",
    "std_x = np.sqrt(st.variance(df1))\n",
    "print(\"Standard Deviation of Sample:\",std_x)\n",
    "\n",
    "#calculate the Standard deviation of population\n",
    "std_pop = np.sqrt(var_population(df1))\n",
    "print(\"Standard Deviation of population:\", std_pop)"
   ]
  },
  {
   "cell_type": "code",
   "execution_count": 57,
   "id": "31dca215",
   "metadata": {},
   "outputs": [
    {
     "name": "stdout",
     "output_type": "stream",
     "text": [
      "Standard Deviation of Sample: 6.888022102523226\n",
      "Standard Deviation of population: 6.853495458523336\n"
     ]
    }
   ],
   "source": [
    "std_x = np.sqrt(st.variance(df2))\n",
    "print(\"Standard Deviation of Sample:\",std_x)\n",
    "\n",
    "#calculate the Standard deviation of population\n",
    "std_pop = np.sqrt(var_population(df2))\n",
    "print(\"Standard Deviation of population:\", std_pop)"
   ]
  },
  {
   "cell_type": "markdown",
   "id": "94015266",
   "metadata": {},
   "source": [
    "**d. Calculate the correlation coefficient and check the significance of it at 1% level\n",
    "of significance.**"
   ]
  },
  {
   "cell_type": "code",
   "execution_count": 58,
   "id": "b614d5e4",
   "metadata": {},
   "outputs": [
    {
     "name": "stderr",
     "output_type": "stream",
     "text": [
      "C:\\Users\\Lenovo\\AppData\\Local\\Temp\\ipykernel_148\\1834757306.py:2: DeprecationWarning: Please use `pearsonr` from the `scipy.stats` namespace, the `scipy.stats.stats` namespace is deprecated.\n",
      "  from scipy.stats.stats import pearsonr\n"
     ]
    },
    {
     "name": "stdout",
     "output_type": "stream",
     "text": [
      "Help on function pearsonr in module scipy.stats._stats_py:\n",
      "\n",
      "pearsonr(x, y, *, alternative='two-sided')\n",
      "    Pearson correlation coefficient and p-value for testing non-correlation.\n",
      "    \n",
      "    The Pearson correlation coefficient [1]_ measures the linear relationship\n",
      "    between two datasets. Like other correlation\n",
      "    coefficients, this one varies between -1 and +1 with 0 implying no\n",
      "    correlation. Correlations of -1 or +1 imply an exact linear relationship.\n",
      "    Positive correlations imply that as x increases, so does y. Negative\n",
      "    correlations imply that as x increases, y decreases.\n",
      "    \n",
      "    This function also performs a test of the null hypothesis that the\n",
      "    distributions underlying the samples are uncorrelated and normally\n",
      "    distributed. (See Kowalski [3]_\n",
      "    for a discussion of the effects of non-normality of the input on the\n",
      "    distribution of the correlation coefficient.)\n",
      "    The p-value roughly indicates the probability of an uncorrelated system\n",
      "    producing datasets that have a Pearson correlation at least as extreme\n",
      "    as the one computed from these datasets.\n",
      "    \n",
      "    Parameters\n",
      "    ----------\n",
      "    x : (N,) array_like\n",
      "        Input array.\n",
      "    y : (N,) array_like\n",
      "        Input array.\n",
      "    alternative : {'two-sided', 'greater', 'less'}, optional\n",
      "        Defines the alternative hypothesis. Default is 'two-sided'.\n",
      "        The following options are available:\n",
      "    \n",
      "        * 'two-sided': the correlation is nonzero\n",
      "        * 'less': the correlation is negative (less than zero)\n",
      "        * 'greater':  the correlation is positive (greater than zero)\n",
      "    \n",
      "        .. versionadded:: 1.9.0\n",
      "    \n",
      "    Returns\n",
      "    -------\n",
      "    result : `~scipy.stats._result_classes.PearsonRResult`\n",
      "        An object with the following attributes:\n",
      "    \n",
      "        statistic : float\n",
      "            Pearson product-moment correlation coefficient.\n",
      "        pvalue : float\n",
      "            The p-value associated with the chosen alternative.\n",
      "    \n",
      "        The object has the following method:\n",
      "    \n",
      "        confidence_interval(confidence_level=0.95)\n",
      "            This method computes the confidence interval of the correlation\n",
      "            coefficient `statistic` for the given confidence level.\n",
      "            The confidence interval is returned in a ``namedtuple`` with\n",
      "            fields `low` and `high`.  See the Notes for more details.\n",
      "    \n",
      "    Warns\n",
      "    -----\n",
      "    `~scipy.stats.ConstantInputWarning`\n",
      "        Raised if an input is a constant array.  The correlation coefficient\n",
      "        is not defined in this case, so ``np.nan`` is returned.\n",
      "    \n",
      "    `~scipy.stats.NearConstantInputWarning`\n",
      "        Raised if an input is \"nearly\" constant.  The array ``x`` is considered\n",
      "        nearly constant if ``norm(x - mean(x)) < 1e-13 * abs(mean(x))``.\n",
      "        Numerical errors in the calculation ``x - mean(x)`` in this case might\n",
      "        result in an inaccurate calculation of r.\n",
      "    \n",
      "    See Also\n",
      "    --------\n",
      "    spearmanr : Spearman rank-order correlation coefficient.\n",
      "    kendalltau : Kendall's tau, a correlation measure for ordinal data.\n",
      "    \n",
      "    Notes\n",
      "    -----\n",
      "    The correlation coefficient is calculated as follows:\n",
      "    \n",
      "    .. math::\n",
      "    \n",
      "        r = \\frac{\\sum (x - m_x) (y - m_y)}\n",
      "                 {\\sqrt{\\sum (x - m_x)^2 \\sum (y - m_y)^2}}\n",
      "    \n",
      "    where :math:`m_x` is the mean of the vector x and :math:`m_y` is\n",
      "    the mean of the vector y.\n",
      "    \n",
      "    Under the assumption that x and y are drawn from\n",
      "    independent normal distributions (so the population correlation coefficient\n",
      "    is 0), the probability density function of the sample correlation\n",
      "    coefficient r is ([1]_, [2]_):\n",
      "    \n",
      "    .. math::\n",
      "        f(r) = \\frac{{(1-r^2)}^{n/2-2}}{\\mathrm{B}(\\frac{1}{2},\\frac{n}{2}-1)}\n",
      "    \n",
      "    where n is the number of samples, and B is the beta function.  This\n",
      "    is sometimes referred to as the exact distribution of r.  This is\n",
      "    the distribution that is used in `pearsonr` to compute the p-value.\n",
      "    The distribution is a beta distribution on the interval [-1, 1],\n",
      "    with equal shape parameters a = b = n/2 - 1.  In terms of SciPy's\n",
      "    implementation of the beta distribution, the distribution of r is::\n",
      "    \n",
      "        dist = scipy.stats.beta(n/2 - 1, n/2 - 1, loc=-1, scale=2)\n",
      "    \n",
      "    The default p-value returned by `pearsonr` is a two-sided p-value. For a\n",
      "    given sample with correlation coefficient r, the p-value is\n",
      "    the probability that abs(r') of a random sample x' and y' drawn from\n",
      "    the population with zero correlation would be greater than or equal\n",
      "    to abs(r). In terms of the object ``dist`` shown above, the p-value\n",
      "    for a given r and length n can be computed as::\n",
      "    \n",
      "        p = 2*dist.cdf(-abs(r))\n",
      "    \n",
      "    When n is 2, the above continuous distribution is not well-defined.\n",
      "    One can interpret the limit of the beta distribution as the shape\n",
      "    parameters a and b approach a = b = 0 as a discrete distribution with\n",
      "    equal probability masses at r = 1 and r = -1.  More directly, one\n",
      "    can observe that, given the data x = [x1, x2] and y = [y1, y2], and\n",
      "    assuming x1 != x2 and y1 != y2, the only possible values for r are 1\n",
      "    and -1.  Because abs(r') for any sample x' and y' with length 2 will\n",
      "    be 1, the two-sided p-value for a sample of length 2 is always 1.\n",
      "    \n",
      "    For backwards compatibility, the object that is returned also behaves\n",
      "    like a tuple of length two that holds the statistic and the p-value.\n",
      "    \n",
      "    References\n",
      "    ----------\n",
      "    .. [1] \"Pearson correlation coefficient\", Wikipedia,\n",
      "           https://en.wikipedia.org/wiki/Pearson_correlation_coefficient\n",
      "    .. [2] Student, \"Probable error of a correlation coefficient\",\n",
      "           Biometrika, Volume 6, Issue 2-3, 1 September 1908, pp. 302-310.\n",
      "    .. [3] C. J. Kowalski, \"On the Effects of Non-Normality on the Distribution\n",
      "           of the Sample Product-Moment Correlation Coefficient\"\n",
      "           Journal of the Royal Statistical Society. Series C (Applied\n",
      "           Statistics), Vol. 21, No. 1 (1972), pp. 1-12.\n",
      "    \n",
      "    Examples\n",
      "    --------\n",
      "    >>> import numpy as np\n",
      "    >>> from scipy import stats\n",
      "    >>> res = stats.pearsonr([1, 2, 3, 4, 5], [10, 9, 2.5, 6, 4])\n",
      "    >>> res\n",
      "    PearsonRResult(statistic=-0.7426106572325056, pvalue=0.15055580885344558)\n",
      "    >>> res.confidence_interval()\n",
      "    ConfidenceInterval(low=-0.9816918044786463, high=0.40501116769030976)\n",
      "    \n",
      "    There is a linear dependence between x and y if y = a + b*x + e, where\n",
      "    a,b are constants and e is a random error term, assumed to be independent\n",
      "    of x. For simplicity, assume that x is standard normal, a=0, b=1 and let\n",
      "    e follow a normal distribution with mean zero and standard deviation s>0.\n",
      "    \n",
      "    >>> rng = np.random.default_rng()\n",
      "    >>> s = 0.5\n",
      "    >>> x = stats.norm.rvs(size=500, random_state=rng)\n",
      "    >>> e = stats.norm.rvs(scale=s, size=500, random_state=rng)\n",
      "    >>> y = x + e\n",
      "    >>> stats.pearsonr(x, y).statistic\n",
      "    0.9001942438244763\n",
      "    \n",
      "    This should be close to the exact value given by\n",
      "    \n",
      "    >>> 1/np.sqrt(1 + s**2)\n",
      "    0.8944271909999159\n",
      "    \n",
      "    For s=0.5, we observe a high level of correlation. In general, a large\n",
      "    variance of the noise reduces the correlation, while the correlation\n",
      "    approaches one as the variance of the error goes to zero.\n",
      "    \n",
      "    It is important to keep in mind that no correlation does not imply\n",
      "    independence unless (x, y) is jointly normal. Correlation can even be zero\n",
      "    when there is a very simple dependence structure: if X follows a\n",
      "    standard normal distribution, let y = abs(x). Note that the correlation\n",
      "    between x and y is zero. Indeed, since the expectation of x is zero,\n",
      "    cov(x, y) = E[x*y]. By definition, this equals E[x*abs(x)] which is zero\n",
      "    by symmetry. The following lines of code illustrate this observation:\n",
      "    \n",
      "    >>> y = np.abs(x)\n",
      "    >>> stats.pearsonr(x, y)\n",
      "    PearsonRResult(statistic=-0.05444919272687482, pvalue=0.22422294836207743)\n",
      "    \n",
      "    A non-zero correlation coefficient can be misleading. For example, if X has\n",
      "    a standard normal distribution, define y = x if x < 0 and y = 0 otherwise.\n",
      "    A simple calculation shows that corr(x, y) = sqrt(2/Pi) = 0.797...,\n",
      "    implying a high level of correlation:\n",
      "    \n",
      "    >>> y = np.where(x < 0, x, 0)\n",
      "    >>> stats.pearsonr(x, y)\n",
      "    PearsonRResult(statistic=0.861985781588, pvalue=4.813432002751103e-149)\n",
      "    \n",
      "    This is unintuitive since there is no dependence of x and y if x is larger\n",
      "    than zero which happens in about half of the cases if we sample x and y.\n",
      "\n"
     ]
    }
   ],
   "source": [
    "from pydoc import help\n",
    "from scipy.stats.stats import pearsonr\n",
    "help(pearsonr)\n"
   ]
  },
  {
   "cell_type": "code",
   "execution_count": 61,
   "id": "b487121c",
   "metadata": {},
   "outputs": [
    {
     "data": {
      "text/plain": [
       "PearsonRResult(statistic=0.9779485966556021, pvalue=1.8097381433059864e-68)"
      ]
     },
     "execution_count": 61,
     "metadata": {},
     "output_type": "execute_result"
    }
   ],
   "source": [
    "pearsonr(df1, df2)"
   ]
  },
  {
   "cell_type": "markdown",
   "id": "ee3c1a55",
   "metadata": {},
   "source": [
    "Since the correlation coefficient is close to 1, this tells us that there is a strong positive association between the two variables."
   ]
  },
  {
   "cell_type": "markdown",
   "id": "c88f3bf7",
   "metadata": {},
   "source": [
    "And since the corresponding p-value is less than .05, we conclude that there is a statistically significant association between the two variables."
   ]
  },
  {
   "cell_type": "code",
   "execution_count": 63,
   "id": "16bc245d",
   "metadata": {},
   "outputs": [
    {
     "data": {
      "text/plain": [
       "PearsonRResult(statistic=0.9779485966556021, pvalue=1.8097381433059864e-68)"
      ]
     },
     "execution_count": 63,
     "metadata": {},
     "output_type": "execute_result"
    }
   ],
   "source": [
    "import scipy.stats\n",
    "scipy.stats.pearsonr(df1, df2) "
   ]
  },
  {
   "cell_type": "code",
   "execution_count": 65,
   "id": "ff1e92ee",
   "metadata": {},
   "outputs": [],
   "source": [
    "import matplotlib.pyplot as plt"
   ]
  },
  {
   "cell_type": "code",
   "execution_count": 67,
   "id": "b0495176",
   "metadata": {},
   "outputs": [],
   "source": [
    "slope, intercept, r, p, stderr = scipy.stats.linregress(df1, df2)"
   ]
  },
  {
   "cell_type": "code",
   "execution_count": 69,
   "id": "2d430799",
   "metadata": {},
   "outputs": [],
   "source": [
    "line = f'Regression line: y={intercept:.2f}+{slope:.2f}x, r={r:.2f}'"
   ]
  },
  {
   "cell_type": "code",
   "execution_count": 70,
   "id": "890e2ea6",
   "metadata": {},
   "outputs": [
    {
     "data": {
      "image/png": "[encoded data removed]",
      "text/plain": [
       "<Figure size 432x288 with 1 Axes>"
      ]
     },
     "metadata": {
      "needs_background": "light"
     },
     "output_type": "display_data"
    }
   ],
   "source": [
    "fig, ax = plt.subplots()\n",
    "ax.plot(df1, df2, linewidth=0, marker='s', label='Data points')\n",
    "ax.plot(df1, intercept + slope * df1, label=line)\n",
    "ax.set_xlabel('df1')\n",
    "ax.set_ylabel('df2')\n",
    "ax.legend(facecolor='white')\n",
    "plt.show()"
   ]
  },
  {
   "cell_type": "code",
   "execution_count": null,
   "id": "b88a5f10",
   "metadata": {},
   "outputs": [],
   "source": []
  }
 ],
 "metadata": {
  "kernelspec": {
   "display_name": "Python 3 (ipykernel)",
   "language": "python",
   "name": "python3"
  },
  "language_info": {
   "codemirror_mode": {
    "name": "ipython",
    "version": 3
   },
   "file_extension": ".py",
   "mimetype": "text/x-python",
   "name": "python",
   "nbconvert_exporter": "python",
   "pygments_lexer": "ipython3",
   "version": "3.9.12"
  }
 },
 "nbformat": 4,
 "nbformat_minor": 5
}

{
 "cells": [
  {
   "cell_type": "code",
   "execution_count": 1,
   "id": "a274c14f",
   "metadata": {},
   "outputs": [],
   "source": [
    "import pandas as pd"
   ]
  },
  {
   "cell_type": "code",
   "execution_count": 8,
   "id": "3fa41c68",
   "metadata": {},
   "outputs": [],
   "source": [
    "import requests\n",
    "\n",
    "df = pd.read_csv(\"data.csv\")"
   ]
  },
  {
   "cell_type": "code",
   "execution_count": 9,
   "id": "bdd18481",
   "metadata": {},
   "outputs": [
    {
     "data": {
      "text/html": [
       "<div>\n",
       "<style scoped>\n",
       "    .dataframe tbody tr th:only-of-type {\n",
       "        vertical-align: middle;\n",
       "    }\n",
       "\n",
       "    .dataframe tbody tr th {\n",
       "        vertical-align: top;\n",
       "    }\n",
       "\n",
       "    .dataframe thead th {\n",
       "        text-align: right;\n",
       "    }\n",
       "</style>\n",
       "<table border=\"1\" class=\"dataframe\">\n",
       "  <thead>\n",
       "    <tr style=\"text-align: right;\">\n",
       "      <th></th>\n",
       "      <th>Patient ID</th>\n",
       "      <th>Blood Pressure Before (mmHg)</th>\n",
       "      <th>Blood Pressure After (mmHg)</th>\n",
       "    </tr>\n",
       "  </thead>\n",
       "  <tbody>\n",
       "    <tr>\n",
       "      <th>0</th>\n",
       "      <td>1</td>\n",
       "      <td>130</td>\n",
       "      <td>120</td>\n",
       "    </tr>\n",
       "    <tr>\n",
       "      <th>1</th>\n",
       "      <td>2</td>\n",
       "      <td>142</td>\n",
       "      <td>135</td>\n",
       "    </tr>\n",
       "    <tr>\n",
       "      <th>2</th>\n",
       "      <td>3</td>\n",
       "      <td>120</td>\n",
       "      <td>118</td>\n",
       "    </tr>\n",
       "    <tr>\n",
       "      <th>3</th>\n",
       "      <td>4</td>\n",
       "      <td>135</td>\n",
       "      <td>127</td>\n",
       "    </tr>\n",
       "    <tr>\n",
       "      <th>4</th>\n",
       "      <td>5</td>\n",
       "      <td>148</td>\n",
       "      <td>140</td>\n",
       "    </tr>\n",
       "    <tr>\n",
       "      <th>...</th>\n",
       "      <td>...</td>\n",
       "      <td>...</td>\n",
       "      <td>...</td>\n",
       "    </tr>\n",
       "    <tr>\n",
       "      <th>95</th>\n",
       "      <td>96</td>\n",
       "      <td>136</td>\n",
       "      <td>129</td>\n",
       "    </tr>\n",
       "    <tr>\n",
       "      <th>96</th>\n",
       "      <td>97</td>\n",
       "      <td>143</td>\n",
       "      <td>137</td>\n",
       "    </tr>\n",
       "    <tr>\n",
       "      <th>97</th>\n",
       "      <td>98</td>\n",
       "      <td>127</td>\n",
       "      <td>123</td>\n",
       "    </tr>\n",
       "    <tr>\n",
       "      <th>98</th>\n",
       "      <td>99</td>\n",
       "      <td>139</td>\n",
       "      <td>135</td>\n",
       "    </tr>\n",
       "    <tr>\n",
       "      <th>99</th>\n",
       "      <td>100</td>\n",
       "      <td>135</td>\n",
       "      <td>130</td>\n",
       "    </tr>\n",
       "  </tbody>\n",
       "</table>\n",
       "<p>100 rows × 3 columns</p>\n",
       "</div>"
      ],
      "text/plain": [
       "    Patient ID   Blood Pressure Before (mmHg)   Blood Pressure After (mmHg)\n",
       "0            1                            130                           120\n",
       "1            2                            142                           135\n",
       "2            3                            120                           118\n",
       "3            4                            135                           127\n",
       "4            5                            148                           140\n",
       "..         ...                            ...                           ...\n",
       "95          96                            136                           129\n",
       "96          97                            143                           137\n",
       "97          98                            127                           123\n",
       "98          99                            139                           135\n",
       "99         100                            135                           130\n",
       "\n",
       "[100 rows x 3 columns]"
      ]
     },
     "execution_count": 9,
     "metadata": {},
     "output_type": "execute_result"
    }
   ],
   "source": [
    "df"
   ]
  },
  {
   "cell_type": "code",
   "execution_count": 10,
   "id": "b8d2a037",
   "metadata": {},
   "outputs": [],
   "source": [
    "from statistics import mean, median, mode, stdev"
   ]
  },
  {
   "cell_type": "code",
   "execution_count": 11,
   "id": "3fc1d445",
   "metadata": {},
   "outputs": [
    {
     "data": {
      "text/plain": [
       "(100, 3)"
      ]
     },
     "execution_count": 11,
     "metadata": {},
     "output_type": "execute_result"
    }
   ],
   "source": [
    "df.shape"
   ]
  },
  {
   "cell_type": "code",
   "execution_count": 12,
   "id": "3cd3d2e1",
   "metadata": {},
   "outputs": [],
   "source": [
    "import statistics as st"
   ]
  },
  {
   "cell_type": "code",
   "execution_count": 17,
   "id": "42ec7817",
   "metadata": {},
   "outputs": [
    {
     "data": {
      "text/plain": [
       "Index(['Patient ID', ' Blood Pressure Before (mmHg)',\n",
       "       ' Blood Pressure After (mmHg)'],\n",
       "      dtype='object')"
      ]
     },
     "execution_count": 17,
     "metadata": {},
     "output_type": "execute_result"
    }
   ],
   "source": [
    "df.columns"
   ]
  },
  {
   "cell_type": "code",
   "execution_count": 19,
   "id": "58947fd6",
   "metadata": {},
   "outputs": [],
   "source": [
    "df1 = df[' Blood Pressure Before (mmHg)']"
   ]
  },
  {
   "cell_type": "markdown",
   "id": "4dd24466",
   "metadata": {},
   "source": [
    "Mean calculation for Blood pressure before"
   ]
  },
  {
   "cell_type": "code",
   "execution_count": 20,
   "id": "9946d58f",
   "metadata": {},
   "outputs": [
    {
     "data": {
      "text/plain": [
       "133.91"
      ]
     },
     "execution_count": 20,
     "metadata": {},
     "output_type": "execute_result"
    }
   ],
   "source": [
    "st.mean(df1)"
   ]
  },
  {
   "cell_type": "code",
   "execution_count": 21,
   "id": "30f75497",
   "metadata": {},
   "outputs": [],
   "source": [
    "df2 = df[' Blood Pressure After (mmHg)']"
   ]
  },
  {
   "cell_type": "markdown",
   "id": "97915fd6",
   "metadata": {},
   "source": [
    "Mean calculation for Blood pressure after"
   ]
  },
  {
   "cell_type": "code",
   "execution_count": 22,
   "id": "3952e58c",
   "metadata": {},
   "outputs": [
    {
     "data": {
      "text/plain": [
       "128.36"
      ]
     },
     "execution_count": 22,
     "metadata": {},
     "output_type": "execute_result"
    }
   ],
   "source": [
    "st.mean(df2)"
   ]
  },
  {
   "cell_type": "code",
   "execution_count": null,
   "id": "a1a4e1d6",
   "metadata": {},
   "outputs": [],
   "source": [
    "st"
   ]
  },
  {
   "cell_type": "markdown",
   "id": "bfd4052b",
   "metadata": {},
   "source": [
    "median calculation for Blood pressure before"
   ]
  },
  {
   "cell_type": "code",
   "execution_count": 23,
   "id": "80dc660b",
   "metadata": {},
   "outputs": [
    {
     "data": {
      "text/plain": [
       "135.0"
      ]
     },
     "execution_count": 23,
     "metadata": {},
     "output_type": "execute_result"
    }
   ],
   "source": [
    "st.median(df1)"
   ]
  },
  {
   "cell_type": "markdown",
   "id": "013fccb0",
   "metadata": {},
   "source": [
    "Mean calculation for Blood pressure after"
   ]
  },
  {
   "cell_type": "code",
   "execution_count": 24,
   "id": "08fae54d",
   "metadata": {},
   "outputs": [
    {
     "data": {
      "text/plain": [
       "128.0"
      ]
     },
     "execution_count": 24,
     "metadata": {},
     "output_type": "execute_result"
    }
   ],
   "source": [
    "st.median(df2)"
   ]
  },
  {
   "cell_type": "markdown",
   "id": "bcfc2159",
   "metadata": {},
   "source": [
    "Variance calculation"
   ]
  },
  {
   "cell_type": "code",
   "execution_count": 25,
   "id": "e4b6a044",
   "metadata": {},
   "outputs": [
    {
     "data": {
      "text/plain": [
       "43.53727272727273"
      ]
     },
     "execution_count": 25,
     "metadata": {},
     "output_type": "execute_result"
    }
   ],
   "source": [
    "st.variance(df1)"
   ]
  },
  {
   "cell_type": "code",
   "execution_count": 26,
   "id": "a9926a08",
   "metadata": {},
   "outputs": [
    {
     "data": {
      "text/plain": [
       "47.444848484848485"
      ]
     },
     "execution_count": 26,
     "metadata": {},
     "output_type": "execute_result"
    }
   ],
   "source": [
    "st.variance(df2)"
   ]
  },
  {
   "cell_type": "markdown",
   "id": "c12249b1",
   "metadata": {},
   "source": [
    "Population Variance"
   ]
  },
  {
   "cell_type": "code",
   "execution_count": 39,
   "id": "38d8ed6f",
   "metadata": {},
   "outputs": [
    {
     "name": "stdout",
     "output_type": "stream",
     "text": [
      "43.1019\n",
      "46.9704\n"
     ]
    }
   ],
   "source": [
    "def var_population(x):\n",
    "    var_pop = st.variance(x)*((len(x)-1)/len(x))\n",
    "    return var_pop\n",
    "\n",
    "print(var_population(df1))\n",
    "print(var_population(df2))"
   ]
  },
  {
   "cell_type": "markdown",
   "id": "da5c436b",
   "metadata": {},
   "source": [
    "the population variance is slightly less than the sample variance"
   ]
  },
  {
   "cell_type": "raw",
   "id": "01c5aaed",
   "metadata": {},
   "source": [
    "Standard Deviation calculation"
   ]
  },
  {
   "cell_type": "code",
   "execution_count": 27,
   "id": "2fdd0cc4",
   "metadata": {},
   "outputs": [
    {
     "data": {
      "text/plain": [
       "6.598278012275076"
      ]
     },
     "execution_count": 27,
     "metadata": {},
     "output_type": "execute_result"
    }
   ],
   "source": [
    "st.stdev(df1)"
   ]
  },
  {
   "cell_type": "code",
   "execution_count": 29,
   "id": "9114cabb",
   "metadata": {},
   "outputs": [
    {
     "data": {
      "text/plain": [
       "6.888022102523226"
      ]
     },
     "execution_count": 29,
     "metadata": {},
     "output_type": "execute_result"
    }
   ],
   "source": [
    "st.stdev(df2)"
   ]
  },
  {
   "cell_type": "code",
   "execution_count": 41,
   "id": "59a9b0b5",
   "metadata": {},
   "outputs": [
    {
     "name": "stdout",
     "output_type": "stream",
     "text": [
      "Standard Deviation of Sample: 6.598278012275076\n",
      "Standard Deviation of population: 6.56520372875054\n"
     ]
    }
   ],
   "source": [
    "import numpy as np\n",
    "\n",
    "std_x = np.sqrt(st.variance(df1))\n",
    "print(\"Standard Deviation of Sample:\",std_x)\n",
    "\n",
    "#calculate the Standard deviation of population\n",
    "std_pop = np.sqrt(var_population(df1))\n",
    "print(\"Standard Deviation of population:\", std_pop)"
   ]
  },
  {
   "cell_type": "raw",
   "id": "994d4c1f",
   "metadata": {},
   "source": [
    "Blood Pressure after"
   ]
  },
  {
   "cell_type": "code",
   "execution_count": 42,
   "id": "59067d97",
   "metadata": {},
   "outputs": [
    {
     "name": "stdout",
     "output_type": "stream",
     "text": [
      "Standard Deviation of Sample: 6.888022102523226\n",
      "Standard Deviation of population: 6.853495458523336\n"
     ]
    }
   ],
   "source": [
    "std_x = np.sqrt(st.variance(df2))\n",
    "print(\"Standard Deviation of Sample:\",std_x)\n",
    "\n",
    "#calculate the Standard deviation of population\n",
    "std_pop = np.sqrt(var_population(df2))\n",
    "print(\"Standard Deviation of population:\", std_pop)"
   ]
  },
  {
   "cell_type": "markdown",
   "id": "bac1728a",
   "metadata": {},
   "source": [
    "A low coefficient of variation indicates the values are not very widely dispersed, but a higher value indicates a greater dispersion of the sample."
   ]
  },
  {
   "cell_type": "code",
   "execution_count": 30,
   "id": "b33740cc",
   "metadata": {},
   "outputs": [
    {
     "data": {
      "text/plain": [
       "Patient ID                       0.000000\n",
       " Blood Pressure Before (mmHg)    0.144983\n",
       " Blood Pressure After (mmHg)     0.267724\n",
       "dtype: float64"
      ]
     },
     "execution_count": 30,
     "metadata": {},
     "output_type": "execute_result"
    }
   ],
   "source": [
    "df.skew()"
   ]
  },
  {
   "cell_type": "code",
   "execution_count": 34,
   "id": "ffc76d86",
   "metadata": {},
   "outputs": [],
   "source": [
    "import seaborn as sns\n",
    "import matplotlib as plt"
   ]
  },
  {
   "cell_type": "markdown",
   "id": "d3f9bd9a",
   "metadata": {},
   "source": [
    "The distribution is symmetric"
   ]
  },
  {
   "cell_type": "code",
   "execution_count": 38,
   "id": "3c2b6b34",
   "metadata": {},
   "outputs": [
    {
     "name": "stderr",
     "output_type": "stream",
     "text": [
      "D:\\ineuron\\lib\\site-packages\\seaborn\\distributions.py:2619: FutureWarning: `distplot` is a deprecated function and will be removed in a future version. Please adapt your code to use either `displot` (a figure-level function with similar flexibility) or `histplot` (an axes-level function for histograms).\n",
      "  warnings.warn(msg, FutureWarning)\n"
     ]
    },
    {
     "ename": "AttributeError",
     "evalue": "module 'matplotlib' has no attribute 'show'",
     "output_type": "error",
     "traceback": [
      "\u001b[1;31m---------------------------------------------------------------------------\u001b[0m",
      "\u001b[1;31mAttributeError\u001b[0m                            Traceback (most recent call last)",
      "Input \u001b[1;32mIn [38]\u001b[0m, in \u001b[0;36m<cell line: 5>\u001b[1;34m()\u001b[0m\n\u001b[0;32m      3\u001b[0m ax\u001b[38;5;241m.\u001b[39mset_ylabel(\u001b[38;5;124m'\u001b[39m\u001b[38;5;124m Blood Pressure After (mmHg)\u001b[39m\u001b[38;5;124m'\u001b[39m)\n\u001b[0;32m      4\u001b[0m ax\u001b[38;5;241m.\u001b[39mset_xlabel(\u001b[38;5;124m'\u001b[39m\u001b[38;5;124m Blood Pressure Before (mmHg)\u001b[39m\u001b[38;5;124m'\u001b[39m)\n\u001b[1;32m----> 5\u001b[0m \u001b[43mplt\u001b[49m\u001b[38;5;241;43m.\u001b[39;49m\u001b[43mshow\u001b[49m()\n",
      "File \u001b[1;32mD:\\ineuron\\lib\\site-packages\\matplotlib\\_api\\__init__.py:222\u001b[0m, in \u001b[0;36mcaching_module_getattr.<locals>.__getattr__\u001b[1;34m(name)\u001b[0m\n\u001b[0;32m    220\u001b[0m \u001b[38;5;28;01mif\u001b[39;00m name \u001b[38;5;129;01min\u001b[39;00m props:\n\u001b[0;32m    221\u001b[0m     \u001b[38;5;28;01mreturn\u001b[39;00m props[name]\u001b[38;5;241m.\u001b[39m\u001b[38;5;21m__get__\u001b[39m(instance)\n\u001b[1;32m--> 222\u001b[0m \u001b[38;5;28;01mraise\u001b[39;00m \u001b[38;5;167;01mAttributeError\u001b[39;00m(\n\u001b[0;32m    223\u001b[0m     \u001b[38;5;124mf\u001b[39m\u001b[38;5;124m\"\u001b[39m\u001b[38;5;124mmodule \u001b[39m\u001b[38;5;132;01m{\u001b[39;00m\u001b[38;5;28mcls\u001b[39m\u001b[38;5;241m.\u001b[39m\u001b[38;5;18m__module__\u001b[39m\u001b[38;5;132;01m!r}\u001b[39;00m\u001b[38;5;124m has no attribute \u001b[39m\u001b[38;5;132;01m{\u001b[39;00mname\u001b[38;5;132;01m!r}\u001b[39;00m\u001b[38;5;124m\"\u001b[39m)\n",
      "\u001b[1;31mAttributeError\u001b[0m: module 'matplotlib' has no attribute 'show'"
     ]
    },
    {
     "data": {
      "image/png": "[encoded data removed]",
      "text/plain": [
       "<Figure size 432x288 with 1 Axes>"
      ]
     },
     "metadata": {
      "needs_background": "light"
     },
     "output_type": "display_data"
    }
   ],
   "source": [
    "#fig = plt.figure(figsize=(12, 4))\n",
    "ax = sns.distplot(df[' Blood Pressure Before (mmHg)'].dropna())\n",
    "ax.set_ylabel(' Blood Pressure After (mmHg)')\n",
    "ax.set_xlabel(' Blood Pressure Before (mmHg)')\n",
    "plt.show()"
   ]
  },
  {
   "cell_type": "code",
   "execution_count": null,
   "id": "61a03343",
   "metadata": {},
   "outputs": [],
   "source": []
  }
 ],
 "metadata": {
  "kernelspec": {
   "display_name": "Python 3 (ipykernel)",
   "language": "python",
   "name": "python3"
  },
  "language_info": {
   "codemirror_mode": {
    "name": "ipython",
    "version": 3
   },
   "file_extension": ".py",
   "mimetype": "text/x-python",
   "name": "python",
   "nbconvert_exporter": "python",
   "pygments_lexer": "ipython3",
   "version": "3.9.12"
  }
 },
 "nbformat": 4,
 "nbformat_minor": 5
}

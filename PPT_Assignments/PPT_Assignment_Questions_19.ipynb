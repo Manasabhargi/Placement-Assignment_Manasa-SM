{
 "cells": [
  {
   "cell_type": "markdown",
   "id": "5f55718c",
   "metadata": {},
   "source": [
    "# Assignment Questions - 19"
   ]
  },
  {
   "cell_type": "markdown",
   "id": "f03d6dec",
   "metadata": {},
   "source": [
    "💡 1. **Merge k Sorted Lists**\n",
    "\n",
    "**You are given an array of `k` linked-lists `lists`, each linked-list is sorted in ascending order**\n",
    "\n",
    "**Merge all the linked-lists into one sorted linked-list and return it**\n"
   ]
  },
  {
   "cell_type": "code",
   "execution_count": 2,
   "id": "a35124ee",
   "metadata": {},
   "outputs": [
    {
     "name": "stdout",
     "output_type": "stream",
     "text": [
      "1 1 2 3 4 4 5 6 "
     ]
    }
   ],
   "source": [
    "# Python3 program to merge k\n",
    "# sorted arrays of size n each\n",
    "\n",
    "# A Linked List node\n",
    "\n",
    "\n",
    "class Node:\n",
    "\n",
    "    def __init__(self, x):\n",
    "\n",
    "        self.data = x\n",
    "        self.next = None\n",
    "\n",
    "# Function to print nodes in\n",
    "# a given linked list\n",
    "\n",
    "\n",
    "def printList(node):\n",
    "\n",
    "    while (node != None):\n",
    "        print(node.data,end=\" \")\n",
    "        node = node.next\n",
    "\n",
    "# The main function that\n",
    "# takes an array of lists\n",
    "# arr[0..last] and generates\n",
    "# the sorted output\n",
    "\n",
    "\n",
    "def mergeKLists(arr, last):\n",
    "\n",
    "# Traverse form second\n",
    "# list to last\n",
    "    for i in range(1, last + 1):\n",
    "        while (True):\n",
    "# head of both the lists,\n",
    "# 0 and ith list.\n",
    "            head_0 = arr[0]\n",
    "            head_i = arr[i]\n",
    "\n",
    "# Break if list ended\n",
    "            if (head_i == None):\n",
    "                break\n",
    "\n",
    "# Smaller than first\n",
    "# element\n",
    "            if (head_0.data >=head_i.data):\n",
    "                arr[i] = head_i.next\n",
    "                head_i.next = head_0\n",
    "                arr[0] = head_i\n",
    "            else:\n",
    "# Traverse the first list\n",
    "                while (head_0.next != None):\n",
    "# Smaller than next\n",
    "# element\n",
    "                    if (head_0.next.data >=head_i.data):\n",
    "                        arr[i] = head_i.next\n",
    "                        head_i.next = head_0.next\n",
    "                        head_0.next = head_i\n",
    "                        break\n",
    "# go to next node\n",
    "                    head_0 = head_0.next\n",
    "# if last node\n",
    "                    if (head_0.next == None):\n",
    "                        arr[i] = head_i.next\n",
    "                        head_i.next = None\n",
    "                        head_0.next = head_i\n",
    "                        head_0.next.next = None\n",
    "                        break\n",
    "    return arr[0]\n",
    "\n",
    "\n",
    "# Driver code\n",
    "if __name__ == '__main__':\n",
    "\n",
    "# Number of linked\n",
    "# lists\n",
    "    k = 3\n",
    "\n",
    "# Number of elements\n",
    "# in each list\n",
    "    n = 4\n",
    "\n",
    "# an array of pointers\n",
    "# storing the head nodes\n",
    "# of the linked lists\n",
    "    arr = [None for i in range(k)]\n",
    "\n",
    "    arr[0] = Node(1)\n",
    "    arr[0].next = Node(4)\n",
    "    arr[0].next.next = Node(5)\n",
    "\n",
    "\n",
    "    arr[1] = Node(1)\n",
    "    arr[1].next = Node(3)\n",
    "    arr[1].next.next = Node(4)\n",
    "\n",
    "\n",
    "    arr[2] = Node(2)\n",
    "    arr[2].next = Node(6)\n",
    "\n",
    "\n",
    "# Merge all lists\n",
    "    head = mergeKLists(arr, k - 1)\n",
    "\n",
    "    printList(head)\n"
   ]
  },
  {
   "cell_type": "markdown",
   "id": "b01fdb95",
   "metadata": {},
   "source": [
    "💡 2. **Count of Smaller Numbers After Self**\n",
    "\n",
    "**Given an integer array `nums`, return *an integer array* `counts` *where* `counts[i]` *is the number of smaller elements to the right of* `nums[i]`**"
   ]
  },
  {
   "cell_type": "code",
   "execution_count": 4,
   "id": "e2bf93d4",
   "metadata": {},
   "outputs": [
    {
     "name": "stdout",
     "output_type": "stream",
     "text": [
      "2 1 1 0 \n"
     ]
    }
   ],
   "source": [
    "def constructLowerArray(arr, countSmaller, n):\n",
    "\n",
    "# initialize all the counts in countSmaller array as 0\n",
    "    for i in range(n):\n",
    "        countSmaller[i] = 0\n",
    "\n",
    "    for i in range(n):\n",
    "        for j in range(i + 1, n):\n",
    "            if (arr[j] < arr[i]):\n",
    "                countSmaller[i] += 1\n",
    "\n",
    "# Utility function that prints out an array on a line\n",
    "\n",
    "\n",
    "def printArray(arr, size):\n",
    "    for i in range(size):\n",
    "        print(arr[i], end=\" \")\n",
    "    print()\n",
    "\n",
    "\n",
    "# Driver code\n",
    "arr = [5,2,6,1]\n",
    "n = len(arr)\n",
    "low = [0]*n\n",
    "constructLowerArray(arr, low, n)\n",
    "printArray(low, n)\n",
    "\n",
    "\n"
   ]
  },
  {
   "cell_type": "markdown",
   "id": "8bd620bc",
   "metadata": {},
   "source": [
    "💡 3. **Sort an Array**\n",
    "\n",
    "**Given an array of integers `nums`, sort the array in ascending order and return it**\n",
    "\n",
    "**You must solve the problem **without using any built-in** functions in `O(nlog(n))` time complexity and with the smallest space complexity possible**\n"
   ]
  },
  {
   "cell_type": "code",
   "execution_count": 8,
   "id": "33824829",
   "metadata": {},
   "outputs": [
    {
     "name": "stdout",
     "output_type": "stream",
     "text": [
      "1 2 3 4 5 "
     ]
    }
   ],
   "source": [
    "# Python3 program for the above approach\n",
    "\n",
    "# Function to print array element\n",
    "def printArray(arr, N):\n",
    "\n",
    "# Traverse the array\n",
    "    for i in range(N):\n",
    "        print(arr[i], end = ' ')\n",
    "\n",
    "# Function to sort the array in O(N)\n",
    "def sortArray(arr, N):\n",
    "\n",
    "    i = 0\n",
    "\n",
    "# Traverse the array\n",
    "    while i < N:\n",
    "\n",
    "# If the current element is\n",
    "# at correct position\n",
    "        if arr[i] == i + 1:\n",
    "            i += 1\n",
    "\n",
    "# Else swap the current element\n",
    "# with it's correct position\n",
    "        else:\n",
    "\n",
    "# Swap the value of\n",
    "# arr[i] and arr[arr[i]-1]\n",
    "            temp1 = arr[i]\n",
    "            temp2 = arr[arr[i] - 1]\n",
    "            arr[i] = temp2\n",
    "            arr[temp1 - 1] = temp1\n",
    "\n",
    "# Driver code\n",
    "if __name__=='__main__':\n",
    "\n",
    "    arr = [ 2, 1, 5, 3, 4 ]\n",
    "    N = len(arr)\n",
    "\n",
    "# Function call to sort the array\n",
    "    sortArray(arr, N)\n",
    "\n",
    "    # Function call to print the array\n",
    "    printArray(arr, N)\n",
    "\n",
    "\n"
   ]
  },
  {
   "cell_type": "markdown",
   "id": "52ef480e",
   "metadata": {},
   "source": [
    "💡 4. **Move all zeroes to end of array**\n",
    "\n",
    "**Given an array of random numbers, Push all the zero’s of a given array to the end of the array. For example, if the given arrays is {1, 9, 8, 4, 0, 0, 2, 7, 0, 6, 0}, it should be changed to {1, 9, 8, 4, 2, 7, 6, 0, 0, 0, 0}. The order of all other elements should be same. Expected time complexity is O(n) and extra space is O(1)**\n",
    "\n"
   ]
  },
  {
   "cell_type": "code",
   "execution_count": 2,
   "id": "df500f60",
   "metadata": {},
   "outputs": [
    {
     "name": "stdout",
     "output_type": "stream",
     "text": [
      "Array after pushing all zeros to end of array:\n",
      "[1, 9, 8, 4, 2, 7, 6, 9, 0, 0, 0, 0]\n"
     ]
    }
   ],
   "source": [
    "# Python3 code to move all zeroes\n",
    "# at the end of array\n",
    "\n",
    "# Function which pushes all\n",
    "# zeros to end of an array.\n",
    "def pushZerosToEnd(arr, n):\n",
    "    count = 0 # Count of non-zero elements\n",
    "\n",
    "# Traverse the array. If element\n",
    "# encountered is non-zero, then\n",
    "# replace the element at index\n",
    "# 'count' with this element\n",
    "    for i in range(n):\n",
    "        if arr[i] != 0:\n",
    "\n",
    "# here count is incremented\n",
    "            arr[count] = arr[i]\n",
    "            count+=1\n",
    "\n",
    "# Now all non-zero elements have been\n",
    "# shifted to front and 'count' is set\n",
    "# as index of first 0. Make all\n",
    "# elements 0 from count to end.\n",
    "    while count < n:\n",
    "        arr[count] = 0\n",
    "        count += 1\n",
    "\n",
    "# Driver code\n",
    "arr = [1, 9, 8, 4, 0, 0, 2, 7, 0, 6, 0, 9]\n",
    "n = len(arr)\n",
    "pushZerosToEnd(arr, n)\n",
    "print(\"Array after pushing all zeros to end of array:\")\n",
    "print(arr)\n",
    "\n",
    "\n"
   ]
  },
  {
   "cell_type": "markdown",
   "id": "ba053089",
   "metadata": {},
   "source": [
    "💡 5. **Rearrange array in alternating positive & negative items with O(1) extra space**\n",
    "\n",
    "**Given an **array of positive** and **negative numbers**, arrange them in an **alternate** fashion such that every positive number is followed by a negative and vice-versa maintaining the **order of appearance**. The number of positive and negative numbers need not be equal. If there are more positive numbers they appear at the end of the array. If there are more negative numbers, they too appear at the end of the array**\n"
   ]
  },
  {
   "cell_type": "code",
   "execution_count": 2,
   "id": "8e2fce26",
   "metadata": {},
   "outputs": [
    {
     "name": "stdout",
     "output_type": "stream",
     "text": [
      "Given Array is:\n",
      "[1, 2, 3, -4, -1, 4]\n",
      "\n",
      "Rearranged array is:\n",
      "[-4, 1, -1, 2, 3, 4]\n"
     ]
    }
   ],
   "source": [
    "# Python3 program to rearrange\n",
    "# positive and negative integers\n",
    "# in alternate fashion and\n",
    "# maintaining the order of positive\n",
    "# and negative numbers\n",
    "\n",
    "def rightRotate(arr, n, outOfPlace, cur):\n",
    "    temp = arr[cur]\n",
    "    for i in range(cur, outOfPlace, -1):\n",
    "        arr[i] = arr[i - 1]\n",
    "    arr[outOfPlace] = temp\n",
    "    return arr\n",
    "\n",
    "\n",
    "def rearrange(arr, n):\n",
    "    outOfPlace = -1\n",
    "    for index in range(n):\n",
    "        if(outOfPlace >= 0):\n",
    "\n",
    "# if element at outOfPlace place in\n",
    "# negative and if element at index\n",
    "# is positive we can rotate the\n",
    "# array to right or if element\n",
    "# at outOfPlace place in positive and\n",
    "# if element at index is negative we\n",
    "# can rotate the array to right\n",
    "            if((arr[index] >= 0 and arr[outOfPlace] < 0) or\n",
    "            (arr[index] < 0 and arr[outOfPlace] >= 0)):\n",
    "                arr = rightRotate(arr, n, outOfPlace, index)\n",
    "                if(index-outOfPlace > 2):\n",
    "                    outOfPlace += 2\n",
    "                else:\n",
    "                    outOfPlace = - 1\n",
    "\n",
    "        if(outOfPlace == -1):\n",
    "\n",
    "# conditions for A[index] to\n",
    "# be in out of place\n",
    "            if((arr[index] >= 0 and index % 2 == 0) or\n",
    "            (arr[index] < 0 and index % 2 == 1)):\n",
    "                outOfPlace = index\n",
    "    return arr\n",
    "\n",
    "\n",
    "# Driver Code\n",
    "arr = [1, 2, 3, -4, -1, 4]\n",
    "\n",
    "print(\"Given Array is:\")\n",
    "print(arr)\n",
    "\n",
    "print(\"\\nRearranged array is:\")\n",
    "print(rearrange(arr, len(arr)))\n"
   ]
  },
  {
   "cell_type": "markdown",
   "id": "9ec6719f",
   "metadata": {},
   "source": [
    "💡 **6. Merge two sorted arrays**\n",
    "\n",
    "**Given two sorted arrays, the task is to merge them in a sorted manner**\n"
   ]
  },
  {
   "cell_type": "code",
   "execution_count": 3,
   "id": "6ee2ffcc",
   "metadata": {},
   "outputs": [
    {
     "name": "stdout",
     "output_type": "stream",
     "text": [
      "Array after merging\n",
      "1 2 3 4 5 6 7 8 "
     ]
    }
   ],
   "source": [
    "# Python program to merge two sorted arrays/\n",
    "def mergeArrays(arr1, arr2, n1, n2, arr3):\n",
    "    i = 0\n",
    "    j = 0\n",
    "    k = 0\n",
    "\n",
    "# traverse the arr1 and insert its element in arr3\n",
    "    while(i < n1):\n",
    "        arr3[k] = arr1[i]\n",
    "        k += 1\n",
    "        i += 1\n",
    "\n",
    "# now traverse arr2 and insert in arr3\n",
    "    while(j < n2):\n",
    "        arr3[k] = arr2[j]\n",
    "        k += 1\n",
    "        j += 1\n",
    "\n",
    "# sort the whole array arr3\n",
    "    arr3.sort()\n",
    "\n",
    "\n",
    "# Driver code\n",
    "if __name__ == '__main__':\n",
    "    arr1 = [1, 3, 5, 7]\n",
    "    n1 = len(arr1)\n",
    "\n",
    "    arr2 = [2, 4, 6, 8]\n",
    "    n2 = len(arr2)\n",
    "\n",
    "    arr3 = [0 for i in range(n1+n2)]\n",
    "    mergeArrays(arr1, arr2, n1, n2, arr3)\n",
    "\n",
    "    print(\"Array after merging\")\n",
    "    for i in range(n1 + n2):\n",
    "        print(arr3[i], end=\" \")\n",
    "\n",
    "\n"
   ]
  },
  {
   "cell_type": "markdown",
   "id": "d238e4a8",
   "metadata": {},
   "source": [
    "💡 7. **Intersection of Two Arrays**\n",
    "\n",
    "Given two integer arrays `nums1` and `nums2`, return *an array of their intersection*. Each element in the result must be **unique** and you may return the result in **any order**.\n"
   ]
  },
  {
   "cell_type": "code",
   "execution_count": 8,
   "id": "c62ba04e",
   "metadata": {},
   "outputs": [
    {
     "data": {
      "text/plain": [
       "[2]"
      ]
     },
     "execution_count": 8,
     "metadata": {},
     "output_type": "execute_result"
    }
   ],
   "source": [
    "from typing import List\n",
    "from collections import defaultdict\n",
    "\n",
    "class Solution:\n",
    "    def intersection(self, nums1: List[int], nums2: List[int]) -> List[int]:\n",
    "        ans=[]\n",
    "        dc=defaultdict(lambda:0)\n",
    "        for a in nums1:\n",
    "            dc[a]=1\n",
    "        nums2=set(nums2)\n",
    "        for a in nums2:\n",
    "            if(dc[a]==1):\n",
    "                ans.append(a)\n",
    "        return ans\n",
    "    \n",
    "r = Solution()\n",
    "r.intersection([1,2,2,1],[2,2])"
   ]
  },
  {
   "cell_type": "markdown",
   "id": "9470971b",
   "metadata": {},
   "source": [
    "\n",
    "💡 8. **Intersection of Two Arrays II**\n",
    "\n",
    "Given two integer arrays `nums1` and `nums2`, return *an array of their intersection*. Each element in the result must appear as many times as it shows in both arrays and you may return the result in **any order**.\n"
   ]
  },
  {
   "cell_type": "code",
   "execution_count": 10,
   "id": "6f838815",
   "metadata": {},
   "outputs": [
    {
     "name": "stdout",
     "output_type": "stream",
     "text": [
      "Union of two arrays is : \n",
      "1\n",
      "2\n",
      "3\n",
      "5\n",
      "6\n",
      "7\n",
      "8\n",
      "20\n",
      "Intersection of two arrays is : \n",
      "3\n",
      "6\n",
      "7\n"
     ]
    }
   ],
   "source": [
    "# JavaScript program for the above approach\n",
    "# function to print Union of two\n",
    "# arrays arr1 and arr2\n",
    "def printUnion(arr1, arr2, m, n):\n",
    "    arr1.sort()\n",
    "    arr2.sort()\n",
    "    i = 0\n",
    "    j = 0\n",
    "    while(i < m and j < n):\n",
    "        if(arr1[i] < arr2[j]):\n",
    "            print(arr1[i])\n",
    "            i += 1\n",
    "        elif (arr2[j] < arr1[i]):\n",
    "            print(arr2[j])\n",
    "            j += 1\n",
    "        else:\n",
    "            print(arr2[j])\n",
    "            j += 1\n",
    "            i += 1\n",
    "\n",
    "# printing remaining elements of the larger array\n",
    "    while(i < m):\n",
    "        print(arr1[i])\n",
    "        i += 1\n",
    "    while(j < n):\n",
    "        print(arr2[j])\n",
    "        j += 1\n",
    "\n",
    "\n",
    "# function prints intersection of arr1 and arr2\n",
    "def printIntersection(arr1, arr2, m, n):\n",
    "    arr1.sort()\n",
    "    arr2.sort()\n",
    "    i = 0\n",
    "    j = 0\n",
    "    while(i < m and j < n):\n",
    "        if(arr1[i] < arr2[j]):\n",
    "            i += 1\n",
    "        elif(arr2[j] < arr1[i]):\n",
    "            j += 1\n",
    "        else:\n",
    "            print(arr2[j])\n",
    "            j += 1\n",
    "            i += 1\n",
    "\n",
    "\n",
    "# driver program to test above functions\n",
    "arr1 = [ 7, 1, 5, 2, 3, 6 ]\n",
    "arr2 = [ 3, 8, 6, 20, 7 ]\n",
    "m = len(arr1)\n",
    "n = len(arr2)\n",
    "\n",
    "# function call\n",
    "print(\"Union of two arrays is : \")\n",
    "printUnion(arr1, arr2, m, n)\n",
    "\n",
    "print(\"Intersection of two arrays is : \")\n",
    "printIntersection(arr1, arr2, m, n)\n"
   ]
  },
  {
   "cell_type": "code",
   "execution_count": null,
   "id": "43b29586",
   "metadata": {},
   "outputs": [],
   "source": []
  }
 ],
 "metadata": {
  "kernelspec": {
   "display_name": "Python 3 (ipykernel)",
   "language": "python",
   "name": "python3"
  },
  "language_info": {
   "codemirror_mode": {
    "name": "ipython",
    "version": 3
   },
   "file_extension": ".py",
   "mimetype": "text/x-python",
   "name": "python",
   "nbconvert_exporter": "python",
   "pygments_lexer": "ipython3",
   "version": "3.9.12"
  }
 },
 "nbformat": 4,
 "nbformat_minor": 5
}

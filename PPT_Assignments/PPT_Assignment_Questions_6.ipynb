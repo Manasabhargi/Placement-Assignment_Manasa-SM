{
 "cells": [
  {
   "cell_type": "markdown",
   "id": "9b061f7f",
   "metadata": {},
   "source": [
    "# Assignment Questions - 6"
   ]
  },
  {
   "cell_type": "markdown",
   "id": "ce82361e",
   "metadata": {},
   "source": [
    "\n",
    "💡 **Question 1**\n",
    "\n",
    "**A permutation perm of n + 1 integers of all the integers in the range [0, n] can be represented as a string s of length n where:**\n",
    "\n",
    " - s[i] == 'I' if perm[i] < perm[i + 1], and - s[i] == 'D' if perm[i] > perm[i + 1]. \n",
    "\n",
    "**Given a string s, reconstruct the permutation perm and return it. If there are multiple valid permutations perm, return **any of them**\n",
    "\n"
   ]
  },
  {
   "cell_type": "code",
   "execution_count": 2,
   "id": "40b0f019",
   "metadata": {},
   "outputs": [
    {
     "data": {
      "text/plain": [
       "[0, 4, 1, 3, 2]"
      ]
     },
     "execution_count": 2,
     "metadata": {},
     "output_type": "execute_result"
    }
   ],
   "source": [
    "from typing import List\n",
    "\n",
    "class Solution:\n",
    "    def diStringMatch(self, s: str) -> List[int]:\n",
    "        L,ic,dc=[],0,len(s)\n",
    "        for i in s:\n",
    "            if i=='I':\n",
    "                L.append(ic)\n",
    "                ic+=1\n",
    "            else:\n",
    "                L.append(dc)\n",
    "                dc-=1\n",
    "        if s[-1]=='I':L.append(ic)\n",
    "        else:L.append(dc)\n",
    "        return L\n",
    "    \n",
    "r = Solution()\n",
    "r.diStringMatch(\"IDID\")"
   ]
  },
  {
   "cell_type": "markdown",
   "id": "2033d001",
   "metadata": {},
   "source": [
    "💡 **Question 2**\n",
    "\n",
    "**You are given an m x n integer matrix matrix with the following two properties:**\n",
    "\n",
    "- Each row is sorted in non-decreasing order.\n",
    "- The first integer of each row is greater than the last integer of the previous row.\n",
    "\n",
    "**Given an integer target, return true *if* target *is in* matrix *or* false *otherwise*.**\n",
    "\n",
    "**You must write a solution in O(log(m * n)) time complexity. **"
   ]
  },
  {
   "cell_type": "raw",
   "id": "b18e3a47",
   "metadata": {},
   "source": [
    "First apply Binary Search to find the particular row i.e ‘K’ lies between the first and the last element of that row.\n",
    "Then apply simple binary search on that row to find whether ‘K’ is present in that row or not.\n",
    "\n",
    "Complexity Analysis:\n",
    "\n",
    "Time Complexity: O(logN+LogM), N & M are rows and columns of the matrix\n",
    "Space Complexity: O(1)"
   ]
  },
  {
   "cell_type": "code",
   "execution_count": 5,
   "id": "342bdb10",
   "metadata": {},
   "outputs": [
    {
     "name": "stdout",
     "output_type": "stream",
     "text": [
      "True\n"
     ]
    }
   ],
   "source": [
    "# Python 3 program to find whether a given\n",
    "# element is present in the given 2-D matrix\n",
    "\n",
    "M = 3\n",
    "N = 4\n",
    "\n",
    "# Basic binary search to find an element\n",
    "# in a 1-D array\n",
    "def binarySearch1D(arr, K):\n",
    "    low = 0\n",
    "    high = N - 1\n",
    "    while (low <= high):\n",
    "        mid = low + int((high - low) / 2)\n",
    "\n",
    "# if element found return true\n",
    "        if (arr[mid] == K):\n",
    "            return True\n",
    "\n",
    "        if (arr[mid] < K):\n",
    "            low = mid + 1\n",
    "        else:\n",
    "            high = mid - 1\n",
    "\n",
    "# if not found return false\n",
    "    return False\n",
    "\n",
    "# Function to search an element in a matrix\n",
    "# based on Divide and conquer approach\n",
    "def searchMatrix(matrix, K):\n",
    "    low = 0\n",
    "    high = M - 1\n",
    "    while (low <= high):\n",
    "        mid = low + int((high - low) / 2)\n",
    "\n",
    "        if (K >= matrix[mid][0] and\n",
    "            K <= matrix[mid][N - 1]):\n",
    "            return binarySearch1D(matrix[mid], K)\n",
    "\n",
    "        if (K < matrix[mid][0]):\n",
    "            high = mid - 1\n",
    "        else:\n",
    "            low = mid + 1\n",
    "\n",
    "# if not found\n",
    "    return False\n",
    "\n",
    "# Driver code\n",
    "if __name__ == '__main__':\n",
    "    matrix = [[1,3,5,7],[10,11,16,20],[23,30,34,60]]\n",
    "    K = 3\n",
    "    if (searchMatrix(matrix, K)):\n",
    "        print(\"True\")\n",
    "    else:\n",
    "        print(\"False\")\n",
    "\n"
   ]
  },
  {
   "cell_type": "markdown",
   "id": "776edc0b",
   "metadata": {},
   "source": [
    "💡 **Question 3**\n",
    "\n",
    "**Given an array of integers arr, return *true if and only if it is a valid mountain array*.**\n",
    "\n",
    "**Recall that arr is a mountain array if and only if:**\n",
    "\n",
    "- arr.length >= 3\n",
    "- There exists some i with 0 < i < arr.length - 1 such that:\n",
    "    - arr[0] < arr[1] < ... < arr[i - 1] < arr[i]\n",
    "    - arr[i] > arr[i + 1] > ... > arr[arr.length - 1]\n"
   ]
  },
  {
   "cell_type": "code",
   "execution_count": 7,
   "id": "bd3de3d9",
   "metadata": {},
   "outputs": [
    {
     "name": "stdout",
     "output_type": "stream",
     "text": [
      "false\n"
     ]
    }
   ],
   "source": [
    "\n",
    "def isMountainArray(arr):\n",
    "\n",
    "    if (len(arr) < 3):\n",
    "        return False\n",
    "    flag = 0\n",
    "    i = 0\n",
    "    for i in range(1, len(arr)):\n",
    "        if (arr[i] <= arr[i - 1]):\n",
    "            break\n",
    "\n",
    "    if (i == len(arr) or i == 1):\n",
    "        return False\n",
    "\n",
    "    while i < len(arr):\n",
    "        if (arr[i] >= arr[i - 1]):\n",
    "            break\n",
    "        i += 1\n",
    "    return i == len(arr)\n",
    "\n",
    "# Driver Code\n",
    "if __name__ == \"__main__\":\n",
    "\n",
    "    arr = [2,1]\n",
    "    if (isMountainArray(arr)):\n",
    "        print(\"true\")\n",
    "    else:\n",
    "        print(\"false\")\n",
    "\n",
    "\n"
   ]
  },
  {
   "cell_type": "markdown",
   "id": "3449b73e",
   "metadata": {},
   "source": [
    "💡 **Question 4**\n",
    "\n",
    "** Given a binary array nums, return *the maximum length of a contiguous subarray with an equal number of* 0 *and* 1. **\n"
   ]
  },
  {
   "cell_type": "code",
   "execution_count": 13,
   "id": "bcf1759f",
   "metadata": {},
   "outputs": [
    {
     "name": "stdout",
     "output_type": "stream",
     "text": [
      "0 to 1\n"
     ]
    },
    {
     "data": {
      "text/plain": [
       "2"
      ]
     },
     "execution_count": 13,
     "metadata": {},
     "output_type": "execute_result"
    }
   ],
   "source": [
    "def findSubArray(arr, n):\n",
    "\n",
    "    sum = 0\n",
    "    maxsize = -1\n",
    "\n",
    "# Pick a starting point as i\n",
    "\n",
    "    for i in range(0, n-1):\n",
    "\n",
    "        sum = -1 if(arr[i] == 0) else 1\n",
    "\n",
    "# Consider all subarrays starting from i\n",
    "\n",
    "        for j in range(i + 1, n):\n",
    "\n",
    "            sum = sum + (-1) if (arr[j] == 0) else sum + 1\n",
    "\n",
    "\n",
    "\n",
    "            if (sum == 0 and maxsize < j-i + 1):\n",
    "\n",
    "                maxsize = j - i + 1\n",
    "                startindex = i\n",
    "\n",
    "\n",
    "\n",
    "    if (maxsize == -1):\n",
    "        print(\"No such subarray\");\n",
    "    else:\n",
    "        print(startindex, \"to\", startindex + maxsize-1);\n",
    "\n",
    "    return maxsize\n",
    "\n",
    "# Driver program to test above functions\n",
    "arr = [0,1]\n",
    "size = len(arr)\n",
    "findSubArray(arr, size)\n",
    "\n",
    "\n"
   ]
  },
  {
   "cell_type": "markdown",
   "id": "17cfe920",
   "metadata": {},
   "source": [
    "💡 **Question 5**\n",
    "\n",
    "**The product sum of two equal-length arrays a and b is equal to the sum of a[i] * b[i] for all 0 <= i < a.length (**0-indexed**). **\n",
    "\n",
    "- For example, if a = [1,2,3,4] and b = [5,2,3,1], the **product sum** would be 1*5 + 2*2 + 3*3 + 4*1 = 22.\n",
    "\n",
    "**Given two arrays nums1 and nums2 of length n, return *the **minimum product sum** if you are allowed to **rearrange** the **order** of the elements in* nums1.**\n",
    "\n",
    "</aside>"
   ]
  },
  {
   "cell_type": "code",
   "execution_count": 15,
   "id": "16d9064d",
   "metadata": {},
   "outputs": [
    {
     "name": "stdout",
     "output_type": "stream",
     "text": [
      "40\n"
     ]
    }
   ],
   "source": [
    "def minValue(A, B, n):\n",
    "\n",
    "    A.sort()\n",
    "    B.sort()\n",
    "\n",
    "    result = 0\n",
    "    for i in range(n):\n",
    "        result += (A[i] * B[n - i - 1])\n",
    "\n",
    "    return result\n",
    "\n",
    "\n",
    "# Driven Program\n",
    "A = [5,3,4,2]\n",
    "B = [4,2,2,5]\n",
    "n = len(A)\n",
    "print (minValue(A, B, n))\n",
    "\n",
    "\n"
   ]
  },
  {
   "cell_type": "markdown",
   "id": "b2487eb1",
   "metadata": {},
   "source": [
    "💡 **Question 6**\n",
    "\n",
    "**An integer array original is transformed into a **doubled** array changed by appending **twice the value** of every element in original, and then randomly **shuffling** the resulting array. **\n",
    "\n",
    "**Given an array changed, return original *if* changed *is a **doubled** array. If* changed *is not a **doubled** array, return an empty array. The elements in* original *may be returned in **any** order**\n",
    "\n",
    "</aside>"
   ]
  },
  {
   "cell_type": "code",
   "execution_count": 21,
   "id": "3785da97",
   "metadata": {},
   "outputs": [
    {
     "name": "stdout",
     "output_type": "stream",
     "text": [
      "1 3 4 "
     ]
    }
   ],
   "source": [
    "def findOriginal(arr):\n",
    "\n",
    "    numFreq = {}\n",
    "\n",
    "    for i in range(0, len(arr)):\n",
    "        if (arr[i] in numFreq):\n",
    "            numFreq[arr[i]] += 1\n",
    "        else:\n",
    "            numFreq[arr[i]] = 1\n",
    "\n",
    "# Sort the array\n",
    "    arr.sort()\n",
    "\n",
    "# Initialize an arraylist\n",
    "    res = []\n",
    "\n",
    "    for i in range(0, len(arr)):\n",
    "\n",
    "# Get the frequency of the number\n",
    "        freq = numFreq[arr[i]]\n",
    "        if (freq > 0):\n",
    "\n",
    "# Element is of original array\n",
    "            res.append(arr[i])\n",
    "\n",
    "\n",
    "            numFreq[arr[i]] -= 1\n",
    "\n",
    "            twice = 2 * arr[i]\n",
    "\n",
    "\n",
    "            numFreq[twice] -= 1\n",
    "\n",
    "# Return the resultant string\n",
    "    return res\n",
    "\n",
    "# Driver Code\n",
    "arr = [1,3,4,2,6,8]\n",
    "res = findOriginal(arr)\n",
    "\n",
    "# Print the result list\n",
    "for i in range(0, len(res)):\n",
    "    print(res[i], end=\" \")\n",
    "\n",
    "\n"
   ]
  },
  {
   "cell_type": "markdown",
   "id": "a9eed491",
   "metadata": {},
   "source": [
    "💡 **Question 7**\n",
    "\n",
    "**Given a positive integer n, generate an n x n matrix filled with elements from 1 to n2 in spiral order**\n"
   ]
  },
  {
   "cell_type": "code",
   "execution_count": 22,
   "id": "44415b96",
   "metadata": {},
   "outputs": [
    {
     "name": "stdout",
     "output_type": "stream",
     "text": [
      "1 2 3 4 8 12 16 15 14 13 9 5 6 7 11 10 \n"
     ]
    }
   ],
   "source": [
    "def spiralOrder(matrix):\n",
    "    ans = []\n",
    "\n",
    "    if (len(matrix) == 0):\n",
    "        return ans\n",
    "\n",
    "    m = len(matrix)\n",
    "    n = len(matrix[0])\n",
    "    seen = [[0 for i in range(n)] for j in range(m)]\n",
    "    dr = [0, 1, 0, -1]\n",
    "    dc = [1, 0, -1, 0]\n",
    "    x = 0\n",
    "    y = 0\n",
    "    di = 0\n",
    "\n",
    "# Iterate from 0 to R * C - 1\n",
    "    for i in range(m * n):\n",
    "        ans.append(matrix[x][y])\n",
    "        seen[x][y] = True\n",
    "        cr = x + dr[di]\n",
    "        cc = y + dc[di]\n",
    "\n",
    "        if (0 <= cr and cr < m and 0 <= cc and cc < n and not(seen[cr][cc])):\n",
    "            x = cr\n",
    "            y = cc\n",
    "        else:\n",
    "            di = (di + 1) % 4\n",
    "            x += dr[di]\n",
    "            y += dc[di]\n",
    "    return ans\n",
    "\n",
    "\n",
    "# Driver code\n",
    "if __name__ == \"__main__\":\n",
    "    a = [[1, 2, 3, 4],\n",
    "        [5, 6, 7, 8],\n",
    "        [9, 10, 11, 12],\n",
    "        [13, 14, 15, 16]]\n",
    "\n",
    "# Function call\n",
    "    for x in spiralOrder(a):\n",
    "        print(x, end=\" \")\n",
    "    print()\n"
   ]
  },
  {
   "cell_type": "markdown",
   "id": "4d2bde98",
   "metadata": {},
   "source": [
    "💡 **Question 8**\n",
    "\n",
    "**Given two [sparse matrices](https://en.wikipedia.org/wiki/Sparse_matrix) mat1 of size m x k and mat2 of size k x n, return the result of mat1 x mat2. You may assume that multiplication is always possible**\n"
   ]
  },
  {
   "cell_type": "code",
   "execution_count": 25,
   "id": "f5f39c52",
   "metadata": {},
   "outputs": [
    {
     "data": {
      "text/plain": [
       "[[7, 0, 0], [-7, 0, 3]]"
      ]
     },
     "execution_count": 25,
     "metadata": {},
     "output_type": "execute_result"
    }
   ],
   "source": [
    "from collections import defaultdict\n",
    "\n",
    "class Solution:\n",
    "    def multiply(self, mat1: List[List[int]], mat2: List[List[int]]) -> List[List[int]]:\n",
    "        r1, c1, c2 = len(mat1), len(mat1[0]), len(mat2[0])\n",
    "        res = [[0] * c2 for _ in range(r1)]\n",
    "        mp = defaultdict(list)\n",
    "        for i in range(r1):\n",
    "            for j in range(c1):\n",
    "                if mat1[i][j] != 0:\n",
    "                    mp[i].append(j)\n",
    "        for i in range(r1):\n",
    "            for j in range(c2):\n",
    "                for k in mp[i]:\n",
    "                    res[i][j] += mat1[i][k] * mat2[k][j]\n",
    "        return res\n",
    "    \n",
    "r = Solution()\n",
    "r.multiply([[1,0,0],[-1,0,3]],[[7,0,0],[0,0,0],[0,0,1]])"
   ]
  },
  {
   "cell_type": "code",
   "execution_count": null,
   "id": "4bb86409",
   "metadata": {},
   "outputs": [],
   "source": []
  }
 ],
 "metadata": {
  "kernelspec": {
   "display_name": "Python 3 (ipykernel)",
   "language": "python",
   "name": "python3"
  },
  "language_info": {
   "codemirror_mode": {
    "name": "ipython",
    "version": 3
   },
   "file_extension": ".py",
   "mimetype": "text/x-python",
   "name": "python",
   "nbconvert_exporter": "python",
   "pygments_lexer": "ipython3",
   "version": "3.9.12"
  }
 },
 "nbformat": 4,
 "nbformat_minor": 5
}

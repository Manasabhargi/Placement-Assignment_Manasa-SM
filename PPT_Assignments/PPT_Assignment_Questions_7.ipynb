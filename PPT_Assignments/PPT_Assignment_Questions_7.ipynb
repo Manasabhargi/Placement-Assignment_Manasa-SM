{
 "cells": [
  {
   "cell_type": "markdown",
   "id": "f85b9012",
   "metadata": {},
   "source": [
    "# Assignment Questions - 7"
   ]
  },
  {
   "cell_type": "markdown",
   "id": "630fb397",
   "metadata": {},
   "source": [
    "💡 **Question 1**\n",
    "\n",
    "**Given two strings s and t, *determine if they are isomorphic**\n",
    "\n",
    "**Two strings s and t are isomorphic if the characters in s can be replaced to get t**\n",
    "\n",
    "**All occurrences of a character must be replaced with another character while preserving the order of characters. No two characters may map to the same character, but a character may map to itself**\n"
   ]
  },
  {
   "cell_type": "markdown",
   "id": "99ea35f9",
   "metadata": {},
   "source": [
    "First, we iterate through the characters in s and t in parallel. For each character in s, we check if it is already mapped to a character in t. If it is, we check if the mapped character is the same as the current character in t. If it is not, then the strings are not isomorphic and we return false. If the current character in s is not already mapped to a character in t, we check if the current character in t has already been mapped to by another character in s. If it has, then the strings are not isomorphic and we return false. Otherwise, we create a mapping between the current character in s and the current character in t in both hash tables.\n",
    "\n",
    "If we have iterated through the entire strings without returning false, then the strings are isomorphic and we return true.\n",
    "\n",
    "Complexity\n",
    "\n",
    "Time complexity:O(n)O(n)O(n), where nnn is the length of the strings s and t. We iterate through the strings once.\n",
    "\n",
    "Space complexity:O(k) O(k)O(k), where kkk is the number of unique characters in the strings s and t. We store at most k mappings in the hash tables."
   ]
  },
  {
   "cell_type": "code",
   "execution_count": 1,
   "id": "c57b67a0",
   "metadata": {},
   "outputs": [
    {
     "data": {
      "text/plain": [
       "True"
      ]
     },
     "execution_count": 1,
     "metadata": {},
     "output_type": "execute_result"
    }
   ],
   "source": [
    "class Solution:\n",
    "    def isIsomorphic(self, s: str, t: str) -> bool:\n",
    "        if len(s) != len(t):\n",
    "            return False\n",
    "    \n",
    "        s_to_t = {}\n",
    "        t_to_s = {}\n",
    "    \n",
    "        for i in range(len(s)):\n",
    "            if s[i] in s_to_t:\n",
    "                if s_to_t[s[i]] != t[i]:\n",
    "                    return False\n",
    "            else:\n",
    "                if t[i] in t_to_s:\n",
    "                    return False\n",
    "                s_to_t[s[i]] = t[i]\n",
    "                t_to_s[t[i]] = s[i]\n",
    "    \n",
    "        return True\n",
    "    \n",
    "r = Solution()\n",
    "r.isIsomorphic(\"egg\",\"add\")"
   ]
  },
  {
   "cell_type": "markdown",
   "id": "f2895247",
   "metadata": {},
   "source": [
    "💡 **Question 3**\n",
    "\n",
    "**Given two non-negative integers, num1 and num2 represented as string, return *the sum of* num1 *and* num2 *as a string**\n",
    "\n",
    "**You must solve the problem without using any built-in library for handling large integers (such as BigInteger). You must also not convert the inputs to integers directly**\n"
   ]
  },
  {
   "cell_type": "code",
   "execution_count": 7,
   "id": "9ecac310",
   "metadata": {},
   "outputs": [
    {
     "data": {
      "text/plain": [
       "'134'"
      ]
     },
     "execution_count": 7,
     "metadata": {},
     "output_type": "execute_result"
    }
   ],
   "source": [
    "class Solution:\n",
    "    def addStrings(self, num1: str, num2: str) -> str:\n",
    "    # Reverse the input strings to start adding from the least significant digits\n",
    "        num1 = num1[::-1]\n",
    "        num2 = num2[::-1]\n",
    "    # Pad the shorter input string with zeros\n",
    "        if len(num1) < len(num2):\n",
    "            num1 += '0' * (len(num2) - len(num1))\n",
    "        else:\n",
    "            num2 += '0' * (len(num1) - len(num2))\n",
    "    \n",
    "        result = ''\n",
    "        carry = 0\n",
    "    \n",
    "    # Loop through both strings, starting from the least significant digits\n",
    "        for i in range(len(num1)):\n",
    "        # Convert the current digit in each string to an integer and add them together\n",
    "            digit_sum = int(num1[i]) + int(num2[i]) + carry\n",
    "        # Determine the carry for the next iteration, if any\n",
    "            carry = digit_sum // 10\n",
    "        # Append the least significant digit of the sum to the result string\n",
    "            result += str(digit_sum % 10)\n",
    "    \n",
    "    # If there is a carry after the last iteration, append it to the result string\n",
    "        if carry > 0:\n",
    "            result += str(carry)\n",
    "    \n",
    "    # Reverse the result string to obtain the final sum\n",
    "        return result[::-1]\n",
    "    \n",
    "r = Solution()\n",
    "r.addStrings(\"11\",\"123\")"
   ]
  },
  {
   "cell_type": "markdown",
   "id": "13297408",
   "metadata": {},
   "source": [
    "💡 **Question 4**\n",
    "\n",
    "**Given a string s, reverse the order of characters in each word within a sentence while still preserving whitespace and initial word order**\n"
   ]
  },
  {
   "cell_type": "code",
   "execution_count": 8,
   "id": "6e63ab5b",
   "metadata": {},
   "outputs": [
    {
     "data": {
      "text/plain": [
       "\"s'teL ekat edoCteeL tsetnoc\""
      ]
     },
     "execution_count": 8,
     "metadata": {},
     "output_type": "execute_result"
    }
   ],
   "source": [
    "class Solution:\n",
    "    def reverseWords(self, s: str) -> str:\n",
    "        s=s.split()        \n",
    "        for i in range(len(s)):\n",
    "            s[i]=s[i][::-1]\n",
    "        s=' '.join(map(str,s))\n",
    "        return s\n",
    "    \n",
    "r = Solution()\n",
    "r.reverseWords(\"Let's take LeetCode contest\")"
   ]
  },
  {
   "cell_type": "markdown",
   "id": "e8f01e57",
   "metadata": {},
   "source": [
    "💡 **Question 5**\n",
    "\n",
    "**Given a string s and an integer k, reverse the first k characters for every 2k characters counting from the start of the string**\n",
    "\n",
    "**If there are fewer than k characters left, reverse all of them. If there are less than 2k but greater than or equal to k characters, then reverse the first k characters and leave the other as original**\n"
   ]
  },
  {
   "cell_type": "markdown",
   "id": "33614df9",
   "metadata": {},
   "source": [
    "Algorithm:\n",
    "\n",
    "Divide the problem into 3 stacks.\n",
    "one for reversed\n",
    "one for non reversed\n",
    "one for merging\n",
    "Reverse of substring is done by a helper function.\n",
    "concatenate the elements of the merged stack and return\n",
    "\n",
    "Complexity\n",
    "Time complexity:\n",
    "O(n)\n",
    "\n",
    "Space complexity:\n",
    "O(n)"
   ]
  },
  {
   "cell_type": "code",
   "execution_count": 9,
   "id": "edd10c8f",
   "metadata": {},
   "outputs": [
    {
     "data": {
      "text/plain": [
       "'bacdfeg'"
      ]
     },
     "execution_count": 9,
     "metadata": {},
     "output_type": "execute_result"
    }
   ],
   "source": [
    "class Solution:\n",
    "    def reverseStr(self, s: str, k: int):\n",
    "\n",
    "        def reverse_word(x): return x[::-1]\n",
    "\n",
    "        final_string = \"\"\n",
    "        if len(s) <= k:\n",
    "            final_string = reverse_word(s)\n",
    "            return final_string\n",
    "\n",
    "        stack_non_reversed: list = []\n",
    "        stack_reversed: list = []\n",
    "        stack_final: list = []\n",
    "\n",
    "        for i in range(0, len(s), 2*k):\n",
    "            temp = s[i:i+k]\n",
    "            stack_non_reversed.append(temp)\n",
    "\n",
    "        for item in stack_non_reversed:\n",
    "            stack_reversed.append(reverse_word(item))\n",
    "\n",
    "        stack_non_reversed.clear()\n",
    "\n",
    "        for i in range(k, len(s), 2*k):\n",
    "            temp = s[i:i+k]\n",
    "            stack_non_reversed.append(temp)\n",
    "\n",
    "        for i, item in enumerate(stack_reversed):\n",
    "            stack_final.append(item)\n",
    "            if i > len(stack_non_reversed)-1:\n",
    "                continue\n",
    "            stack_final.append(stack_non_reversed[i])\n",
    "\n",
    "        for item in stack_final:\n",
    "            final_string += item\n",
    "\n",
    "        return final_string\n",
    "    \n",
    "r = Solution()\n",
    "r.reverseStr(\"abcdefg\",2)"
   ]
  },
  {
   "cell_type": "markdown",
   "id": "40b47383",
   "metadata": {},
   "source": [
    "💡 **Question 6**\n",
    "\n",
    "**Given two strings s and goal, return true *if and only if* s *can become* goal *after some number of **shifts** on* s**\n",
    "\n",
    "A **shift** on s consists of moving the leftmost character of s to the rightmost position.\n"
   ]
  },
  {
   "cell_type": "markdown",
   "id": "19407686",
   "metadata": {},
   "source": [
    "Check if s == goal at the start\n",
    "If it isnt, then start rotating the string until you either find goal or if you cant, just return False\n",
    "\n"
   ]
  },
  {
   "cell_type": "code",
   "execution_count": 10,
   "id": "f891fa4a",
   "metadata": {},
   "outputs": [
    {
     "data": {
      "text/plain": [
       "True"
      ]
     },
     "execution_count": 10,
     "metadata": {},
     "output_type": "execute_result"
    }
   ],
   "source": [
    "class Solution:\n",
    "    def rotateString(self, s: str, goal: str) -> bool:\n",
    "        if s == goal:\n",
    "            return True\n",
    "\n",
    "        s, goal = [*s], [*goal] \n",
    "\n",
    "        # unpacking the strings (creates list)\n",
    "        # ex: 'hello' -> ['h','e','l','l','o']\n",
    "\n",
    "\n",
    "        for x in range(len(s)):\n",
    "            a = s[0]\n",
    "            s.pop(0); s.append(a)\n",
    "            # rotate the string by saving the first character then removing it and then adding it to the end\n",
    "\n",
    "            if s == goal:\n",
    "                return True\n",
    "            # checking if the rotated string is the same as the goal\n",
    "\n",
    "        return False\n",
    "    \n",
    "r  =Solution()\n",
    "r.rotateString( \"abcde\",\"cdeab\")"
   ]
  },
  {
   "cell_type": "markdown",
   "id": "ba3c4ff6",
   "metadata": {},
   "source": [
    "💡 **Question 7**\n",
    "\n",
    "**Given two strings s and t, return true *if they are equal when both are typed into empty text editors*. '#' means a backspace character**\n",
    "\n",
    "**Note that after backspacing an empty text, the text will continue empty**\n"
   ]
  },
  {
   "cell_type": "markdown",
   "id": "cbdcc227",
   "metadata": {},
   "source": [
    "Since it is known that the backspace operation can be applied to the string, it is evident that it is possible to compare characters from the end of the strings. Therefore, initial positions are set to the end of the strings.\n",
    "\n",
    "With each iteration, characters of strings are compared with each other. If # character is found, the iteration skips all the # and the number of regular characters, corresponding to the number of encountered #.\n",
    "\n",
    "If regular character is encountered, index pointer is simply decremented.\n",
    "\n",
    "Finally, if the index pointers are less than 000, string is considered to be empty.\n",
    "\n",
    "Complexity\n",
    "\n",
    "Time complexity:\n",
    "O(max⁡(n,m))O(\\max(n, m))O(max(n,m)), where nnn is the length of sss and mmm is the length of t\n",
    "\n",
    "Space complexity:\n",
    "O(1)O(1)O(1)"
   ]
  },
  {
   "cell_type": "code",
   "execution_count": 11,
   "id": "3a41f73b",
   "metadata": {},
   "outputs": [
    {
     "data": {
      "text/plain": [
       "True"
      ]
     },
     "execution_count": 11,
     "metadata": {},
     "output_type": "execute_result"
    }
   ],
   "source": [
    "class Solution:\n",
    "    def backspaceCompare(self, s: str, t: str) -> bool:\n",
    "        s_pos = len(s) - 1\n",
    "        t_pos = len(t) - 1\n",
    "\n",
    "        def skip(item, pos):\n",
    "            skip = 0\n",
    "            while item[pos] == '#':\n",
    "                skip += 1\n",
    "                pos -= 1\n",
    "\n",
    "            while pos >= 0 and skip > 0:\n",
    "                if item[pos] != '#':\n",
    "                    skip -= 1\n",
    "                else:\n",
    "                    skip += 1\n",
    "                pos -= 1\n",
    "            \n",
    "            return pos\n",
    "\n",
    "        while s_pos >= 0 or t_pos >= 0:\n",
    "            while s[s_pos] == '#':\n",
    "                s_pos = skip(s, s_pos)\n",
    "            while t[t_pos] == '#':\n",
    "                t_pos = skip(t, t_pos)\n",
    "\n",
    "            s_c = '' if s_pos < 0 else s[s_pos]\n",
    "            t_c = '' if t_pos < 0 else t[t_pos]\n",
    "            if s_c != t_c:\n",
    "                return False\n",
    "\n",
    "            if s_pos >= 0:\n",
    "                s_pos -= 1\n",
    "\n",
    "            if t_pos >= 0:\n",
    "                t_pos -= 1\n",
    "\n",
    "        return True\n",
    "    \n",
    "r = Solution()\n",
    "r.backspaceCompare(\"ab#c\",\"ad#c\")"
   ]
  },
  {
   "cell_type": "markdown",
   "id": "a0987bf9",
   "metadata": {},
   "source": [
    "💡 **Question 8**\n",
    "\n",
    "**You are given an array coordinates, coordinates[i] = [x, y], where [x, y] represents the coordinate of a point. Check if these points make a straight line in the XY plane**\n"
   ]
  },
  {
   "cell_type": "raw",
   "id": "5b7af1e3",
   "metadata": {},
   "source": [
    "Take the first two points from the given coordinates and store their coordinates as (x1, y1) and (x2, y2) respectively. These two points will serve as reference points for slope comparison.\n",
    "\n",
    "Iterate through the remaining points starting from the third point.\n",
    "\n",
    "For each point (x, y) in the iteration:\n",
    "\n",
    "Calculate the left-hand side of the equation: (y - y1) * (x2 - x1)\n",
    "Calculate the right-hand side of the equation: (y2 - y1) * (x - x1)\n",
    "Compare the left-hand side and right-hand side of the equation. If they are not equal, return false immediately, as the points do not form a straight line.\n",
    "If the loop completes without returning false, return true, indicating that all the points form a straight line.\n",
    "\n",
    "By comparing the products of differences (instead of directly dividing), we can avoid the risk of division by zero error. This is important because directly dividing by (x2 - x1) can lead to an error when the points are vertically aligned.\n",
    "\n",
    "Using this approach, we can efficiently determine whether a set of coordinates forms a straight line or not."
   ]
  },
  {
   "cell_type": "markdown",
   "id": "d8e0b256",
   "metadata": {},
   "source": [
    "Complexity\n",
    "\n",
    "Time complexity:\n",
    "O(n)\n",
    "where n is the number of coordinates in the input vector. This is because the code iterates through the coordinates once, comparing the slopes for each point.\n",
    "\n",
    "Space complexity:\n",
    "O(1)\n",
    "The code uses a fixed amount of extra space to store the variables for the reference points (x1, y1) and (x2, y2), as well as the loop iterator variables."
   ]
  },
  {
   "cell_type": "code",
   "execution_count": 13,
   "id": "3f8add58",
   "metadata": {},
   "outputs": [
    {
     "data": {
      "text/plain": [
       "True"
      ]
     },
     "execution_count": 13,
     "metadata": {},
     "output_type": "execute_result"
    }
   ],
   "source": [
    "from typing import List\n",
    "\n",
    "class Solution:\n",
    "    def checkStraightLine(self, coordinates: List[List[int]]) -> bool:\n",
    "        n = len(coordinates)\n",
    "\n",
    "        x1, y1 = coordinates[0]\n",
    "        x2, y2 = coordinates[1]\n",
    "\n",
    "        for i in range(2, n):\n",
    "            x, y = coordinates[i]\n",
    "\n",
    "            if (y - y1) * (x - x2) != (y - y2) * (x - x1):\n",
    "                return False\n",
    "\n",
    "        return True\n",
    "    \n",
    "r  =Solution()\n",
    "r.checkStraightLine([[1,2],[2,3],[3,4],[4,5],[5,6],[6,7]])"
   ]
  },
  {
   "cell_type": "code",
   "execution_count": null,
   "id": "ca03df20",
   "metadata": {},
   "outputs": [],
   "source": []
  }
 ],
 "metadata": {
  "kernelspec": {
   "display_name": "Python 3 (ipykernel)",
   "language": "python",
   "name": "python3"
  },
  "language_info": {
   "codemirror_mode": {
    "name": "ipython",
    "version": 3
   },
   "file_extension": ".py",
   "mimetype": "text/x-python",
   "name": "python",
   "nbconvert_exporter": "python",
   "pygments_lexer": "ipython3",
   "version": "3.9.12"
  }
 },
 "nbformat": 4,
 "nbformat_minor": 5
}

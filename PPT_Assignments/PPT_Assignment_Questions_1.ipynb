{
 "cells": [
  {
   "cell_type": "markdown",
   "id": "98d30472",
   "metadata": {},
   "source": [
    "# Assignment Questions 1"
   ]
  },
  {
   "cell_type": "markdown",
   "id": "a638c13c",
   "metadata": {},
   "source": [
    "💡 **Q1.Given an array of integers nums and an integer target, return indices of the two numbers such that they add up to target.**\n",
    "\n",
    "**You may assume that each input would have exactly one solution, and you may not use the same element twice.**\n"
   ]
  },
  {
   "cell_type": "code",
   "execution_count": 6,
   "id": "4debd5d4",
   "metadata": {},
   "outputs": [],
   "source": [
    "from typing import List, Tuple\n",
    "\n",
    "def twosum(nums: List[int], target: int) -> Tuple[int, int]:\n",
    "    numtoindexmap = {}\n",
    "    for num1_index, num1 in enumerate(nums):\n",
    "        num2 = target - num1\n",
    "        try:\n",
    "            num2_index = numtoindexmap[num2]\n",
    "        except KeyError:\n",
    "            numtoindexmap[num1] = num1_index  \n",
    "            # Note: Use `numtoindexmap.setdefault(num1, num1_index)` instead for lowest num1_index.\n",
    "        else:\n",
    "            return tuple(sorted([num1_index, num2_index]))"
   ]
  },
  {
   "cell_type": "code",
   "execution_count": 7,
   "id": "b501362d",
   "metadata": {},
   "outputs": [
    {
     "name": "stdout",
     "output_type": "stream",
     "text": [
      "(0, 1)\n"
     ]
    }
   ],
   "source": [
    "print(twosum([2, 7, 11, 15], 9))"
   ]
  },
  {
   "cell_type": "markdown",
   "id": "16695ee2",
   "metadata": {},
   "source": [
    "💡 **Q2. Given an integer array nums and an integer val, remove all occurrences of val in nums in-place. The order of the elements may be changed. Then return the number of elements in nums which are not equal to val.**\n",
    "\n",
    "**Consider the number of elements in nums which are not equal to val be k, to get accepted, you need to do the following things:**\n",
    "\n",
    "**- Change the array nums such that the first k elements of nums contain the elements which are not equal to val. The remaining elements of nums are not important as well as the size of nums.**\n",
    "\n",
    "**- Return k **"
   ]
  },
  {
   "cell_type": "code",
   "execution_count": 13,
   "id": "0fbfde15",
   "metadata": {},
   "outputs": [
    {
     "name": "stdout",
     "output_type": "stream",
     "text": [
      "2\n"
     ]
    }
   ],
   "source": [
    "from typing import List\n",
    "\n",
    "\n",
    "class RemoveElement:\n",
    "    @staticmethod\n",
    "    def removeElement(nums: List[int], val: int) -> int:\n",
    "        # Counter for keeping track of elements other than val\n",
    "        count = 0\n",
    "        # Loop through all the elements of the array\n",
    "        for i in range(len(nums)):\n",
    "            if nums[i] != val:\n",
    "                # If the element is not val\n",
    "                nums[count] = nums[i]\n",
    "                count += 1\n",
    "        return count\n",
    "\n",
    "\n",
    "if __name__ == '__main__':\n",
    "    r = RemoveElement()\n",
    "    print(r.removeElement([2, 3, 3, 2], 3))"
   ]
  },
  {
   "cell_type": "markdown",
   "id": "41beab0a",
   "metadata": {},
   "source": [
    "💡 **Q3. Given a sorted array of distinct integers and a target value, return the index if the target is found. If not, return the index where it would be if it were inserted in order.**\n",
    "\n",
    "**You must write an algorithm with O(log n) runtime complexity.**\n"
   ]
  },
  {
   "cell_type": "raw",
   "id": "1a5af38d",
   "metadata": {},
   "source": [
    "Algorithm:\n",
    "If we just traverse the array then it will take O(n) time complexit.\n",
    "But it is metioned with O(log n) runtime complexity\n",
    "\n",
    "1. Start and End element as 0 and N-1 in the search space\n",
    "2. Next we are utilizing the while loop in order to traverse the array [while(start <= end)]\n",
    "3. divide the array into two parts [int mid = (start + end)/2]\n",
    "4. check if mid element is equal to target variable\n",
    "5. another if condition to check 2nd part of the array.\n",
    "6. proceed further and check the mid value else return mid - 1 value."
   ]
  },
  {
   "cell_type": "raw",
   "id": "75f3cfe8",
   "metadata": {},
   "source": [
    "TIME Complexity:\n",
    "Binary Search is used to traverse the array hence runtime complexity is : O(log N)\n",
    "\n",
    "SPACE Complexity:\n",
    "No extra memory is used hence space complexity is O(1)"
   ]
  },
  {
   "cell_type": "code",
   "execution_count": 15,
   "id": "8ea617ea",
   "metadata": {},
   "outputs": [
    {
     "name": "stdout",
     "output_type": "stream",
     "text": [
      "1\n"
     ]
    }
   ],
   "source": [
    "class Solution:\n",
    "    def searchInsert(self, nums: List[int], target: int) -> int:\n",
    "        for i in range(len(nums)):\n",
    "            if nums[i]==target:\n",
    "                return i\n",
    "            elif nums[i]>target:\n",
    "                return i   \n",
    "            else:\n",
    "                j=len(nums)\n",
    "        return j \n",
    "    \n",
    "if __name__ == '__main__':\n",
    "    r = Solution()\n",
    "    print(r.searchInsert([2, 3, 3, 2], 3))"
   ]
  },
  {
   "cell_type": "markdown",
   "id": "c5e8c863",
   "metadata": {},
   "source": [
    "\n",
    "💡 **Q4. You are given a large integer represented as an integer array digits, where each digits[i] is the ith digit of the integer. The digits are ordered from most significant to least significant in left-to-right order. The large integer does not contain any leading 0's.**\n",
    "\n",
    "**Increment the large integer by one and return the resulting array of digits.**\n"
   ]
  },
  {
   "cell_type": "code",
   "execution_count": 27,
   "id": "048b6445",
   "metadata": {},
   "outputs": [
    {
     "name": "stdout",
     "output_type": "stream",
     "text": [
      "[1, 2, 4]\n"
     ]
    }
   ],
   "source": [
    "class Solution:\n",
    "    def plusOne(self, digits):\n",
    "        strings = \"\"\n",
    "        for number in digits:\n",
    "            strings += str(number)\n",
    "\n",
    "        temp = str(int(strings) +1)\n",
    "\n",
    "        return [int(temp[i]) for i in range(len(temp))]\n",
    "    \n",
    "if __name__ == '__main__':\n",
    "    r = Solution()\n",
    "    print(r.plusOne([1, 2, 3]))"
   ]
  },
  {
   "cell_type": "markdown",
   "id": "0bf362df",
   "metadata": {},
   "source": [
    "💡 **Q5. You are given two integer arrays nums1 and nums2, sorted in non-decreasing order, and two integers m and n, representing the number of elements in nums1 and nums2 respectively.**\n",
    "\n",
    "**Merge nums1 and nums2 into a single array sorted in non-decreasing order.**\n",
    "\n",
    "**The final sorted array should not be returned by the function, but instead be stored inside the array nums1. To accommodate this, nums1 has a length of m + n, where the first m elements denote the elements that should be merged, and the last n elements are set to 0 and should be ignored. nums2 has a length of n.**\n"
   ]
  },
  {
   "cell_type": "code",
   "execution_count": 37,
   "id": "629ba554",
   "metadata": {},
   "outputs": [],
   "source": [
    "class Solution:\n",
    "    def merge(self, nums1: List[int], m: int, nums2: List[int], n: int) :\n",
    "        idx = 0\n",
    "        for i in range(len(nums1)):\n",
    "            if idx >= n:\n",
    "                break\n",
    "            if nums1[i] == 0:\n",
    "                nums1[i]=nums2[idx]\n",
    "                idx += 1\n",
    "        nums1.sort()"
   ]
  },
  {
   "cell_type": "markdown",
   "id": "f70102fb",
   "metadata": {},
   "source": [
    "**Q6. Given an integer array nums, return true if any value appears at least twice in the array, and return false if every element is distinct.**"
   ]
  },
  {
   "cell_type": "code",
   "execution_count": 53,
   "id": "63eb0fc0",
   "metadata": {},
   "outputs": [
    {
     "data": {
      "text/plain": [
       "True"
      ]
     },
     "execution_count": 53,
     "metadata": {},
     "output_type": "execute_result"
    }
   ],
   "source": [
    "# Time complexity: O(n)\n",
    "# Space complexity: O(n)\n",
    "class Solution(object):\n",
    "    def containsDuplicate(self, nums):\n",
    "        hset = set()\n",
    "        for idx in nums:\n",
    "            if idx in hset:\n",
    "                return True\n",
    "            else:\n",
    "                hset.add(idx)\n",
    "        return False \n",
    "                \n",
    "r = Solution()\n",
    "r.containsDuplicate([1,2,3,1])"
   ]
  },
  {
   "cell_type": "markdown",
   "id": "72456f9c",
   "metadata": {},
   "source": [
    "💡 **Q7. Given an integer array nums, move all 0's to the end of it while maintaining the relative order of the nonzero elements.**\n",
    "\n",
    "**Note that you must do this in-place without making a copy of the array.**\n"
   ]
  },
  {
   "cell_type": "code",
   "execution_count": 55,
   "id": "e3259426",
   "metadata": {},
   "outputs": [
    {
     "name": "stdout",
     "output_type": "stream",
     "text": [
      "Array after pushing all zeros to end of array:\n",
      "[1, 3, 12, 0, 0]\n"
     ]
    }
   ],
   "source": [
    "# Function which pushes all\n",
    "# zeros to end of an array.\n",
    "def pushZerosToEnd(arr, n):\n",
    "    count = 0 # Count of non-zero elements\n",
    "    \n",
    "\n",
    "    for i in range(n):\n",
    "        if arr[i] != 0:\n",
    "\n",
    "            arr[count] = arr[i]\n",
    "            count+=1\n",
    "\n",
    "    while count < n:\n",
    "        arr[count] = 0\n",
    "        count += 1\n",
    "\n",
    "# Driver code\n",
    "arr = [0,1,0,3,12]\n",
    "n = len(arr)\n",
    "pushZerosToEnd(arr, n)\n",
    "print(\"Array after pushing all zeros to end of array:\")\n",
    "print(arr)\n",
    "\n",
    "\n"
   ]
  },
  {
   "cell_type": "markdown",
   "id": "8218b8bd",
   "metadata": {},
   "source": [
    "💡 **Q8. You have a set of integers s, which originally contains all the numbers from 1 to n. Unfortunately, due to some error, one of the numbers in s got duplicated to another number in the set, which results in repetition of one number and loss of another number.**\n",
    "\n",
    "**You are given an integer array nums representing the data status of this set after the error.**\n",
    "\n",
    "**Find the number that occurs twice and the number that is missing and return them in the form of an array.**\n"
   ]
  },
  {
   "cell_type": "code",
   "execution_count": 56,
   "id": "7e58576f",
   "metadata": {},
   "outputs": [],
   "source": [
    "import statistics\n",
    "from statistics import mode\n",
    "class Solution:\n",
    "    def findErrorNums(self, nums: List[int]) -> List[int]:\n",
    "        l=[]\n",
    "        s=set(range(1,len(nums)+1))\n",
    "        l.append(mode(nums))\n",
    "        l.append((list(s-set(nums)))[0])\n",
    "        return l"
   ]
  },
  {
   "cell_type": "code",
   "execution_count": 57,
   "id": "644c6640",
   "metadata": {},
   "outputs": [
    {
     "data": {
      "text/plain": [
       "[2, 3]"
      ]
     },
     "execution_count": 57,
     "metadata": {},
     "output_type": "execute_result"
    }
   ],
   "source": [
    "r = Solution()\n",
    "r.findErrorNums([1,2,2,4])"
   ]
  },
  {
   "cell_type": "code",
   "execution_count": null,
   "id": "ffd2802d",
   "metadata": {},
   "outputs": [],
   "source": []
  }
 ],
 "metadata": {
  "kernelspec": {
   "display_name": "Python 3 (ipykernel)",
   "language": "python",
   "name": "python3"
  },
  "language_info": {
   "codemirror_mode": {
    "name": "ipython",
    "version": 3
   },
   "file_extension": ".py",
   "mimetype": "text/x-python",
   "name": "python",
   "nbconvert_exporter": "python",
   "pygments_lexer": "ipython3",
   "version": "3.9.12"
  }
 },
 "nbformat": 4,
 "nbformat_minor": 5
}

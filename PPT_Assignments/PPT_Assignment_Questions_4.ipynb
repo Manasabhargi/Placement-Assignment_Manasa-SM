{
 "cells": [
  {
   "cell_type": "markdown",
   "id": "1ad95b96",
   "metadata": {},
   "source": [
    "# Assignment Questions  -4"
   ]
  },
  {
   "cell_type": "markdown",
   "id": "7e3a737a",
   "metadata": {},
   "source": [
    "**Question 1**\n",
    "\n",
    "**Given three integer arrays arr1, arr2 and arr3 sorted in strictly increasing order, return a sorted array of only the integers that appeared in all three arrays**"
   ]
  },
  {
   "cell_type": "code",
   "execution_count": 6,
   "id": "b3b7540d",
   "metadata": {},
   "outputs": [
    {
     "name": "stdout",
     "output_type": "stream",
     "text": [
      "1\n",
      "5\n",
      "None\n"
     ]
    }
   ],
   "source": [
    "def findCommon(ar1, ar2, ar3, n1, n2, n3):\n",
    "\n",
    "\n",
    "    i, j, k = 0, 0, 0\n",
    "\n",
    "\n",
    "    while (i < n1 and j < n2 and k < n3):\n",
    "\n",
    "\n",
    "        if (ar1[i] == ar2[j] and ar2[j] == ar3[k]):\n",
    "            print (ar1[i])\n",
    "            i += 1\n",
    "            j += 1\n",
    "            k += 1\n",
    "\n",
    "        elif ar1[i] < ar2[j]:\n",
    "            i += 1\n",
    "\n",
    "        elif ar2[j] < ar3[k]:\n",
    "            j += 1\n",
    "\n",
    "        else:\n",
    "            k += 1\n",
    "\n",
    "\n",
    "# Driver program to check above function\n",
    "ar1 =  [1,2,3,4,5]\n",
    "ar2 =  [1,2,5,7,9]\n",
    "ar3 = [1,3,4,5,8]\n",
    "n1 = len(ar1)\n",
    "n2 = len(ar2)\n",
    "n3 = len(ar3)\n",
    "print (findCommon(ar1, ar2, ar3, n1, n2,n3))\n",
    "\n",
    "\n"
   ]
  },
  {
   "cell_type": "markdown",
   "id": "cdaf5bc1",
   "metadata": {},
   "source": [
    "💡 **Question 2**\n",
    "\n",
    "**Given two **0-indexed** integer arrays nums1 and nums2, return *a list* answer *of size* 2 *where**\n",
    "\n",
    "- answer[0] *is a list of all **distinct** integers in* nums1 *which are **not** present in* nums2*.*\n",
    "- answer[1] *is a list of all **distinct** integers in* nums2 *which are **not** present in* nums1.\n",
    "\n",
    "**Note** that the integers in the lists may be returned in **any** order.\n"
   ]
  },
  {
   "cell_type": "markdown",
   "id": "6d751a46",
   "metadata": {},
   "source": [
    "- By converting nums1 and nums2 to sets set1 and set2, we can easily find the set differences between them\n",
    "- We can convert the input arrays nums1 and nums2 to sets set1 and set2, respectively\n",
    "- We can then find the set difference between set1 and set2 to get the elements that are in set1 but not in set2\n",
    "- Similarly, we can find the set difference between set2 and set1 to get the elements that are in set2 but not in set1\n",
    "- We can then create a list of lists result with diff1 and diff2 as its elements, and return result."
   ]
  },
  {
   "cell_type": "code",
   "execution_count": 11,
   "id": "ba9d192f",
   "metadata": {},
   "outputs": [
    {
     "data": {
      "text/plain": [
       "[[1, 3], [4, 6]]"
      ]
     },
     "execution_count": 11,
     "metadata": {},
     "output_type": "execute_result"
    }
   ],
   "source": [
    "from typing import List\n",
    "\n",
    "class Solution:\n",
    "    def findDifference(self, nums1: List[int], nums2: List[int]) -> List[List[int]]:\n",
    "        set1,set2=set(nums1),set(nums2)\n",
    "        return[list(set1-set2),list(set2-set1)]\n",
    "            \n",
    "r = Solution()\n",
    "r.findDifference([1,2,3], [2,4,6])"
   ]
  },
  {
   "cell_type": "markdown",
   "id": "8d2423c2",
   "metadata": {},
   "source": [
    "💡 **Question 3**\n",
    "\n",
    "**Given a 2D integer array matrix, return *the **transpose** of* matrix**\n",
    "\n",
    "The **transpose** of a matrix is the matrix flipped over its main diagonal, switching the matrix's row and column indices.\n"
   ]
  },
  {
   "cell_type": "markdown",
   "id": "d8f70908",
   "metadata": {},
   "source": [
    "Time - O(number of elements)\n",
    "Space - O(1) - If you exclude the output array in space calculation."
   ]
  },
  {
   "cell_type": "code",
   "execution_count": 17,
   "id": "d25f94cb",
   "metadata": {},
   "outputs": [
    {
     "data": {
      "text/plain": [
       "[[1, 4, 7], [2, 5, 8], [3, 6, 9]]"
      ]
     },
     "execution_count": 17,
     "metadata": {},
     "output_type": "execute_result"
    }
   ],
   "source": [
    "class Solution:\n",
    "    def transpose(self, matrix: List[List[int]]) -> List[List[int]]:\n",
    "        m,n=len(matrix),len(matrix[0])\n",
    "        ans = [[None] * m for _ in range(n)]\n",
    "        for i in range(m):\n",
    "            for j in range(n):\n",
    "                ans[j][i]=matrix[i][j]\n",
    "        \n",
    "        return ans\n",
    "    \n",
    "r = Solution()\n",
    "r.transpose([[1,2,3],[4,5,6],[7,8,9]])"
   ]
  },
  {
   "cell_type": "markdown",
   "id": "ff796877",
   "metadata": {},
   "source": [
    "**Question 4**\n",
    "\n",
    "**Given an integer array nums of 2n integers, group these integers into n pairs (a1, b1), (a2, b2), ..., (an, bn) such that the sum of min(ai, bi) for all i is maximized. Return the maximized sum**"
   ]
  },
  {
   "cell_type": "markdown",
   "id": "9235b614",
   "metadata": {},
   "source": [
    "- First sort the input array\n",
    "- then add values at odd index of the sorted array\n",
    "\n",
    "Time Complexity: O(NlogN), N is length of the input array\n",
    "Space Complexity: O(1)"
   ]
  },
  {
   "cell_type": "code",
   "execution_count": 18,
   "id": "9170ec54",
   "metadata": {},
   "outputs": [
    {
     "data": {
      "text/plain": [
       "4"
      ]
     },
     "execution_count": 18,
     "metadata": {},
     "output_type": "execute_result"
    }
   ],
   "source": [
    "class Solution(object):\n",
    "    def arrayPairSum(self, nums):\n",
    "        \"\"\"\n",
    "        :type nums: List[int]\n",
    "        :rtype: int\n",
    "        \"\"\"\n",
    "        nums.sort()\n",
    "        result = 0\n",
    "        numsLen = len(nums)\n",
    "        for i in range(0, numsLen - 1, 2):\n",
    "            result += nums[i]\n",
    "        return result\n",
    "    \n",
    "r = Solution()\n",
    "r.arrayPairSum([1,4,3,2])"
   ]
  },
  {
   "cell_type": "markdown",
   "id": "447ffe62",
   "metadata": {},
   "source": [
    "💡 **Question 5**\n",
    "\n",
    "**You have n coins and you want to build a staircase with these coins. The staircase consists of k rows where the ith row has exactly i coins. The last row of the staircase **may be** incomplete**\n",
    "\n",
    "**Given the integer n, return *the number of **complete rows** of the staircase you will build**\n",
    "\n",
    "</aside>"
   ]
  },
  {
   "cell_type": "code",
   "execution_count": 19,
   "id": "10d47ea8",
   "metadata": {},
   "outputs": [
    {
     "data": {
      "text/plain": [
       "2"
      ]
     },
     "execution_count": 19,
     "metadata": {},
     "output_type": "execute_result"
    }
   ],
   "source": [
    "class Solution:\n",
    "    def arrangeCoins(self, n: int) -> int:\n",
    "        coin_counter = 0\n",
    "        rows = 0\n",
    "        \n",
    "        if n == 1:\n",
    "            return 1\n",
    "\n",
    "        while coin_counter+(rows+1) <= n:\n",
    "            rows += 1\n",
    "            coin_counter = coin_counter + rows\n",
    "        \n",
    "        return rows\n",
    "    \n",
    "r = Solution()\n",
    "r.arrangeCoins(5)"
   ]
  },
  {
   "cell_type": "markdown",
   "id": "8451fba7",
   "metadata": {},
   "source": [
    "**Question 6**\n",
    "\n",
    "**Given an integer array nums sorted in non-decreasing order, return an array of the squares of each number sorted in non-decreasing order**"
   ]
  },
  {
   "cell_type": "markdown",
   "id": "51587f40",
   "metadata": {},
   "source": [
    "There are a few similar approaches we can take here, each with its own subtle differences. All are of an O(n-log-n) time complexity due to using the inbuilt sort, although they differ in their space complexity."
   ]
  },
  {
   "cell_type": "code",
   "execution_count": 21,
   "id": "e095252a",
   "metadata": {},
   "outputs": [
    {
     "data": {
      "text/plain": [
       "[0, 1, 9, 16, 100]"
      ]
     },
     "execution_count": 21,
     "metadata": {},
     "output_type": "execute_result"
    }
   ],
   "source": [
    "class Solution:    \n",
    "    def sortedSquares(self, nums: List[int]) -> List[int]:\n",
    "        sq_nums = list(map(lambda n: n**2, nums))\n",
    "        sq_nums.sort()\n",
    "        return sq_nums\n",
    "\n",
    "r = Solution()\n",
    "r.sortedSquares([-4,-1,0,3,10])"
   ]
  },
  {
   "cell_type": "markdown",
   "id": "3cf12fac",
   "metadata": {},
   "source": [
    "💡 **Question 7**\n",
    "\n",
    "**You are given an m x n matrix M initialized with all 0's and an array of operations ops, where ops[i] = [ai, bi] means M[x][y] should be incremented by one for all 0 <= x < ai and 0 <= y < bi**\n",
    "\n",
    "**Count and return *the number of maximum integers in the matrix after performing all the operations**\n"
   ]
  },
  {
   "cell_type": "markdown",
   "id": "0c8ab368",
   "metadata": {},
   "source": [
    "- we need to increment the count of all the cells from (0,0) to each matrix cell position.\n",
    "- we need to find out the count of maximum integer in the matrix.\n",
    "- As per the question , a cell (x , y) value can be incremented if and only if (x , y) is one of the cell from (0,0) to the given input (p , q).\n",
    "- So , the maximum integer will be produced when matrix cell value is incremented more number of times."
   ]
  },
  {
   "cell_type": "code",
   "execution_count": 22,
   "id": "7529f0d9",
   "metadata": {},
   "outputs": [
    {
     "data": {
      "text/plain": [
       "4"
      ]
     },
     "execution_count": 22,
     "metadata": {},
     "output_type": "execute_result"
    }
   ],
   "source": [
    "class Solution:\n",
    "    def maxCount(self, m: int, n: int, ops: List[List[int]]) -> int:\n",
    "        length = len(ops)\n",
    "        if length == 0:\n",
    "            return m*n\n",
    "        result = [ops[0][0] , ops[0][1]]\n",
    "        for i in range(1,length):\n",
    "            result[0] = min(result[0] , ops[i][0])\n",
    "            result[1] = min(result[1] , ops[i][1])\n",
    "        return result[0]*result[1]\n",
    "    \n",
    "r = Solution()\n",
    "r.maxCount(3,3,[[2,2],[3,3]])"
   ]
  },
  {
   "cell_type": "markdown",
   "id": "f385ced6",
   "metadata": {},
   "source": [
    "💡 **Question 8**\n",
    "\n",
    "**Given the array nums consisting of 2n elements in the form [x1,x2,...,xn,y1,y2,...,yn]**\n",
    "\n",
    "**Return the array in the form* [x1,y1,x2,y2,...,xn,yn]**\n"
   ]
  },
  {
   "cell_type": "raw",
   "id": "1b9f4e16",
   "metadata": {},
   "source": [
    "Traverse through half way of the array and then access the elements till that parallelly...\n",
    "\n",
    "arr=[1,2,3,4,5,6]\n",
    "point i=0\n",
    "point j=3\n",
    "Then traverse till i becomes less than n and store the array elements in another array..\n",
    "\n",
    "Time complexity:\n",
    "O(N)\n",
    "Linear Traversal..\n",
    "\n",
    "Space complexity:\n",
    "O(N)"
   ]
  },
  {
   "cell_type": "code",
   "execution_count": 23,
   "id": "ded2d346",
   "metadata": {},
   "outputs": [
    {
     "data": {
      "text/plain": [
       "[2, 3, 5, 4, 1, 7]"
      ]
     },
     "execution_count": 23,
     "metadata": {},
     "output_type": "execute_result"
    }
   ],
   "source": [
    "class Solution:\n",
    "    def shuffle(self, nums: List[int], n: int) -> List[int]:\n",
    "        i=0\n",
    "        j=n\n",
    "        res=[]\n",
    "        #Store the values in another array...\n",
    "        while(i<n):\n",
    "            res.append(nums[i])\n",
    "            res.append(nums[j])\n",
    "            i+=1\n",
    "            j+=1\n",
    "        return res\n",
    "    \n",
    "r = Solution()\n",
    "r.shuffle([2,5,1,3,4,7],3)"
   ]
  },
  {
   "cell_type": "code",
   "execution_count": null,
   "id": "87d6171e",
   "metadata": {},
   "outputs": [],
   "source": []
  }
 ],
 "metadata": {
  "kernelspec": {
   "display_name": "Python 3 (ipykernel)",
   "language": "python",
   "name": "python3"
  },
  "language_info": {
   "codemirror_mode": {
    "name": "ipython",
    "version": 3
   },
   "file_extension": ".py",
   "mimetype": "text/x-python",
   "name": "python",
   "nbconvert_exporter": "python",
   "pygments_lexer": "ipython3",
   "version": "3.9.12"
  }
 },
 "nbformat": 4,
 "nbformat_minor": 5
}

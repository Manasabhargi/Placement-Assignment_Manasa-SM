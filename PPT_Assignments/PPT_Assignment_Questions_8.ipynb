{
 "cells": [
  {
   "cell_type": "markdown",
   "id": "cd479868",
   "metadata": {},
   "source": [
    "# Assignment Questions  - 8"
   ]
  },
  {
   "cell_type": "markdown",
   "id": "7ec63624",
   "metadata": {},
   "source": [
    "💡 **Question 1**\n",
    "\n",
    "**Given two strings s1 and s2, return *the lowest **ASCII** sum of deleted characters to make two strings equal**\n"
   ]
  },
  {
   "cell_type": "raw",
   "id": "a7544942",
   "metadata": {},
   "source": [
    "i is the i-th char of s2\n",
    "j is the j-th char of s1\n",
    "dp is a 2-dimension array [(len(s1)+1)*(len(s2)+1)]. dp[i][j] stores the minimum ASCII Delete Sum for s1[:j] and s2[:i].\n",
    "\n",
    "s1[j-1] == s2[i-1]\n",
    "dp[i][j] = dp[i - 1][j - 1]\n",
    "s1[j-1] != s2[i-1]\n",
    "If (j-1)th char of s1 is not equal to (i-1)th char of s2, it will have the following 2 situations:\n",
    "Delete s1[j-1]: s1[j - 1]) + dp[i][j - 1]\n",
    "Delete s2[i-1]: ord(s2[i - 1]) + dp[i - 1][j]\n",
    "So dp[i][j] = min(ord(s1[j - 1]) + dp[i][j - 1], ord(s2[i - 1]) + dp[i - 1][j])"
   ]
  },
  {
   "cell_type": "code",
   "execution_count": 1,
   "id": "a0577634",
   "metadata": {},
   "outputs": [
    {
     "data": {
      "text/plain": [
       "231"
      ]
     },
     "execution_count": 1,
     "metadata": {},
     "output_type": "execute_result"
    }
   ],
   "source": [
    "class Solution:\n",
    "    def minimumDeleteSum(self, s1: str, s2: str) -> int:\n",
    "        m, n = len(s1), len(s2)\n",
    "        dp = [[0] * (m + 1) for _ in range(n + 1)]\n",
    "\n",
    "        for i in range(1, m + 1):\n",
    "            for j in range(1, n + 1):\n",
    "                if s1[i - 1] == s2[j - 1]:\n",
    "                    dp[j][i] = dp[j - 1][i - 1] + ord(s1[i - 1])\n",
    "                else:\n",
    "                    dp[j][i] = max(dp[j - 1][i], dp[j][i - 1])\n",
    "        \n",
    "\n",
    "        return sum(map(ord, s1 + s2)) - dp[-1][-1] * 2\n",
    "    \n",
    "r = Solution()\n",
    "r.minimumDeleteSum( \"sea\",\"eat\")"
   ]
  },
  {
   "cell_type": "markdown",
   "id": "3565465a",
   "metadata": {},
   "source": [
    "💡 **Question 2**\n",
    "\n",
    "**Given a string s containing only three types of characters: '(', ')' and '*', return true *if* s *is **valid**\n",
    "\n",
    "The following rules define a **valid** string:\n",
    "\n",
    "- Any left parenthesis '(' must have a corresponding right parenthesis ')'.\n",
    "- Any right parenthesis ')' must have a corresponding left parenthesis '('.\n",
    "- Left parenthesis '(' must go before the corresponding right parenthesis ')'.\n",
    "- '*' could be treated as a single right parenthesis ')' or a single left parenthesis '(' or an empty string \"\".\n"
   ]
  },
  {
   "cell_type": "markdown",
   "id": "0bd65b26",
   "metadata": {},
   "source": [
    "Complexity Analysis\n",
    "\n",
    "Time Complexity: O(N∗3N)O(N * 3^{N})O(N∗3 \n",
    "N), where NNN is the length of the string. For each asterisk we try 3 different values. Thus, we could be checking the validity of up to 3N3^N3 \n",
    "N\n",
    "  strings. Then, each check of validity is O(N)O(N)O(N).\n",
    "\n",
    "Space Complexity: O(N)O(N)O(N), the space used by our character array."
   ]
  },
  {
   "cell_type": "code",
   "execution_count": 2,
   "id": "42daad20",
   "metadata": {},
   "outputs": [
    {
     "data": {
      "text/plain": [
       "True"
      ]
     },
     "execution_count": 2,
     "metadata": {},
     "output_type": "execute_result"
    }
   ],
   "source": [
    "class Solution(object):\n",
    "    def checkValidString(self, s):\n",
    "        if not s: return True\n",
    "        A = list(s)\n",
    "        self.ans = False\n",
    "\n",
    "        def solve(i):\n",
    "            if i == len(A):\n",
    "                self.ans |= valid()\n",
    "            elif A[i] == '*':\n",
    "                for c in '() ':\n",
    "                    A[i] = c\n",
    "                    solve(i+1)\n",
    "                    if self.ans: return\n",
    "                A[i] = '*'\n",
    "            else:\n",
    "                solve(i+1)\n",
    "\n",
    "        def valid():\n",
    "            bal = 0\n",
    "            for x in A:\n",
    "                if x == '(': bal += 1\n",
    "                if x == ')': bal -= 1\n",
    "                if bal < 0: break\n",
    "            return bal == 0\n",
    "\n",
    "        solve(0)\n",
    "        return self.ans\n",
    "    \n",
    "r = Solution()\n",
    "r.checkValidString(\"()\")"
   ]
  },
  {
   "cell_type": "markdown",
   "id": "56a93b34",
   "metadata": {},
   "source": [
    "💡 **Question 3**\n",
    "\n",
    "**Given two strings word1 and word2, return *the minimum number of **steps** required to make* word1 *and* word2 *the same**\n",
    "\n",
    "In one **step**, you can delete exactly one character in either string.\n"
   ]
  },
  {
   "cell_type": "code",
   "execution_count": 3,
   "id": "eae209ae",
   "metadata": {},
   "outputs": [
    {
     "data": {
      "text/plain": [
       "2"
      ]
     },
     "execution_count": 3,
     "metadata": {},
     "output_type": "execute_result"
    }
   ],
   "source": [
    "class Solution:\n",
    "    def minDistance(self, W1: str, W2: str) -> int:\n",
    "        m, n = len(W1), len(W2)\n",
    "        if m < n: W1, W2, m, n = W2, W1, n, m\n",
    "        dpLast, dpCurr = [0] * (n + 1), [0] * (n + 1)\n",
    "        for c1 in W1:\n",
    "            for j in range(n):\n",
    "                dpCurr[j+1] = dpLast[j] + 1 if c1 == W2[j] else max(dpCurr[j], dpLast[j+1])\n",
    "            dpLast, dpCurr = dpCurr, dpLast\n",
    "        return m + n - 2 * dpLast[n]\n",
    "    \n",
    "r  = Solution()\n",
    "r.minDistance(\"sea\",\"eat\")"
   ]
  },
  {
   "cell_type": "markdown",
   "id": "fe83e6bf",
   "metadata": {},
   "source": [
    "💡 **Question 4**\n",
    "\n",
    "**You need to construct a binary tree from a string consisting of parenthesis and integers**\n",
    "\n",
    "**The whole input represents a binary tree. It contains an integer followed by zero, one or two pairs of parenthesis. The integer represents the root's value and a pair of parenthesis contains a child binary tree with the same structure.\n",
    "You always start to construct the **left** child node of the parent first if it exists**\n"
   ]
  },
  {
   "cell_type": "raw",
   "id": "5214e943",
   "metadata": {},
   "source": [
    "Time Complexity: O(N2)\n",
    "Auxiliary Space: O(N)\n",
    "\n",
    "\n",
    "Algorithm:\n",
    "\n",
    "The very first element of the string is the root.\n",
    "If the next two consecutive elements are “(” and “)”, this means there is no left child otherwise we will create and add the left child to the parent node recursively.\n",
    "Once the left child is added recursively, we will look for consecutive “(” and add the right child to the parent node.\n",
    "Encountering “)” means the end of either left or right node and we will increment the start index\n",
    "The recursion ends when the start index is greater than equal to the end index"
   ]
  },
  {
   "cell_type": "code",
   "execution_count": 4,
   "id": "9bf55186",
   "metadata": {},
   "outputs": [
    {
     "name": "stdout",
     "output_type": "stream",
     "text": [
      "4 2 3 1 6 5 "
     ]
    }
   ],
   "source": [
    "class newNode:\n",
    "    def __init__(self, data):\n",
    "        self.data = data\n",
    "        self.left = self.right = None\n",
    "\n",
    "# This function is here just to test\n",
    "\n",
    "\n",
    "def preOrder(node):\n",
    "    if (node == None):\n",
    "        return\n",
    "    print(node.data, end=' ')\n",
    "    preOrder(node.left)\n",
    "    preOrder(node.right)\n",
    "\n",
    "# function to return the index of\n",
    "# close parenthesis\n",
    "\n",
    "\n",
    "def findIndex(Str, si, ei):\n",
    "    if (si > ei):\n",
    "        return -1\n",
    "\n",
    "    # Inbuilt stack\n",
    "    s = []\n",
    "    for i in range(si, ei + 1):\n",
    "\n",
    "# if open parenthesis, push it\n",
    "        if (Str[i] == '('):\n",
    "            s.append(Str[i])\n",
    "\n",
    "# if close parenthesis\n",
    "        elif (Str[i] == ')'):\n",
    "            if (s[-1] == '('):\n",
    "                s.pop(-1)\n",
    "\n",
    "# if stack is empty, this is\n",
    "# the required index\n",
    "                if len(s) == 0:\n",
    "                    return i\n",
    "# if not found return -1\n",
    "    return -1\n",
    "\n",
    "# function to conStruct tree from String\n",
    "\n",
    "\n",
    "def treeFromString(Str, si, ei):\n",
    "\n",
    "# Base case\n",
    "    if (si > ei):\n",
    "        return None\n",
    "\n",
    "# new root\n",
    "    root = newNode(ord(Str[si]) - ord('0'))\n",
    "    index = -1\n",
    "\n",
    "# if next char is '(' find the\n",
    "# index of its complement ')'\n",
    "    if (si + 1 <= ei and Str[si + 1] == '('):\n",
    "        index = findIndex(Str, si + 1, ei)\n",
    "\n",
    "# if index found\n",
    "    if (index != -1):\n",
    "\n",
    "# call for left subtree\n",
    "        root.left = treeFromString(Str, si + 2,\n",
    "                                index - 1)\n",
    "\n",
    "# call for right subtree\n",
    "        root.right = treeFromString(Str, index + 2,\n",
    "                                    ei - 1)\n",
    "    return root\n",
    "\n",
    "\n",
    "# Driver Code\n",
    "if __name__ == '__main__':\n",
    "    Str = \"4(2(3)(1))(6(5))\"\n",
    "    root = treeFromString(Str, 0, len(Str) - 1)\n",
    "    preOrder(root)\n",
    "\n"
   ]
  },
  {
   "cell_type": "markdown",
   "id": "be6136ec",
   "metadata": {},
   "source": [
    "💡 **Question 5**\n",
    "\n",
    "**Given an array of characters chars, compress it using the following algorithm**\n",
    "\n",
    "Begin with an empty string s. For each group of **consecutive repeating characters** in chars:\n",
    "\n",
    "- If the group's length is 1, append the character to s.\n",
    "- Otherwise, append the character followed by the group's length.\n",
    "\n",
    "The compressed string s **should not be returned separately**, but instead, be stored **in the input character array chars**. Note that group lengths that are 10 or longer will be split into multiple characters in chars.\n",
    "\n",
    "After you are done **modifying the input array,** return *the new length of the array*.\n",
    "\n",
    "You must write an algorithm that uses only constant extra space.\n"
   ]
  },
  {
   "cell_type": "raw",
   "id": "367cee7d",
   "metadata": {},
   "source": [
    "Complexity\n",
    "\n",
    "Time complexity:\n",
    "The time complexity of this solution is O(n), where n is the length of the input chars array. The algorithm iterates through the array once, performing constant-time operations at each step.\n",
    "\n",
    "Space complexity:\n",
    "The solution uses constant extra space, as it modifies the chars array in-place without using any additional data structures. Therefore, the space complexity is O(1)."
   ]
  },
  {
   "cell_type": "code",
   "execution_count": 7,
   "id": "124d5126",
   "metadata": {},
   "outputs": [
    {
     "data": {
      "text/plain": [
       "6"
      ]
     },
     "execution_count": 7,
     "metadata": {},
     "output_type": "execute_result"
    }
   ],
   "source": [
    "class Solution:\n",
    "    def compress(self, chars: List[str]) -> int:\n",
    "        i=0\n",
    "        count=1\n",
    "        while i<len(chars)-1:\n",
    "            if chars[i+1]==chars[i]:\n",
    "                chars.pop(i+1)\n",
    "                count+=1\n",
    "            elif count>1:\n",
    "                cc=[*str(count)]\n",
    "                for j in range(len(cc)):\n",
    "                    chars.insert(i+j+1,cc[j])\n",
    "                count=1\n",
    "                i+=len(cc)+1\n",
    "            else:\n",
    "                i+=1\n",
    "        if count>1:\n",
    "            chars+=[*str(count)]\n",
    "        return len(chars)\n",
    "    \n",
    "r = Solution()\n",
    "r.compress([\"a\",\"a\",\"b\",\"b\",\"c\",\"c\",\"c\"])"
   ]
  },
  {
   "cell_type": "markdown",
   "id": "e5f466ea",
   "metadata": {},
   "source": [
    "💡 **Question 6**\n",
    "\n",
    "Given two strings s and p, return *an array of all the start indices of* p*'s anagrams in* s. You may return the answer in **any order**.\n",
    "\n",
    "An **Anagram** is a word or phrase formed by rearranging the letters of a different word or phrase, typically using all the original letters exactly once.\n"
   ]
  },
  {
   "cell_type": "code",
   "execution_count": 8,
   "id": "1da2c3da",
   "metadata": {},
   "outputs": [
    {
     "data": {
      "text/plain": [
       "[0, 6]"
      ]
     },
     "execution_count": 8,
     "metadata": {},
     "output_type": "execute_result"
    }
   ],
   "source": [
    "class Solution:\n",
    "    def findAnagrams(self, s: str, p: str) -> List[int]:\n",
    "        # base case\n",
    "        if len(p) > len(s): return []\n",
    "        # create two dict to store char of string s and p \n",
    "        sCount, pCount = {}, {}\n",
    "        # iterate over the range of len(p) and add char of both p and s to resp hashmaps\n",
    "        for i in range(len(p)):\n",
    "            pCount[p[i]] = 1 + pCount.get(p[i], 0)\n",
    "            sCount[s[i]] = 1 + sCount.get(s[i], 0)\n",
    "        # initialize res array to return later\n",
    "        # firstly if both dict are equal here then append 0 to res as we have found first\n",
    "        # anagram here only. \n",
    "        res = [0] if sCount == pCount else []\n",
    "        # initialize left pointer of sliding window\n",
    "        l = 0\n",
    "        # iterate using right pointer from len(p) as we have added first char before\n",
    "        # iterate till len(s) \n",
    "        for r in range(len(p), len(s)):\n",
    "            # add s[r] to hashmap\n",
    "            sCount[s[r]] = 1 + sCount.get(s[r], 0)\n",
    "            # dec val of s[l]\n",
    "            sCount[s[l]] -= 1\n",
    "            # if val for s[l] is zero then remove from hashmap\n",
    "            if sCount[s[l]] == 0: sCount.pop(s[l])\n",
    "            # increment l \n",
    "            l += 1\n",
    "            #lastly if both hashmaps are equal then res.append(l)\n",
    "            if sCount == pCount: res.append(l)\n",
    "        #return res \n",
    "        return res\n",
    "        \n",
    "r = Solution()\n",
    "r.findAnagrams( \"cbaebabacd\",\"abc\")"
   ]
  },
  {
   "cell_type": "markdown",
   "id": "1c1efbe2",
   "metadata": {},
   "source": [
    "💡 **Question 7**\n",
    "\n",
    "**Given an encoded string, return its decoded string**\n",
    "\n",
    "**The encoding rule is: k[encoded_string], where the encoded_string inside the square brackets is being repeated exactly k times. Note that k is guaranteed to be a positive integer**\n",
    "\n",
    "**You may assume that the input string is always valid; there are no extra white spaces, square brackets are well-formed, etc. Furthermore, you may assume that the original data does not contain any digits and that digits are only for those repeat numbers, k. For example, there will not be input like 3a or 2[4]**\n",
    "\n",
    "**The test cases are generated so that the length of the output will never exceed 105**\n"
   ]
  },
  {
   "cell_type": "code",
   "execution_count": 9,
   "id": "116c37e8",
   "metadata": {},
   "outputs": [
    {
     "data": {
      "text/plain": [
       "'aaabcbc'"
      ]
     },
     "execution_count": 9,
     "metadata": {},
     "output_type": "execute_result"
    }
   ],
   "source": [
    "class Solution:\n",
    "    def decodeString(self, s: str) -> str:\n",
    "        st = []\n",
    "        num = 0\n",
    "        res = ''\n",
    "\n",
    "        for ch in s:\n",
    "            if ch.isnumeric():\n",
    "                num = num * 10 + int(ch)\n",
    "            elif ch == '[':\n",
    "                st.append(res)\n",
    "                st.append(num)\n",
    "                res = ''\n",
    "                num = 0\n",
    "            elif ch == ']':\n",
    "                cnt = st.pop()\n",
    "                prev = st.pop()\n",
    "                res = prev + cnt * res\n",
    "            else:\n",
    "                res += ch\n",
    "        return res\n",
    "    \n",
    "r  =Solution()\n",
    "r.decodeString(\"3[a]2[bc]\")"
   ]
  },
  {
   "cell_type": "markdown",
   "id": "7e6fbbfd",
   "metadata": {},
   "source": [
    "💡 **Question 8**\n",
    "\n",
    "**Given two strings s and goal, return true *if you can swap two letters in* s *so the result is equal to* goal*, otherwise, return* false**\n",
    "\n",
    "**Swapping letters is defined as taking two indices i and j (0-indexed) such that i != j and swapping the characters at s[i] and s[j]**\n"
   ]
  },
  {
   "cell_type": "code",
   "execution_count": 10,
   "id": "bef2e7f7",
   "metadata": {},
   "outputs": [
    {
     "data": {
      "text/plain": [
       "True"
      ]
     },
     "execution_count": 10,
     "metadata": {},
     "output_type": "execute_result"
    }
   ],
   "source": [
    "class Solution:\n",
    "    def buddyStrings(self, A: str, B: str) -> bool:                \n",
    "        if len(A) != len(B):\n",
    "            return False\n",
    "        \n",
    "        if A == B and len(A) != len(set(A)):\n",
    "            return True\n",
    "        \n",
    "        diffs = []\n",
    "        for i in range(len(A)):\n",
    "            if A[i] != B[i]:\n",
    "                diffs.append(i)\n",
    "                if len(diffs) > 2:\n",
    "                    return False\n",
    "                \n",
    "        return len(diffs) == 2 and A[diffs[0]] == B[diffs[1]] and A[diffs[1]] == B[diffs[0]]\n",
    "    \n",
    "r = Solution()\n",
    "r.buddyStrings(\"ab\",\"ba\")"
   ]
  },
  {
   "cell_type": "code",
   "execution_count": null,
   "id": "66ba069c",
   "metadata": {},
   "outputs": [],
   "source": []
  }
 ],
 "metadata": {
  "kernelspec": {
   "display_name": "Python 3 (ipykernel)",
   "language": "python",
   "name": "python3"
  },
  "language_info": {
   "codemirror_mode": {
    "name": "ipython",
    "version": 3
   },
   "file_extension": ".py",
   "mimetype": "text/x-python",
   "name": "python",
   "nbconvert_exporter": "python",
   "pygments_lexer": "ipython3",
   "version": "3.9.12"
  }
 },
 "nbformat": 4,
 "nbformat_minor": 5
}

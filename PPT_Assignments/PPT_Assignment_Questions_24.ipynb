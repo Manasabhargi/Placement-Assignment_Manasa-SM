{
 "cells": [
  {
   "cell_type": "markdown",
   "id": "79aeeb05",
   "metadata": {},
   "source": [
    "# Assignment Questions - 24"
   ]
  },
  {
   "cell_type": "markdown",
   "id": "c3d3e51e",
   "metadata": {},
   "source": [
    "<aside>\n",
    "💡 1. **Roman to Integer**\n",
    "\n",
    "Roman numerals are represented by seven different symbols: `I`, `V`, `X`, `L`, `C`, `D` and `M`.\n",
    "\n",
    "</aside>"
   ]
  },
  {
   "cell_type": "raw",
   "id": "0f6caa35",
   "metadata": {},
   "source": [
    "SymbolValue\n",
    "I             1\n",
    "V             5\n",
    "X             10\n",
    "L             50\n",
    "C             100\n",
    "D             500\n",
    "M             1000"
   ]
  },
  {
   "cell_type": "markdown",
   "id": "5d176a5e",
   "metadata": {},
   "source": [
    "For example, `2` is written as `II` in Roman numeral, just two ones added together. `12` is written as `XII`, which is simply `X + II`. The number `27` is written as `XXVII`, which is `XX + V + II`.\n",
    "\n",
    "Roman numerals are usually written largest to smallest from left to right. However, the numeral for four is not `IIII`. Instead, the number four is written as `IV`. Because the one is before the five we subtract it making four. The same principle applies to the number nine, which is written as `IX`. There are six instances where subtraction is used:\n",
    "\n",
    "- `I` can be placed before `V` (5) and `X` (10) to make 4 and 9.\n",
    "- `X` can be placed before `L` (50) and `C` (100) to make 40 and 90.\n",
    "- `C` can be placed before `D` (500) and `M` (1000) to make 400 and 900.\n",
    "\n",
    "Given a roman numeral, convert it to an integer."
   ]
  },
  {
   "cell_type": "code",
   "execution_count": 1,
   "id": "d741495e",
   "metadata": {},
   "outputs": [],
   "source": [
    "def romanToInt(s: str) -> int:\n",
    "    # Dictionary of roman numerals\n",
    "    roman_map = {'I': 1, 'V': 5, 'X': 10, 'L': 50, 'C': 100, 'D': 500, 'M': 1000}\n",
    "    # Length of the given string\n",
    "    n = len(s)\n",
    "    # This variable will store result\n",
    "    num = roman_map[s[n - 1]]\n",
    "    # Loop for each character from right to left\n",
    "    for i in range(n - 2, -1, -1):\n",
    "        # Check if the character at right of current character is bigger or smaller\n",
    "        if roman_map[s[i]] >= roman_map[s[i + 1]]:\n",
    "            num += roman_map[s[i]]\n",
    "        else:\n",
    "            num -= roman_map[s[i]]\n",
    "    return num"
   ]
  },
  {
   "cell_type": "code",
   "execution_count": 2,
   "id": "a2625262",
   "metadata": {},
   "outputs": [
    {
     "data": {
      "text/plain": [
       "3"
      ]
     },
     "execution_count": 2,
     "metadata": {},
     "output_type": "execute_result"
    }
   ],
   "source": [
    "romanToInt(\"III\")"
   ]
  },
  {
   "cell_type": "markdown",
   "id": "a9301ea8",
   "metadata": {},
   "source": [
    "<aside>\n",
    "💡 2. **Longest Substring Without Repeating Characters**\n",
    "\n",
    "Given a string `s`, find the length of the **longest substring** without repeating characters.\n",
    "\n",
    "</aside>"
   ]
  },
  {
   "cell_type": "code",
   "execution_count": 9,
   "id": "94c67103",
   "metadata": {},
   "outputs": [
    {
     "name": "stdout",
     "output_type": "stream",
     "text": [
      "The input is  geeksforgeeks\n"
     ]
    },
    {
     "ename": "TypeError",
     "evalue": "'int' object is not callable",
     "output_type": "error",
     "traceback": [
      "\u001b[1;31m---------------------------------------------------------------------------\u001b[0m",
      "\u001b[1;31mTypeError\u001b[0m                                 Traceback (most recent call last)",
      "Input \u001b[1;32mIn [9]\u001b[0m, in \u001b[0;36m<cell line: 40>\u001b[1;34m()\u001b[0m\n\u001b[0;32m     42\u001b[0m \u001b[38;5;28mstr\u001b[39m \u001b[38;5;241m=\u001b[39m \u001b[38;5;124m\"\u001b[39m\u001b[38;5;124mgeeksforgeeks\u001b[39m\u001b[38;5;124m\"\u001b[39m\n\u001b[0;32m     43\u001b[0m \u001b[38;5;28mprint\u001b[39m(\u001b[38;5;124m\"\u001b[39m\u001b[38;5;124mThe input is \u001b[39m\u001b[38;5;124m\"\u001b[39m, \u001b[38;5;28mstr\u001b[39m)\n\u001b[1;32m---> 45\u001b[0m \u001b[38;5;28mlen\u001b[39m \u001b[38;5;241m=\u001b[39m \u001b[43mlongestUniqueSubsttr\u001b[49m\u001b[43m(\u001b[49m\u001b[38;5;28;43mstr\u001b[39;49m\u001b[43m)\u001b[49m\n\u001b[0;32m     46\u001b[0m \u001b[38;5;28mprint\u001b[39m(\u001b[38;5;124m\"\u001b[39m\u001b[38;5;124mThe length of the longest \u001b[39m\u001b[38;5;124m\"\u001b[39m\n\u001b[0;32m     47\u001b[0m \t\u001b[38;5;124m\"\u001b[39m\u001b[38;5;124mnon-repeating character substring is \u001b[39m\u001b[38;5;124m\"\u001b[39m, \u001b[38;5;28mlen\u001b[39m)\n",
      "Input \u001b[1;32mIn [9]\u001b[0m, in \u001b[0;36mlongestUniqueSubsttr\u001b[1;34m(str)\u001b[0m\n\u001b[0;32m     25\u001b[0m \u001b[38;5;28;01mdef\u001b[39;00m \u001b[38;5;21mlongestUniqueSubsttr\u001b[39m(\u001b[38;5;28mstr\u001b[39m):\n\u001b[1;32m---> 27\u001b[0m \tn \u001b[38;5;241m=\u001b[39m \u001b[38;5;28;43mlen\u001b[39;49m\u001b[43m(\u001b[49m\u001b[38;5;28;43mstr\u001b[39;49m\u001b[43m)\u001b[49m\n\u001b[0;32m     29\u001b[0m \t\u001b[38;5;66;03m# Result\u001b[39;00m\n\u001b[0;32m     30\u001b[0m \tres \u001b[38;5;241m=\u001b[39m \u001b[38;5;241m0\u001b[39m\n",
      "\u001b[1;31mTypeError\u001b[0m: 'int' object is not callable"
     ]
    }
   ],
   "source": [
    "# Python3 program to find the length\n",
    "# of the longest substring without\n",
    "# repeating characters\n",
    "\n",
    "# This function returns true if all\n",
    "# characters in str[i..j] are\n",
    "# distinct, otherwise returns false\n",
    "def areDistinct(str, i, j):\n",
    "\n",
    "# Note : Default values in visited are false\n",
    "    visited = [0] * (26)\n",
    "\n",
    "    for k in range(i, j + 1):\n",
    "        if (visited[ord(str[k]) -\n",
    "                ord('a')] == True):\n",
    "            return False\n",
    "\n",
    "        visited[ord(str[k]) -\n",
    "                ord('a')] = True\n",
    "\n",
    "    return True\n",
    "\n",
    "# Returns length of the longest substring\n",
    "# with all distinct characters.\n",
    "def longestUniqueSubsttr(str):\n",
    "\n",
    "    n = len(str)\n",
    "\n",
    "# Result\n",
    "    res = 0\n",
    "\n",
    "    for i in range(n):\n",
    "        for j in range(i, n):\n",
    "            if (areDistinct(str, i, j)):\n",
    "                res = max(res, j - i + 1)\n",
    "\n",
    "    return res\n",
    "\n",
    "# Driver code\n",
    "if __name__ == '__main__':\n",
    "\n",
    "    str = \"geeksforgeeks\"\n",
    "    print(\"The input is \", str)\n",
    "\n",
    "    len = longestUniqueSubsttr(str)\n",
    "    print(\"The length of the longest \"\n",
    "        \"non-repeating character substring is \", len)\n",
    "\n"
   ]
  },
  {
   "cell_type": "markdown",
   "id": "9fe357ac",
   "metadata": {},
   "source": [
    "<aside>\n",
    "💡 3. **Majority Element**\n",
    "\n",
    "Given an array `nums` of size `n`, return *the majority element*.\n",
    "\n",
    "The majority element is the element that appears more than `⌊n / 2⌋` times. You may assume that the majority element always exists in the array.\n"
   ]
  },
  {
   "cell_type": "code",
   "execution_count": 12,
   "id": "1617355f",
   "metadata": {},
   "outputs": [
    {
     "data": {
      "text/plain": [
       "3"
      ]
     },
     "execution_count": 12,
     "metadata": {},
     "output_type": "execute_result"
    }
   ],
   "source": [
    "from typing import List\n",
    "class Solution:\n",
    "    def majorityElement(self, nums: List[int]) -> int:\n",
    "        sol = None\n",
    "        cnt = 0\n",
    "        for i in nums:\n",
    "            if cnt == 0:\n",
    "                sol = i\n",
    "            cnt += (1 if i == sol else -1)\n",
    "        return sol\n",
    "r = Solution()\n",
    "r.majorityElement([3,2,3])"
   ]
  },
  {
   "cell_type": "markdown",
   "id": "299382c3",
   "metadata": {},
   "source": [
    "<aside>\n",
    "💡 4. **Group Anagram**\n",
    "\n",
    "Given an array of strings `strs`, group **the anagrams** together. You can return the answer in **any order**.\n",
    "\n",
    "An **Anagram** is a word or phrase formed by rearranging the letters of a different word or phrase, typically using all the original letters exactly once.\n",
    "\n",
    "</aside>"
   ]
  },
  {
   "cell_type": "code",
   "execution_count": 16,
   "id": "53475527",
   "metadata": {},
   "outputs": [
    {
     "data": {
      "text/plain": [
       "[['eat', 'tea', 'ate'], ['tan', 'nat'], ['bat']]"
      ]
     },
     "execution_count": 16,
     "metadata": {},
     "output_type": "execute_result"
    }
   ],
   "source": [
    "from collections import defaultdict\n",
    "class Solution:\n",
    "    def groupAnagrams(self, strs: List[str]) -> List[List[str]]:\n",
    "        answer = defaultdict(list)\n",
    "        for word in strs:\n",
    "            answer[\"\".join(sorted(word))].append(word)\n",
    "        return list(answer.values())\n",
    "r = Solution()\n",
    "r.groupAnagrams([\"eat\",\"tea\",\"tan\",\"ate\",\"nat\",\"bat\"])"
   ]
  },
  {
   "cell_type": "markdown",
   "id": "55dfef4a",
   "metadata": {},
   "source": [
    "<aside>\n",
    "💡 5. **Ugly Numbers**\n",
    "\n",
    "An **ugly number** is a positive integer whose prime factors are limited to `2`, `3`, and `5`.\n",
    "\n",
    "Given an integer `n`, return *the* `nth` ***ugly number***.\n",
    "\n",
    "</aside>"
   ]
  },
  {
   "cell_type": "code",
   "execution_count": 18,
   "id": "76a5e912",
   "metadata": {},
   "outputs": [
    {
     "name": "stdout",
     "output_type": "stream",
     "text": [
      "150th ugly no. is  12\n"
     ]
    }
   ],
   "source": [
    "# Python3 code to find nth ugly number\n",
    "\n",
    "# This function divides a by greatest\n",
    "# divisible power of b\n",
    "\n",
    "\n",
    "def maxDivide(a, b):\n",
    "\twhile a % b == 0:\n",
    "\t\ta = a / b\n",
    "\treturn a\n",
    "\n",
    "# Function to check if a number\n",
    "# is ugly or not\n",
    "def isUgly(no):\n",
    "\tno = maxDivide(no, 2)\n",
    "\tno = maxDivide(no, 3)\n",
    "\tno = maxDivide(no, 5)\n",
    "\treturn 1 if no == 1 else 0\n",
    "\n",
    "# Function to get the nth ugly number\n",
    "def getNthUglyNo(n):\n",
    "\ti = 1\n",
    "\t\n",
    "\t# ugly number count\n",
    "\tcount = 1\n",
    "\n",
    "\t# Check for all integers until\n",
    "\t# ugly count becomes n\n",
    "\twhile n > count:\n",
    "\t\ti += 1\n",
    "\t\tif isUgly(i):\n",
    "\t\t\tcount += 1\n",
    "\treturn i\n",
    "\n",
    "\n",
    "# Driver code\n",
    "no = getNthUglyNo(10)\n",
    "print(\"150th ugly no. is \", no)\n",
    "\n",
    "\n"
   ]
  },
  {
   "cell_type": "markdown",
   "id": "a3ff9ded",
   "metadata": {},
   "source": [
    "<aside>\n",
    "💡 6. **Top K Frequent Words**\n",
    "\n",
    "Given an array of strings `words` and an integer `k`, return *the* `k` *most frequent strings*.\n",
    "\n",
    "Return the answer **sorted** by **the frequency** from highest to lowest. Sort the words with the same frequency by their **lexicographical order**.\n",
    "\n",
    "</aside>"
   ]
  },
  {
   "cell_type": "code",
   "execution_count": 21,
   "id": "2230da6e",
   "metadata": {},
   "outputs": [
    {
     "data": {
      "text/plain": [
       "['i', 'love']"
      ]
     },
     "execution_count": 21,
     "metadata": {},
     "output_type": "execute_result"
    }
   ],
   "source": [
    "from typing import List\n",
    "from collections import Counter\n",
    "class Solution:\n",
    "    def topKFrequent(self, words: List[str], k: int) -> List[str]:\n",
    "        # Sorting the List\n",
    "        words = sorted(words)\n",
    "        \n",
    "        # Count the number of words using Counter\n",
    "        c = Counter(words)\n",
    "        \n",
    "        # Return the k most common words\n",
    "        return [word for word, _ in c.most_common(k)]\n",
    "    \n",
    "r = Solution()\n",
    "r.topKFrequent([\"i\",\"love\",\"leetcode\",\"i\",\"love\",\"coding\"],2)"
   ]
  },
  {
   "cell_type": "code",
   "execution_count": 25,
   "id": "795b8630",
   "metadata": {},
   "outputs": [
    {
     "ename": "TypeError",
     "evalue": "'int' object is not callable",
     "output_type": "error",
     "traceback": [
      "\u001b[1;31m---------------------------------------------------------------------------\u001b[0m",
      "\u001b[1;31mTypeError\u001b[0m                                 Traceback (most recent call last)",
      "Input \u001b[1;32mIn [25]\u001b[0m, in \u001b[0;36m<cell line: 73>\u001b[1;34m()\u001b[0m\n\u001b[0;32m     73\u001b[0m \u001b[38;5;28;01mif\u001b[39;00m \u001b[38;5;18m__name__\u001b[39m \u001b[38;5;241m==\u001b[39m \u001b[38;5;124m\"\u001b[39m\u001b[38;5;124m__main__\u001b[39m\u001b[38;5;124m\"\u001b[39m :\n\u001b[0;32m     75\u001b[0m \tarr1 \u001b[38;5;241m=\u001b[39m[\u001b[38;5;241m12\u001b[39m, \u001b[38;5;241m16\u001b[39m, \u001b[38;5;241m22\u001b[39m, \u001b[38;5;241m30\u001b[39m, \u001b[38;5;241m35\u001b[39m, \u001b[38;5;241m39\u001b[39m, \u001b[38;5;241m42\u001b[39m,\n\u001b[0;32m     76\u001b[0m \t\t\t\u001b[38;5;241m45\u001b[39m, \u001b[38;5;241m48\u001b[39m, \u001b[38;5;241m50\u001b[39m, \u001b[38;5;241m53\u001b[39m, \u001b[38;5;241m55\u001b[39m, \u001b[38;5;241m56\u001b[39m]\n\u001b[1;32m---> 78\u001b[0m \tn \u001b[38;5;241m=\u001b[39m \u001b[38;5;28;43mlen\u001b[39;49m\u001b[43m(\u001b[49m\u001b[43marr1\u001b[49m\u001b[43m)\u001b[49m\n\u001b[0;32m     79\u001b[0m \tx \u001b[38;5;241m=\u001b[39m \u001b[38;5;241m35\u001b[39m\n\u001b[0;32m     80\u001b[0m \tk \u001b[38;5;241m=\u001b[39m \u001b[38;5;241m4\u001b[39m\n",
      "\u001b[1;31mTypeError\u001b[0m: 'int' object is not callable"
     ]
    }
   ],
   "source": [
    "# Function to find the cross over point\n",
    "# (the point before which elements are\n",
    "# smaller than or equal to x and after\n",
    "# which greater than x)\n",
    "def findCrossOver(arr1, low, high, x) :\n",
    "\n",
    "\t# Base cases\n",
    "\tif (arr1[high] <= x) : # x is greater than all\n",
    "\t\treturn high\n",
    "\t\t\n",
    "\tif (arr1[low] > x) : # x is smaller than all\n",
    "\t\treturn low\n",
    "\t\n",
    "\t# Find the middle point\n",
    "\tmid = (low + high) // 2 # low + (high - low)// 2\n",
    "\t\n",
    "\t# If x is same as middle element,\n",
    "\t# then return mid\n",
    "\tif (arr1[mid] <= x and arr1[mid + 1] > x) :\n",
    "\t\treturn mid\n",
    "\t\n",
    "\t# If x is greater than arr[mid], then\n",
    "\t# either arr[mid + 1] is ceiling of x\n",
    "\t# or ceiling lies in arr[mid+1...high]\n",
    "\tif(arr1[mid] < x) :\n",
    "\t\treturn findCrossOver(arr1, mid + 1, high, x)\n",
    "\t\n",
    "\treturn findCrossOver(arr1, low, mid - 1, x)\n",
    "\n",
    "# This function prints k closest elements to x\n",
    "# in arr[]. n is the number of elements in arr[]\n",
    "def printKclosest(arr1, x, k, n) :\n",
    "\t\n",
    "\t# Find the crossover point\n",
    "\tl = findCrossOver(arr1, 0, n - 1, x)\n",
    "\tr = l + 1 # Right index to search\n",
    "\tcount = 0 # To keep track of count of\n",
    "\t\t\t# elements already printed\n",
    "\n",
    "\t# If x is present in arr[], then reduce\n",
    "\t# left index. Assumption: all elements\n",
    "\t# in arr[] are distinct\n",
    "\tif (arr1[l] == x) :\n",
    "\t\tl -= 1\n",
    "\n",
    "\t# Compare elements on left and right of crossover\n",
    "\t# point to find the k closest elements\n",
    "\twhile (l >= 0 and r < n and count < k) :\n",
    "\t\t\n",
    "\t\tif (x - arr1[l] < arr1[r] - x) :\n",
    "\t\t\tprint(arr1[l], end = \" \")\n",
    "\t\t\tl -= 1\n",
    "\t\telse :\n",
    "\t\t\tprint(arr1[r], end = \" \")\n",
    "\t\t\tr += 1\n",
    "\t\tcount += 1\n",
    "\n",
    "\t# If there are no more elements on right\n",
    "\t# side, then print left elements\n",
    "\twhile (count < k and l >= 0) :\n",
    "\t\tprint(arr1[l], end = \" \")\n",
    "\t\tl -= 1\n",
    "\t\tcount += 1\n",
    "\n",
    "\t# If there are no more elements on left\n",
    "\t# side, then print right elements\n",
    "\twhile (count < k and r < n) :\n",
    "\t\tprint(arr1[r], end = \" \")\n",
    "\t\tr += 1\n",
    "\t\tcount += 1\n",
    "\n",
    "# Driver Code\n",
    "if __name__ == \"__main__\" :\n",
    "\n",
    "\tarr1 =[12, 16, 22, 30, 35, 39, 42,\n",
    "\t\t\t45, 48, 50, 53, 55, 56]\n",
    "\t\t\t\t\n",
    "\tn = len(arr1)\n",
    "\tx = 35\n",
    "\tk = 4\n",
    "\t\n",
    "\tprintKclosest(arr1, x, 4, n)\n",
    "\t\n"
   ]
  },
  {
   "cell_type": "code",
   "execution_count": null,
   "id": "91255d90",
   "metadata": {},
   "outputs": [],
   "source": []
  }
 ],
 "metadata": {
  "kernelspec": {
   "display_name": "Python 3 (ipykernel)",
   "language": "python",
   "name": "python3"
  },
  "language_info": {
   "codemirror_mode": {
    "name": "ipython",
    "version": 3
   },
   "file_extension": ".py",
   "mimetype": "text/x-python",
   "name": "python",
   "nbconvert_exporter": "python",
   "pygments_lexer": "ipython3",
   "version": "3.9.12"
  }
 },
 "nbformat": 4,
 "nbformat_minor": 5
}

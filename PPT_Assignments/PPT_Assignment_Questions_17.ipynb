{
 "cells": [
  {
   "cell_type": "markdown",
   "id": "ad6640f0",
   "metadata": {},
   "source": [
    "# Assignment Questions - 17"
   ]
  },
  {
   "cell_type": "markdown",
   "id": "e20ee4be",
   "metadata": {},
   "source": [
    "\n",
    "💡 **Question 1**\n",
    "\n",
    "**Given a string `s`, *find the first non-repeating character in it and return its index*. If it does not exist, return `-1`**\n"
   ]
  },
  {
   "cell_type": "code",
   "execution_count": 19,
   "id": "03706acc",
   "metadata": {},
   "outputs": [
    {
     "data": {
      "text/plain": [
       "'_'"
      ]
     },
     "execution_count": 19,
     "metadata": {},
     "output_type": "execute_result"
    }
   ],
   "source": [
    "def firstNotRepeatingCharacter(s):\n",
    "    '''\n",
    "    input: A string of letters\n",
    "    Output: the first letter that doesn't have a duplicate \n",
    "    \n",
    "    Idea: We can loop through the string and add each letter \n",
    "    a set. Sets cannot have duplicates, so if the length of \n",
    "    the set is different that the string we return _. \n",
    "    That is the base case. Then we can check if each letter is in the set \n",
    "    if it isnt we return that letter.\n",
    "    '''\n",
    "    myset = set()\n",
    "    for letter in s:\n",
    "        myset.add(letter)\n",
    "        if  not myset:\n",
    "            return letter\n",
    "        return '_'\n",
    "        # This solution does not work because we are looking for letters with no duplicates \n",
    "        \n",
    "    def firstNotRepeatingCharacter(s):\n",
    "        for c in s:\n",
    "            if s.index(c) == s.rindex(c):\n",
    "                return c\n",
    "        return '_'\n",
    "    \n",
    "firstNotRepeatingCharacter(\"leetcode\")"
   ]
  },
  {
   "cell_type": "markdown",
   "id": "8530118f",
   "metadata": {},
   "source": [
    "💡 **Question 2**\n",
    "\n",
    "Given a **circular integer array** `nums` of length `n`, return *the maximum possible sum of a non-empty **subarray** of* `nums`.\n",
    "\n",
    "A **circular array** means the end of the array connects to the beginning of the array. Formally, the next element of `nums[i]` is `nums[(i + 1) % n]` and the previous element of `nums[i]` is `nums[(i - 1 + n) % n]`.\n",
    "\n",
    "A **subarray** may only include each element of the fixed buffer `nums` at most once. Formally, for a subarray `nums[i], nums[i + 1], ..., nums[j]`, there does not exist `i <= k1`, `k2 <= j` with `k1 % n == k2 % n`**\n"
   ]
  },
  {
   "cell_type": "code",
   "execution_count": 20,
   "id": "5dfe6ff3",
   "metadata": {},
   "outputs": [
    {
     "name": "stdout",
     "output_type": "stream",
     "text": [
      "Maximum circular sum is 3\n"
     ]
    }
   ],
   "source": [
    "# Python program for maximum contiguous circular sum problem\n",
    "\n",
    "# The function returns maximum\n",
    "# circular contiguous sum in a[]\n",
    "def maxCircularSum(a, n):\n",
    "\n",
    "# Corner Case\n",
    "    if (n == 1):\n",
    "        return a[0]\n",
    "\n",
    "# Initialize sum variable which\n",
    "# store total sum of the array.\n",
    "    sum = 0\n",
    "    for i in range(n):\n",
    "        sum += a[i]\n",
    "\n",
    "# Initialize every variable\n",
    "# with first value of array.\n",
    "    curr_max = a[0]\n",
    "    max_so_far = a[0]\n",
    "    curr_min = a[0]\n",
    "    min_so_far = a[0]\n",
    "\n",
    "# Concept of Kadane's Algorithm\n",
    "    for i in range(1, n):\n",
    "\n",
    "# Kadane's Algorithm to find Maximum subarray sum.\n",
    "        curr_max = max(curr_max + a[i], a[i])\n",
    "        max_so_far = max(max_so_far, curr_max)\n",
    "\n",
    "# Kadane's Algorithm to find Minimum subarray sum.\n",
    "        curr_min = min(curr_min + a[i], a[i])\n",
    "        min_so_far = min(min_so_far, curr_min)\n",
    "    if (min_so_far == sum):\n",
    "        return max_so_far\n",
    "\n",
    "# returning the maximum value\n",
    "    return max(max_so_far, sum - min_so_far)\n",
    "\n",
    "# Driver code\n",
    "a = [1,-2,3,-2]\n",
    "n = len(a)\n",
    "print(\"Maximum circular sum is\", maxCircularSum(a, n))\n",
    "\n",
    "\n"
   ]
  },
  {
   "cell_type": "markdown",
   "id": "be34bf3e",
   "metadata": {},
   "source": [
    "\n",
    "💡 **Question 3**\n",
    "\n",
    "The school cafeteria offers circular and square sandwiches at lunch break, referred to by numbers `0` and `1` respectively. All students stand in a queue. Each student either prefers square or circular sandwiches.\n",
    "\n",
    "The number of sandwiches in the cafeteria is equal to the number of students. The sandwiches are placed in a **stack**. At each step:\n",
    "\n",
    "- If the student at the front of the queue **prefers** the sandwich on the top of the stack, they will **take it** and leave the queue.\n",
    "- Otherwise, they will **leave it** and go to the queue's end.\n",
    "\n",
    "This continues until none of the queue students want to take the top sandwich and are thus unable to eat.\n",
    "\n",
    "You are given two integer arrays `students` and `sandwiches` where `sandwiches[i]` is the type of the `ith` sandwich in the stack (`i = 0` is the top of the stack) and `students[j]` is the preference of the `jth` student in the initial queue (`j = 0` is the front of the queue). Return *the number of students that are unable to eat.*\n"
   ]
  },
  {
   "cell_type": "code",
   "execution_count": 21,
   "id": "bf30dbdf",
   "metadata": {},
   "outputs": [
    {
     "data": {
      "text/plain": [
       "0"
      ]
     },
     "execution_count": 21,
     "metadata": {},
     "output_type": "execute_result"
    }
   ],
   "source": [
    "from typing import List\n",
    "\n",
    "class Solution:\n",
    "    def countStudents(self, students: List[int], sandwiches: List[int]) -> int:\n",
    "        for i in sandwiches:\n",
    "            if i in students:\n",
    "                students.remove(i)\n",
    "            else:\n",
    "                break\n",
    "        return len(students)\n",
    "    \n",
    "r = Solution()\n",
    "r.countStudents([1,1,0,0],[0,1,0,1])"
   ]
  },
  {
   "cell_type": "markdown",
   "id": "2dd02824",
   "metadata": {},
   "source": [
    "\n",
    "💡 **Question 4**\n",
    "\n",
    "You have a `RecentCounter` class which counts the number of recent requests within a certain time frame.\n",
    "\n",
    "Implement the `RecentCounter` class:\n",
    "\n",
    "- `RecentCounter()` Initializes the counter with zero recent requests.\n",
    "- `int ping(int t)` Adds a new request at time `t`, where `t` represents some time in milliseconds, and returns the number of requests that has happened in the past `3000` milliseconds (including the new request). Specifically, return the number of requests that have happened in the inclusive range `[t - 3000, t]`.\n",
    "\n",
    "It is **guaranteed** that every call to `ping` uses a strictly larger value of `t` than the previous call.\n"
   ]
  },
  {
   "cell_type": "code",
   "execution_count": 29,
   "id": "9952170a",
   "metadata": {},
   "outputs": [
    {
     "name": "stderr",
     "output_type": "stream",
     "text": [
      "<>:20: SyntaxWarning: list indices must be integers or slices, not tuple; perhaps you missed a comma?\n",
      "<>:20: SyntaxWarning: list indices must be integers or slices, not tuple; perhaps you missed a comma?\n",
      "C:\\Users\\Lenovo\\AppData\\Local\\Temp\\ipykernel_7956\\2804598791.py:20: SyntaxWarning: list indices must be integers or slices, not tuple; perhaps you missed a comma?\n",
      "  r.ping[[\"RecentCounter\", \"ping\", \"ping\", \"ping\", \"ping\"]\n",
      "C:\\Users\\Lenovo\\AppData\\Local\\Temp\\ipykernel_7956\\2804598791.py:20: SyntaxWarning: list indices must be integers or slices, not tuple; perhaps you missed a comma?\n",
      "  r.ping[[\"RecentCounter\", \"ping\", \"ping\", \"ping\", \"ping\"]\n",
      "C:\\Users\\Lenovo\\AppData\\Local\\Temp\\ipykernel_7956\\2804598791.py:20: SyntaxWarning: list indices must be integers or slices, not tuple; perhaps you missed a comma?\n",
      "  r.ping[[\"RecentCounter\", \"ping\", \"ping\", \"ping\", \"ping\"]\n",
      "C:\\Users\\Lenovo\\AppData\\Local\\Temp\\ipykernel_7956\\2804598791.py:20: SyntaxWarning: list indices must be integers or slices, not tuple; perhaps you missed a comma?\n",
      "  r.ping[[\"RecentCounter\", \"ping\", \"ping\", \"ping\", \"ping\"]\n"
     ]
    },
    {
     "ename": "TypeError",
     "evalue": "list indices must be integers or slices, not tuple",
     "output_type": "error",
     "traceback": [
      "\u001b[1;31m---------------------------------------------------------------------------\u001b[0m",
      "\u001b[1;31mTypeError\u001b[0m                                 Traceback (most recent call last)",
      "Input \u001b[1;32mIn [29]\u001b[0m, in \u001b[0;36m<cell line: 20>\u001b[1;34m()\u001b[0m\n\u001b[0;32m     15\u001b[0m \u001b[38;5;66;03m# Your RecentCounter object will be instantiated and called as such:\u001b[39;00m\n\u001b[0;32m     16\u001b[0m \u001b[38;5;66;03m# obj = RecentCounter()\u001b[39;00m\n\u001b[0;32m     17\u001b[0m \u001b[38;5;66;03m# param_1 = obj.ping(t)\u001b[39;00m\n\u001b[0;32m     19\u001b[0m r \u001b[38;5;241m=\u001b[39m RecentCounter()\n\u001b[1;32m---> 20\u001b[0m r\u001b[38;5;241m.\u001b[39mping[\u001b[43m[\u001b[49m\u001b[38;5;124;43m\"\u001b[39;49m\u001b[38;5;124;43mRecentCounter\u001b[39;49m\u001b[38;5;124;43m\"\u001b[39;49m\u001b[43m,\u001b[49m\u001b[43m \u001b[49m\u001b[38;5;124;43m\"\u001b[39;49m\u001b[38;5;124;43mping\u001b[39;49m\u001b[38;5;124;43m\"\u001b[39;49m\u001b[43m,\u001b[49m\u001b[43m \u001b[49m\u001b[38;5;124;43m\"\u001b[39;49m\u001b[38;5;124;43mping\u001b[39;49m\u001b[38;5;124;43m\"\u001b[39;49m\u001b[43m,\u001b[49m\u001b[43m \u001b[49m\u001b[38;5;124;43m\"\u001b[39;49m\u001b[38;5;124;43mping\u001b[39;49m\u001b[38;5;124;43m\"\u001b[39;49m\u001b[43m,\u001b[49m\u001b[43m \u001b[49m\u001b[38;5;124;43m\"\u001b[39;49m\u001b[38;5;124;43mping\u001b[39;49m\u001b[38;5;124;43m\"\u001b[39;49m\u001b[43m]\u001b[49m\n\u001b[0;32m     21\u001b[0m \u001b[43m[\u001b[49m\u001b[43m[\u001b[49m\u001b[43m]\u001b[49m\u001b[43m,\u001b[49m\u001b[43m \u001b[49m\u001b[43m[\u001b[49m\u001b[38;5;241;43m1\u001b[39;49m\u001b[43m]\u001b[49m\u001b[43m,\u001b[49m\u001b[43m \u001b[49m\u001b[43m[\u001b[49m\u001b[38;5;241;43m100\u001b[39;49m\u001b[43m]\u001b[49m\u001b[43m,\u001b[49m\u001b[43m \u001b[49m\u001b[43m[\u001b[49m\u001b[38;5;241;43m3001\u001b[39;49m\u001b[43m]\u001b[49m\u001b[43m,\u001b[49m\u001b[43m \u001b[49m\u001b[43m[\u001b[49m\u001b[38;5;241;43m3002\u001b[39;49m\u001b[43m]\u001b[49m\u001b[43m]\u001b[49m]\n",
      "\u001b[1;31mTypeError\u001b[0m: list indices must be integers or slices, not tuple"
     ]
    }
   ],
   "source": [
    "from collections import deque\n",
    "class RecentCounter:\n",
    "\n",
    "    def __init__(self):\n",
    "        self.q = deque()\n",
    "        \n",
    "    def ping(self, t: int) -> int:\n",
    "        self.q.append(t)\n",
    "        \n",
    "        while t - self.q[0] > 3000:\n",
    "            self.q.popleft()\n",
    "            \n",
    "        return len(self.q)\n",
    "        \n",
    "# Your RecentCounter object will be instantiated and called as such:\n",
    "# obj = RecentCounter()\n",
    "# param_1 = obj.ping(t)\n",
    "\n",
    "r = RecentCounter()\n",
    "r.ping([\"RecentCounter\", \"ping\", \"ping\", \"ping\", \"ping\"]\n",
    "[[], [1], [100], [3001], [3002]])"
   ]
  },
  {
   "cell_type": "markdown",
   "id": "888056b4",
   "metadata": {},
   "source": [
    "\n",
    "💡 **Question 5**\n",
    "\n",
    "There are `n` friends that are playing a game. The friends are sitting in a circle and are numbered from `1` to `n` in **clockwise order**. More formally, moving clockwise from the `ith` friend brings you to the `(i+1)th` friend for `1 <= i < n`, and moving clockwise from the `nth` friend brings you to the `1st` friend.\n",
    "\n",
    "The rules of the game are as follows:\n",
    "\n",
    "1. **Start** at the `1st` friend.\n",
    "2. Count the next `k` friends in the clockwise direction **including** the friend you started at. The counting wraps around the circle and may count some friends more than once.\n",
    "3. The last friend you counted leaves the circle and loses the game.\n",
    "4. If there is still more than one friend in the circle, go back to step `2` **starting** from the friend **immediately clockwise** of the friend who just lost and repeat.\n",
    "5. Else, the last friend in the circle wins the game.\n",
    "\n",
    "Given the number of friends, `n`, and an integer `k`, return *the winner of the game*.\n"
   ]
  },
  {
   "cell_type": "code",
   "execution_count": 30,
   "id": "c28ecfe1",
   "metadata": {},
   "outputs": [
    {
     "data": {
      "text/plain": [
       "3"
      ]
     },
     "execution_count": 30,
     "metadata": {},
     "output_type": "execute_result"
    }
   ],
   "source": [
    "class Solution:\n",
    "    def findTheWinner(self, n: int, k: int) -> int:\n",
    "        return self.helper(n,k)+1\n",
    "\n",
    "    def helper(self, n:int, k:int)-> int:\n",
    "        if(n==1):\n",
    "            return 0\n",
    "        prevWinner = self.helper(n-1, k)\n",
    "        return (prevWinner + k) % n\n",
    "    \n",
    "r = Solution()\n",
    "r.findTheWinner(5,2)"
   ]
  },
  {
   "cell_type": "markdown",
   "id": "7e6a8086",
   "metadata": {},
   "source": [
    "\n",
    "💡 **Question 6**\n",
    "\n",
    "You are given an integer array `deck`. There is a deck of cards where every card has a unique integer. The integer on the `ith` card is `deck[i]`.\n",
    "\n",
    "You can order the deck in any order you want. Initially, all the cards start face down (unrevealed) in one deck.\n",
    "\n",
    "You will do the following steps repeatedly until all cards are revealed:\n",
    "\n",
    "1. Take the top card of the deck, reveal it, and take it out of the deck.\n",
    "2. If there are still cards in the deck then put the next top card of the deck at the bottom of the deck.\n",
    "3. If there are still unrevealed cards, go back to step 1. Otherwise, stop.\n",
    "\n",
    "Return *an ordering of the deck that would reveal the cards in increasing order*.\n",
    "\n",
    "**Note** that the first entry in the answer is considered to be the top of the deck.\n"
   ]
  },
  {
   "cell_type": "code",
   "execution_count": 31,
   "id": "b5fe29ed",
   "metadata": {},
   "outputs": [
    {
     "data": {
      "text/plain": [
       "deque([2, 13, 3, 11, 5, 17, 7])"
      ]
     },
     "execution_count": 31,
     "metadata": {},
     "output_type": "execute_result"
    }
   ],
   "source": [
    "from typing import List\n",
    "\n",
    "class Solution:\n",
    "    def deckRevealedIncreasing(self, deck: List[int]) -> List[int]:\n",
    "        d=deque(sorted(deck))\n",
    "        res = deque()\n",
    "        l = len(d)\n",
    "        while l != len(res):\n",
    "            t = d.pop()\n",
    "            if len(res)>0:\n",
    "                r = res.pop()\n",
    "                res.appendleft(r)\n",
    "            res.appendleft(t)\n",
    "        return res\n",
    "    \n",
    "r = Solution()\n",
    "r.deckRevealedIncreasing([17,13,11,2,3,5,7])"
   ]
  },
  {
   "cell_type": "markdown",
   "id": "aa408a75",
   "metadata": {},
   "source": [
    "\n",
    "💡 **Question 7**\n",
    "\n",
    "Design a queue that supports `push` and `pop` operations in the front, middle, and back.\n",
    "\n",
    "Implement the `FrontMiddleBack` class:\n",
    "\n",
    "- `FrontMiddleBack()` Initializes the queue.\n",
    "- `void pushFront(int val)` Adds `val` to the **front** of the queue.\n",
    "- `void pushMiddle(int val)` Adds `val` to the **middle** of the queue.\n",
    "- `void pushBack(int val)` Adds `val` to the **back** of the queue.\n",
    "- `int popFront()` Removes the **front** element of the queue and returns it. If the queue is empty, return `1`.\n",
    "- `int popMiddle()` Removes the **middle** element of the queue and returns it. If the queue is empty, return `1`.\n",
    "- `int popBack()` Removes the **back** element of the queue and returns it. If the queue is empty, return `1`.\n",
    "\n",
    "**Notice** that when there are **two** middle position choices, the operation is performed on the **frontmost** middle position choice. For example:\n",
    "\n",
    "- Pushing `6` into the middle of `[1, 2, 3, 4, 5]` results in `[1, 2, 6, 3, 4, 5]`.\n",
    "- Popping the middle from `[1, 2, 3, 4, 5, 6]` returns `3` and results in `[1, 2, 4, 5, 6]`.\n"
   ]
  },
  {
   "cell_type": "code",
   "execution_count": 32,
   "id": "36b24090",
   "metadata": {},
   "outputs": [
    {
     "name": "stdout",
     "output_type": "stream",
     "text": [
      "[3, 1]\n"
     ]
    }
   ],
   "source": [
    "class FrontMiddleBackQueue:\n",
    "\n",
    "    def __init__(self):\n",
    "        self.q=[]\n",
    "        \n",
    "\n",
    "    def pushFront(self, val: int) -> None:\n",
    "        self.q.insert(0,val)\n",
    "        \n",
    "\n",
    "    def pushMiddle(self, val: int) -> None:\n",
    "        n=len(self.q)\n",
    "        if n%2==0:\n",
    "            n=(n/2)\n",
    "        else:\n",
    "            n=int(n//2)\n",
    "        i=0\n",
    "        self.q.insert(int(n),val)\n",
    "        print(self.q)\n",
    "        \n",
    "\n",
    "    def pushBack(self, val: int) -> None:\n",
    "        self.q.append(val)\n",
    "\n",
    "        \n",
    "\n",
    "    def popFront(self) -> int:\n",
    "        if len(self.q)==0:\n",
    "            return -1\n",
    "        l=self.q[0]\n",
    "        del self.q[0]\n",
    "        return l\n",
    "        \n",
    "\n",
    "    def popMiddle(self) -> int:\n",
    "        if len(self.q)==0:\n",
    "            return -1\n",
    "        n=len(self.q)\n",
    "        if n%2==0:\n",
    "            n=(n/2)-1\n",
    "        else:\n",
    "            n=n//2\n",
    "        p=self.q[int(n)]\n",
    "        del self.q[int(n)]\n",
    "        return p\n",
    "        \n",
    "\n",
    "    def popBack(self) -> int:\n",
    "        if len(self.q)==0:\n",
    "            return -1\n",
    "        p=self.q[len(self.q)-1]\n",
    "        del self.q[len(self.q)-1]\n",
    "        return p\n",
    "\n",
    "        \n",
    "\n",
    "\n",
    "# Your FrontMiddleBackQueue object will be instantiated and called as such:\n",
    "obj = FrontMiddleBackQueue()\n",
    "obj.pushFront(1)\n",
    "obj.pushMiddle(3)\n",
    "obj.pushBack(2)\n",
    "param_4 = obj.popFront()\n",
    "param_5 = obj.popMiddle()\n",
    "param_6 = obj.popBack()"
   ]
  },
  {
   "cell_type": "markdown",
   "id": "627a7ca3",
   "metadata": {},
   "source": [
    "💡 **Question 8**\n",
    "\n",
    "For a stream of integers, implement a data structure that checks if the last `k` integers parsed in the stream are **equal** to `value`.\n",
    "\n",
    "Implement the **DataStream** class:\n",
    "\n",
    "- `DataStream(int value, int k)` Initializes the object with an empty integer stream and the two integers `value` and `k`.\n",
    "- `boolean consec(int num)` Adds `num` to the stream of integers. Returns `true` if the last `k` integers are equal to `value`, and `false` otherwise. If there are less than `k` integers, the condition does not hold true, so returns `false`.\n"
   ]
  },
  {
   "cell_type": "code",
   "execution_count": 37,
   "id": "6ddaca05",
   "metadata": {},
   "outputs": [],
   "source": [
    "class DataStream:\n",
    "\n",
    "    def __init__(self, value: int, k: int):\n",
    "        self.key_ = value\n",
    "        self.target_counter_ = k\n",
    "        self.counter_ = 0\n",
    "        \n",
    "\n",
    "    def consec(self, num: int) -> bool:\n",
    "        if num == self.key_:\n",
    "            self.counter_ += 1\n",
    "            if self.counter_ == self.target_counter_:\n",
    "                self.counter_ -= 1\n",
    "                return True\n",
    "        else:\n",
    "            self.counter_ = 0\n",
    "            return False\n",
    "\n",
    "\n",
    "# Your DataStream object will be instantiated and called as such:\n",
    "obj = DataStream([\"DataStream\", \"consec\", \"consec\", \"consec\", \"consec\"],3)\n",
    "param_1 = obj.consec(3)"
   ]
  },
  {
   "cell_type": "code",
   "execution_count": null,
   "id": "bf32d12f",
   "metadata": {},
   "outputs": [],
   "source": []
  }
 ],
 "metadata": {
  "kernelspec": {
   "display_name": "Python 3 (ipykernel)",
   "language": "python",
   "name": "python3"
  },
  "language_info": {
   "codemirror_mode": {
    "name": "ipython",
    "version": 3
   },
   "file_extension": ".py",
   "mimetype": "text/x-python",
   "name": "python",
   "nbconvert_exporter": "python",
   "pygments_lexer": "ipython3",
   "version": "3.9.12"
  }
 },
 "nbformat": 4,
 "nbformat_minor": 5
}

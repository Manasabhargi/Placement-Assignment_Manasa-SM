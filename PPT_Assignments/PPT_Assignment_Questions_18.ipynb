{
 "cells": [
  {
   "cell_type": "markdown",
   "id": "9a6fd517",
   "metadata": {},
   "source": [
    "# Assignment Questions - 18"
   ]
  },
  {
   "cell_type": "markdown",
   "id": "266d3a53",
   "metadata": {},
   "source": [
    "💡 1. **Merge Intervals**\n",
    "\n",
    "**Given an array of `intervals` where `intervals[i] = [starti, endi]`, merge all overlapping intervals, and return *an array of the non-overlapping intervals that cover all the intervals in the input**\n"
   ]
  },
  {
   "cell_type": "code",
   "execution_count": 1,
   "id": "670e7074",
   "metadata": {},
   "outputs": [
    {
     "data": {
      "text/plain": [
       "[[1, 6], [8, 10], [15, 18]]"
      ]
     },
     "execution_count": 1,
     "metadata": {},
     "output_type": "execute_result"
    }
   ],
   "source": [
    "from typing import List\n",
    "\n",
    "class Solution:\n",
    "    def merge(self, intervals: List[List[int]]) -> List[List[int]]:\n",
    "        intervals = sorted(intervals, key=lambda x: x [0])\n",
    "\n",
    "        ans = []\n",
    "\n",
    "        for interval in intervals:\n",
    "            if not ans or ans[-1][1] < interval[0]:\n",
    "                ans.append(interval)\n",
    "            else:\n",
    "                ans[-1][1] = max(ans[-1][1], interval[1])\n",
    "        \n",
    "        return ans\n",
    "    \n",
    "r = Solution()\n",
    "r.merge([[1,3],[2,6],[8,10],[15,18]])"
   ]
  },
  {
   "cell_type": "markdown",
   "id": "dcfb4d3f",
   "metadata": {},
   "source": [
    "💡 2. **Sort Colors**\n",
    "\n",
    "**Given an array `nums` with `n` objects colored red, white, or blue, sort them **[in-place](https://en.wikipedia.org/wiki/In-place_algorithm)** so that objects of the same color are adjacent, with the colors in the order red, white, and blue**\n",
    "\n",
    "**We will use the integers `0`, `1`, and `2` to represent the color red, white, and blue, respectively**\n",
    "\n",
    "**You must solve this problem without using the library's sort function**\n"
   ]
  },
  {
   "cell_type": "code",
   "execution_count": 4,
   "id": "c914a5ac",
   "metadata": {},
   "outputs": [],
   "source": [
    "class Solution:\n",
    "    def sortColors(self, nums: List[int]) -> List[int]:\n",
    "\n",
    "        red, white, blue = 0, 0, len(nums) - 1\n",
    "\n",
    "        while white <= blue:\n",
    "            if nums[white] == 0:\n",
    "                nums[white], nums[red] = nums[red], nums[white]\n",
    "                red += 1\n",
    "                white += 1\n",
    "            elif nums[white] == 1:\n",
    "                white += 1\n",
    "            else:\n",
    "                nums[white], nums[blue] = nums[blue], nums[white]\n",
    "                blue -= 1\n",
    "        \n",
    "                \n",
    "r = Solution()\n",
    "r.sortColors([2,0,2,1,1,0])"
   ]
  },
  {
   "cell_type": "markdown",
   "id": "b86a0240",
   "metadata": {},
   "source": [
    "💡 3. **First Bad Version Solution**\n",
    "\n",
    "**You are a product manager and currently leading a team to develop a new product. Unfortunately, the latest version of your product fails the quality check. Since each version is developed based on the previous version, all the versions after a bad version are also bad**\n",
    "\n",
    "**Suppose you have `n` versions `[1, 2, ..., n]` and you want to find out the first bad one, which causes all the following ones to be bad**\n",
    "\n",
    "**You are given an API `bool isBadVersion(version)` which returns whether `version` is bad. Implement a function to find the first bad version. You should minimize the number of calls to the API**\n"
   ]
  },
  {
   "cell_type": "code",
   "execution_count": 8,
   "id": "c5bda1d8",
   "metadata": {},
   "outputs": [
    {
     "data": {
      "text/plain": [
       "0"
      ]
     },
     "execution_count": 8,
     "metadata": {},
     "output_type": "execute_result"
    }
   ],
   "source": [
    "first_bad = 0\n",
    "def isBadVersion(version):\n",
    "    if version >= first_bad:\n",
    "        return True\n",
    "    return False\n",
    "\n",
    "class Solution:\n",
    "    def firstBadVersion(self, n):\n",
    "        \"\"\"\n",
    "        :type n: int\n",
    "        :rtype: int\n",
    "        \"\"\"\n",
    "        left,right = 0,n\n",
    "        while left < right:\n",
    "            mid = (left + right) // 2\n",
    "            if isBadVersion(mid):\n",
    "                right = mid\n",
    "            else:\n",
    "                left = mid + 1\n",
    "        return left\n",
    "    \n",
    "r = Solution()\n",
    "r.firstBadVersion(5)"
   ]
  },
  {
   "cell_type": "markdown",
   "id": "8fa094cd",
   "metadata": {},
   "source": [
    "💡 4. **Maximum Gap**\n",
    "\n",
    "**Given an integer array `nums`, return *the maximum difference between two successive elements in its sorted form*. If the array contains less than two elements, return `0`**\n",
    "\n",
    "**You must write an algorithm that runs in linear time and uses linear extra space**\n"
   ]
  },
  {
   "cell_type": "markdown",
   "id": "81e0d98c",
   "metadata": {},
   "source": [
    "- Step1: Find max_val and min_val \n",
    "- Step2: Calculate delta \n",
    "         delta = (max_val – min_val)/(n-1)\n",
    "- Step3: Initialize buckets, maxBucket={INT_MIN}, minBucket={INT_MAX}\n",
    "- Step4: For any index i, calculate index arr[i] in bucket and update in buckets\n",
    "         in = (arr[i]-min_val)/delta\n",
    "         maxBucket[in]=max(maxBucket[in],arr[i])\n",
    "         minBucket[in]=min(minBucket[in],arr[i])\n",
    "- Step5: Hence ans is max of minBucket[i]-(max of value upto previous index)\n",
    "\n"
   ]
  },
  {
   "cell_type": "code",
   "execution_count": 10,
   "id": "d6df4a3f",
   "metadata": {},
   "outputs": [
    {
     "name": "stdout",
     "output_type": "stream",
     "text": [
      "3\n"
     ]
    }
   ],
   "source": [
    "# Python3 program to find maximum adjacent\n",
    "# difference between two adjacent after sorting.\n",
    "\n",
    "def maxSortedAdjacentDiff(arr, n):\n",
    "\n",
    "# Find maximum and minimum in arr[]\n",
    "    maxVal, minVal = arr[0], arr[0]\n",
    "    for i in range(1, n):\n",
    "        maxVal = max(maxVal, arr[i])\n",
    "        minVal = min(minVal, arr[i])\n",
    "\n",
    "# Arrays to store maximum and minimum\n",
    "# values in n-1 buckets of differences.\n",
    "    maxBucket = [INT_MIN] * (n - 1)\n",
    "    minBucket = [INT_MAX] * (n - 1)\n",
    "\n",
    "    # Expected gap for every bucket.\n",
    "    delta = (maxVal - minVal) // (n - 1)\n",
    "\n",
    "# Traversing through array elements and\n",
    "# filling in appropriate bucket if bucket\n",
    "# is empty. Else updating bucket values.\n",
    "    for i in range(0, n):\n",
    "        if arr[i] == maxVal or arr[i] == minVal:\n",
    "            continue\n",
    "\n",
    "# Finding index of bucket.\n",
    "        index = (arr[i] - minVal) // delta\n",
    "\n",
    "# Filling/Updating maximum value\n",
    "# of bucket\n",
    "        if maxBucket[index] == INT_MIN:\n",
    "            maxBucket[index] = arr[i]\n",
    "        else:\n",
    "            maxBucket[index] = max(maxBucket[index],arr[i])\n",
    "\n",
    "# Filling/Updating minimum value of bucket\n",
    "        if minBucket[index] == INT_MAX:\n",
    "            minBucket[index] = arr[i]\n",
    "        else:\n",
    "            minBucket[index] = min(minBucket[index],arr[i])\n",
    "\n",
    "# Finding maximum difference between\n",
    "# maximum value of previous bucket\n",
    "# minus minimum of current bucket.\n",
    "    prev_val, max_gap = minVal, 0\n",
    "\n",
    "    for i in range(0, n - 1):\n",
    "        if minBucket[i] == INT_MAX:\n",
    "            continue\n",
    "\n",
    "        max_gap = max(max_gap,minBucket[i] - prev_val)\n",
    "        prev_val = maxBucket[i]\n",
    "\n",
    "    max_gap = max(max_gap, maxVal - prev_val)\n",
    "\n",
    "    return max_gap\n",
    "\n",
    "# Driver Code\n",
    "if __name__ == \"__main__\":\n",
    "\n",
    "    arr = [3,6,9,1]\n",
    "    n = len(arr)\n",
    "    INT_MIN, INT_MAX = float('-inf'), float('inf')\n",
    "\n",
    "    print(maxSortedAdjacentDiff(arr, n))\n",
    "\n",
    "\n"
   ]
  },
  {
   "cell_type": "markdown",
   "id": "dbae3ed7",
   "metadata": {},
   "source": [
    "💡 5. **Contains Duplicate**\n",
    "\n",
    "**Given an integer array `nums`, return `true` if any value appears **at least twice** in the array, and return `false` if every element is distinct**\n"
   ]
  },
  {
   "cell_type": "code",
   "execution_count": 11,
   "id": "625f99ec",
   "metadata": {},
   "outputs": [
    {
     "data": {
      "text/plain": [
       "True"
      ]
     },
     "execution_count": 11,
     "metadata": {},
     "output_type": "execute_result"
    }
   ],
   "source": [
    "# Time complexity: O(n)\n",
    "# Space complexity: O(n)\n",
    "class Solution(object):\n",
    "    def containsDuplicate(self, nums):\n",
    "        hset = set()\n",
    "        for idx in nums:\n",
    "            if idx in hset:\n",
    "                return True\n",
    "            else:\n",
    "                hset.add(idx)\n",
    "                \n",
    "r = Solution()\n",
    "r.containsDuplicate([1,2,3,1])"
   ]
  },
  {
   "cell_type": "markdown",
   "id": "4ecd9f09",
   "metadata": {},
   "source": [
    "💡 6. **Minimum Number of Arrows to Burst Balloons**\n",
    "\n",
    "**There are some spherical balloons taped onto a flat wall that represents the XY-plane. The balloons are represented as a 2D integer array `points` where `points[i] = [xstart, xend]` denotes a balloon whose **horizontal diameter** stretches between `xstart` and `xend`. You do not know the exact y-coordinates of the balloons**\n",
    "\n",
    "Arrows can be shot up **directly vertically** (in the positive y-direction) from different points along the x-axis. A balloon with `xstart` and `xend` is **burst** by an arrow shot at `x` if `xstart <= x <= xend`. There is **no limit** to the number of arrows that can be shot. A shot arrow keeps traveling up infinitely, bursting any balloons in its path.\n",
    "\n",
    "**Given the array `points`, return *the **minimum** number of arrows that must be shot to burst all balloons**\n"
   ]
  },
  {
   "cell_type": "code",
   "execution_count": 12,
   "id": "3780decc",
   "metadata": {},
   "outputs": [
    {
     "data": {
      "text/plain": [
       "2"
      ]
     },
     "execution_count": 12,
     "metadata": {},
     "output_type": "execute_result"
    }
   ],
   "source": [
    "class Solution:\n",
    "    def findMinArrowShots(self, points: List[List[int]]) -> int:\n",
    "        points.sort(key = lambda x: x[0])\n",
    "\n",
    "        # keep track of the end coordinate of the last balloon we burst\n",
    "        last_end = float('-inf')\n",
    "        arrow_count = 0\n",
    "\n",
    "        for start, end in points:\n",
    "            # if the current balloon starts before the last one ended,\n",
    "            # we can burst it with the same arrow\n",
    "            if start <= last_end:\n",
    "                last_end = min(last_end, end)\n",
    "            else:\n",
    "                # otherwise, we need a new arrow to burst the balloon\n",
    "                arrow_count += 1\n",
    "                last_end = end\n",
    "\n",
    "        return arrow_count\n",
    "    \n",
    "r = Solution()\n",
    "r.findMinArrowShots([[10,16],[2,8],[1,6],[7,12]])"
   ]
  },
  {
   "cell_type": "markdown",
   "id": "95ea4856",
   "metadata": {},
   "source": [
    "💡 7. **Longest Increasing Subsequence**\n",
    "\n",
    "**Given an integer array `nums`, return *the length of the longest **strictly increasing**\n"
   ]
  },
  {
   "cell_type": "code",
   "execution_count": 13,
   "id": "fc74abc5",
   "metadata": {},
   "outputs": [
    {
     "data": {
      "text/plain": [
       "4"
      ]
     },
     "execution_count": 13,
     "metadata": {},
     "output_type": "execute_result"
    }
   ],
   "source": [
    "class Solution(object):\n",
    "    \n",
    "    # :type nums: List[int]\n",
    "    # :rtype: int\n",
    "    def lengthOfLIS(self, nums):\n",
    "        if nums == None or len(nums) == 0:\n",
    "            return 0\n",
    "        \n",
    "        length = len(nums)\n",
    "        dp = [1] * length\n",
    "        maximum = 1\n",
    "        \n",
    "        for i in range(length):\n",
    "            for j in range(i):\n",
    "                if nums[i] > nums[j]:\n",
    "                    dp[i] = max(dp[i], dp[j] + 1)\n",
    "            maximum = max(maximum, dp[i])\n",
    "            \n",
    "        return maximum\n",
    "    \n",
    "r = Solution()\n",
    "r.lengthOfLIS([10,9,2,5,3,7,101,18])"
   ]
  },
  {
   "cell_type": "markdown",
   "id": "63feae58",
   "metadata": {},
   "source": [
    "💡 8. **132 Pattern**\n",
    "\n",
    "Given an array of `n` integers `nums`, a **132 pattern** is a subsequence of three integers `nums[i]`, `nums[j]` and `nums[k]` such that `i < j < k` and `nums[i] < nums[k] < nums[j]`.\n",
    "\n",
    "**Return `true` *if there is a **132 pattern** in* `nums`*, otherwise, return* `false`**\n"
   ]
  },
  {
   "cell_type": "code",
   "execution_count": 16,
   "id": "f16badc5",
   "metadata": {},
   "outputs": [
    {
     "data": {
      "text/plain": [
       "False"
      ]
     },
     "execution_count": 16,
     "metadata": {},
     "output_type": "execute_result"
    }
   ],
   "source": [
    "import math\n",
    "\n",
    "class Solution:\n",
    "    def find132pattern(self, nums: List[int]) -> bool:\n",
    "        if len(nums)<3:\n",
    "            return False\n",
    "      \n",
    "        second_num = -math.inf\n",
    "        stck = []\n",
    "        # Try to find nums[i] < second_num < stck[-1]\n",
    "        for i in range(len(nums) - 1, -1, -1):\n",
    "            if nums[i] < second_num:\n",
    "                return True\n",
    "            # always ensure stack can be popped in increasing order\n",
    "            while stck and stck[-1] < nums[i]:\n",
    "                second_num = stck.pop()  # this will ensure  second_num < stck[-1] for next iteration\n",
    "\n",
    "            stck.append(nums[i])\n",
    "        return False\n",
    "        \n",
    "r = Solution()\n",
    "r.find132pattern([1,2,3,4])"
   ]
  },
  {
   "cell_type": "code",
   "execution_count": null,
   "id": "b845e63a",
   "metadata": {},
   "outputs": [],
   "source": []
  }
 ],
 "metadata": {
  "kernelspec": {
   "display_name": "Python 3 (ipykernel)",
   "language": "python",
   "name": "python3"
  },
  "language_info": {
   "codemirror_mode": {
    "name": "ipython",
    "version": 3
   },
   "file_extension": ".py",
   "mimetype": "text/x-python",
   "name": "python",
   "nbconvert_exporter": "python",
   "pygments_lexer": "ipython3",
   "version": "3.9.12"
  }
 },
 "nbformat": 4,
 "nbformat_minor": 5
}

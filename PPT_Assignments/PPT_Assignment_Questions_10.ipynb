{
 "cells": [
  {
   "cell_type": "markdown",
   "id": "e8695273",
   "metadata": {},
   "source": [
    "# Assignment Questions - 10"
   ]
  },
  {
   "cell_type": "markdown",
   "id": "1c432d42",
   "metadata": {},
   "source": [
    "💡 **Question 1**\n",
    "\n",
    "**Given an integer `n`, return *`true` if it is a power of three. Otherwise, return `false`**\n",
    "\n",
    "**An integer `n` is a power of three, if there exists an integer `x` such that `n == 3x`**\n"
   ]
  },
  {
   "cell_type": "raw",
   "id": "c0192b19",
   "metadata": {},
   "source": [
    "The logic is very simple. Any integer number other than power of 3 which divides highest power of 3 value that integer can hold 3^19 = 1162261467 (Assuming that integers are stored using 32 bits) will give reminder non-zero. \n",
    "\n",
    "Time Complexity : O(1)\n",
    "\n",
    "Auxiliary Space: O(1)"
   ]
  },
  {
   "cell_type": "code",
   "execution_count": 3,
   "id": "8f78409f",
   "metadata": {},
   "outputs": [
    {
     "name": "stdout",
     "output_type": "stream",
     "text": [
      "true\n"
     ]
    }
   ],
   "source": [
    "def check(n):\n",
    "\n",
    "    return 1162261467 % n == 0\n",
    "\n",
    "# Driver code\n",
    "n = 27\n",
    "if (check(n)):\n",
    "    print (\"true\")\n",
    "else:\n",
    "    print (\"false\")\n",
    "\n",
    "\n"
   ]
  },
  {
   "cell_type": "markdown",
   "id": "6bbcdac8",
   "metadata": {},
   "source": [
    "💡 **Question 2**\n",
    "\n",
    "**You have a list `arr` of all integers in the range `[1, n]` sorted in a strictly increasing order. Apply the following algorithm on `arr`**\n",
    "\n",
    "- Starting from left to right, remove the first number and every other number afterward until you reach the end of the list.\n",
    "- Repeat the previous step again, but this time from right to left, remove the rightmost number and every other number from the remaining numbers.\n",
    "- Keep repeating the steps again, alternating left to right and right to left, until a single number remains.\n",
    "\n",
    "**Given the integer `n`, return *the last number that remains in* `arr`**\n"
   ]
  },
  {
   "cell_type": "code",
   "execution_count": 4,
   "id": "58d359ff",
   "metadata": {},
   "outputs": [
    {
     "data": {
      "text/plain": [
       "6"
      ]
     },
     "execution_count": 4,
     "metadata": {},
     "output_type": "execute_result"
    }
   ],
   "source": [
    "class Solution:\n",
    "    def lastRemaining(self, n: int) -> int:\n",
    "        N = n   # number of remaining numbers\n",
    "        fwd = True   # flag for forward/backward elimination\n",
    "        m = 2    # elimination step/interval\n",
    "        s = 0   # elimination base\n",
    "\n",
    "        while N > 1:\n",
    "            if fwd or N % 2 == 1: \n",
    "                s += m // 2\n",
    "            m *= 2\n",
    "            N = N // 2\n",
    "            fwd = not fwd   # reverse the pass direction\n",
    "        return s+1\n",
    "    \n",
    "r = Solution()\n",
    "r.lastRemaining(9)"
   ]
  },
  {
   "cell_type": "markdown",
   "id": "50de2d87",
   "metadata": {},
   "source": [
    "💡 **Question 3**\n",
    "\n",
    "**Given a set represented as a string, write a recursive code to print all subsets of it. The subsets can be printed in any order**"
   ]
  },
  {
   "cell_type": "raw",
   "id": "54b82556",
   "metadata": {},
   "source": [
    "The base condition of the recursive approach is when the current index reaches the size of the given string (i.e, index == n), then return\n",
    "First, print the current subset\n",
    "Iterate over the given string from the current index (i.e, index) to less than the size of the string\n",
    "Appending the remaining characters to the current subset\n",
    "Make the recursive call for the next index.\n",
    "Once all subsets beginning with the initial “curr” are printed, remove the last character to consider a different prefix of subsets.\n",
    "\n",
    "Time Complexity: O(2n)\n",
    "Auxiliary Space: O(n), For recursive call stack"
   ]
  },
  {
   "cell_type": "code",
   "execution_count": 6,
   "id": "3bbbb730",
   "metadata": {},
   "outputs": [
    {
     "name": "stdout",
     "output_type": "stream",
     "text": [
      "\n",
      "a\n",
      "ab\n",
      "abc\n",
      "ac\n",
      "b\n",
      "bc\n",
      "c\n"
     ]
    }
   ],
   "source": [
    "def powerSet(str1, index, curr):\n",
    "    n = len(str1)\n",
    "\n",
    "# base case\n",
    "    if (index == n):\n",
    "        return\n",
    "\n",
    "# First print current subset\n",
    "    print(curr)\n",
    "\n",
    "# Try appending remaining characters\n",
    "# to current subset\n",
    "    for i in range(index + 1, n):\n",
    "        curr += str1[i]\n",
    "        powerSet(str1, i, curr)\n",
    "\n",
    "        curr = curr.replace(curr[len(curr) - 1], \"\")\n",
    "\n",
    "    return\n",
    "\n",
    "\n",
    "# Driver code\n",
    "if __name__ == '__main__':\n",
    "    str = \"abc\"\n",
    "    powerSet(str, -1, \"\")\n"
   ]
  },
  {
   "cell_type": "markdown",
   "id": "393765bb",
   "metadata": {},
   "source": [
    "💡 **Question 4**\n",
    "\n",
    "**Given a string calculate length of the string using recursion**"
   ]
  },
  {
   "cell_type": "raw",
   "id": "a747e892",
   "metadata": {},
   "source": [
    "recLen(str)\n",
    "{\n",
    "   If str is NULL \n",
    "       return 0\n",
    "   Else \n",
    "      return 1 + recLen(str + 1)\n",
    "}\n",
    "\n",
    "Time Complexity : O(n) \n",
    "Auxiliary Space : O(n) for recursion call stack. "
   ]
  },
  {
   "cell_type": "code",
   "execution_count": 7,
   "id": "a13d8850",
   "metadata": {},
   "outputs": [
    {
     "name": "stdout",
     "output_type": "stream",
     "text": [
      "4\n"
     ]
    }
   ],
   "source": [
    "\n",
    "str = \"abcd\"\n",
    "\n",
    "# Function to\n",
    "# calculate length\n",
    "def string_length(str) :\n",
    "\n",
    "# if we reach at the\n",
    "# end of the string\n",
    "    if str == '':\n",
    "        return 0\n",
    "    else :\n",
    "        return 1 + string_length(str[1:])\n",
    "\n",
    "# Driver Code\n",
    "print (string_length(str))\n"
   ]
  },
  {
   "cell_type": "markdown",
   "id": "500cc2db",
   "metadata": {},
   "source": [
    "💡 **Question 5**\n",
    "\n",
    "**We are given a string S, we need to find count of all contiguous substrings starting and ending with same character**\n"
   ]
  },
  {
   "cell_type": "code",
   "execution_count": 8,
   "id": "fcbcf7c6",
   "metadata": {},
   "outputs": [
    {
     "name": "stdout",
     "output_type": "stream",
     "text": [
      "7\n"
     ]
    }
   ],
   "source": [
    "def checkEquality(s):\n",
    "    return (ord(s[0]) == ord(s[len(s) - 1]));\n",
    "\n",
    "def countSubstringWithEqualEnds(s):\n",
    "    result = 0;\n",
    "    n = len(s);\n",
    "\n",
    "# Starting point of substring\n",
    "    for i in range(n):\n",
    "\n",
    "# Length of substring\n",
    "        for j in range(1,n-i+1):\n",
    "\n",
    "# Check if current substring has same\n",
    "# starting and ending characters.\n",
    "            if (checkEquality(s[i:i+j])):\n",
    "                result+=1;\n",
    "\n",
    "    return result;\n",
    "\n",
    "# Driver code\n",
    "s = \"abcab\";\n",
    "print(countSubstringWithEqualEnds(s));\n",
    "\n"
   ]
  },
  {
   "cell_type": "markdown",
   "id": "f9a55365",
   "metadata": {},
   "source": [
    "💡 **Question 6**\n",
    "\n",
    "**The [tower of Hanoi](https://en.wikipedia.org/wiki/Tower_of_Hanoi) is a famous puzzle where we have three rods and **N** disks. The objective of the puzzle is to move the entire stack to another rod. You are given the number of discs **N**. Initially, these discs are in the rod 1. You need to print all the steps of discs movement so that all the discs reach the 3rd rod. Also, you need to find the total moves.**Note:** The discs are arranged such that the **top disc is numbered 1** and the **bottom-most disc is numbered N**. Also, all the discs have **different sizes** and a bigger disc **cannot** be put on the top of a smaller disc. Refer the provided link to get a better clarity about the puzzle**\n"
   ]
  },
  {
   "cell_type": "raw",
   "id": "e0956b9a",
   "metadata": {},
   "source": [
    "Create a function towerOfHanoi where pass the N (current number of disk), from_rod, to_rod, aux_rod.\n",
    "Make a function call for N – 1 th disk.\n",
    "Then print the current the disk along with from_rod and to_rod\n",
    "Again make a function call for N – 1 th disk.\n",
    "\n",
    "Time complexity: O(2N), There are two possibilities for every disk. Therefore, 2 * 2 * 2 * . . . * 2(N times) is 2N\n",
    "Auxiliary Space: O(N), Function call stack space"
   ]
  },
  {
   "cell_type": "code",
   "execution_count": 11,
   "id": "6718dbd4",
   "metadata": {},
   "outputs": [
    {
     "name": "stdout",
     "output_type": "stream",
     "text": [
      "Move disk 1 from rod 1 to rod 3\n",
      "Move disk 2 from rod 1 to rod 2\n",
      "Move disk 1 from rod 3 to rod 2\n"
     ]
    }
   ],
   "source": [
    "\n",
    "def TowerOfHanoi(n, from_rod, to_rod, aux_rod):\n",
    "    if n == 0:\n",
    "        return\n",
    "    TowerOfHanoi(n-1, from_rod, aux_rod, to_rod)\n",
    "    print(\"Move disk\", n, \"from rod\", from_rod, \"to rod\", to_rod)\n",
    "    TowerOfHanoi(n-1, aux_rod, to_rod, from_rod)\n",
    "\n",
    "\n",
    "# Driver code\n",
    "N = 2\n",
    "\n",
    "# A, C, B are the name of rods\n",
    "TowerOfHanoi(N, 1,2,3)\n",
    "\n"
   ]
  },
  {
   "cell_type": "markdown",
   "id": "3b2aa764",
   "metadata": {},
   "source": [
    "💡 **Question 8**\n",
    "\n",
    "**Given a string, count total number of consonants in it. A consonant is an English alphabet character that is not vowel (a, e, i, o and u). Examples of constants are b, c, d, f, and g**\n"
   ]
  },
  {
   "cell_type": "markdown",
   "id": "39cfb3c2",
   "metadata": {},
   "source": [
    "Time Complexity: O(n), where n is the length of the string\n",
    "Auxiliary Space: O(1)"
   ]
  },
  {
   "cell_type": "code",
   "execution_count": 29,
   "id": "e61c58d2",
   "metadata": {},
   "outputs": [
    {
     "name": "stdout",
     "output_type": "stream",
     "text": [
      "3\n"
     ]
    }
   ],
   "source": [
    "def isConsonant(ch):\n",
    "\n",
    "# To handle lower case\n",
    "    ch = ch.upper()\n",
    "\n",
    "    return not (ch == 'A' or ch == 'E' or\n",
    "                ch == 'I' or ch == 'O' or\n",
    "                ch == 'U') and ord(ch) >= 65 and ord(ch) <= 90\n",
    "\n",
    "def totalConsonants(string):\n",
    "\n",
    "    count = 0\n",
    "\n",
    "    for i in range(len(string)):\n",
    "\n",
    "# To check is character is Consonant\n",
    "        if (isConsonant(string[i])):\n",
    "            count += 1\n",
    "\n",
    "    return count\n",
    "\n",
    "# Driver code\n",
    "string = \"abc de\"\n",
    "print(totalConsonants(string))\n",
    "\n"
   ]
  },
  {
   "cell_type": "code",
   "execution_count": null,
   "id": "20f2c9eb",
   "metadata": {},
   "outputs": [],
   "source": []
  }
 ],
 "metadata": {
  "kernelspec": {
   "display_name": "Python 3 (ipykernel)",
   "language": "python",
   "name": "python3"
  },
  "language_info": {
   "codemirror_mode": {
    "name": "ipython",
    "version": 3
   },
   "file_extension": ".py",
   "mimetype": "text/x-python",
   "name": "python",
   "nbconvert_exporter": "python",
   "pygments_lexer": "ipython3",
   "version": "3.9.12"
  }
 },
 "nbformat": 4,
 "nbformat_minor": 5
}

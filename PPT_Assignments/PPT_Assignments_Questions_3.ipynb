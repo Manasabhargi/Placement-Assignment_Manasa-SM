{
 "cells": [
  {
   "cell_type": "markdown",
   "id": "15d6cdd0",
   "metadata": {},
   "source": [
    "# Assignment Questions - 3"
   ]
  },
  {
   "cell_type": "markdown",
   "id": "0ffced8d",
   "metadata": {},
   "source": [
    "**Question 1**\n",
    "\n",
    "**Given an integer array nums of length n and an integer target, find three integers\n",
    "in nums such that the sum is closest to the target**\n",
    "**Return the sum of the three integers**\n",
    "\n",
    "**You may assume that each input would have exactly one solution**"
   ]
  },
  {
   "cell_type": "code",
   "execution_count": 4,
   "id": "f12f393e",
   "metadata": {},
   "outputs": [
    {
     "data": {
      "text/plain": [
       "2"
      ]
     },
     "execution_count": 4,
     "metadata": {},
     "output_type": "execute_result"
    }
   ],
   "source": [
    "from typing import List\n",
    "\n",
    "class Solution:\n",
    "    def threeSumClosest(self, nums: List[int], target: int) -> int:\n",
    "\n",
    "        n=len(nums)\n",
    "        nums.sort()\n",
    "        diff=20001\n",
    "        val=0\n",
    "        for i in range(n):\n",
    "            a=i+1\n",
    "            b=n-1\n",
    "            while(a<b):\n",
    "                cc=nums[i]+nums[a]+nums[b]\n",
    "                kk=abs(cc-target)\n",
    "                if(kk<diff):\n",
    "                    diff=kk\n",
    "                    val=cc\n",
    "                if(cc==target):\n",
    "                    return target\n",
    "                elif(cc<target):\n",
    "                    a+=1\n",
    "                else:\n",
    "                    b-=1\n",
    "            \n",
    "        return val\n",
    "    \n",
    "r = Solution()\n",
    "r.threeSumClosest([-1,2,1,-4],1)"
   ]
  },
  {
   "cell_type": "markdown",
   "id": "b694fa8c",
   "metadata": {},
   "source": [
    "**Question 2**\n",
    "\n",
    "**Given an array nums of n integers, return an array of all the unique quadruplets\n",
    "[nums[a], nums[b], nums[c], nums[d]] such that:\n",
    "           ● 0 <= a, b, c, d < n\n",
    "           ● a, b, c, and d are distinct.\n",
    "           ● nums[a] + nums[b] + nums[c] + nums[d] == target **\n",
    "\n",
    "**You may return the answer in any order**"
   ]
  },
  {
   "cell_type": "code",
   "execution_count": 8,
   "id": "659c3a79",
   "metadata": {},
   "outputs": [
    {
     "data": {
      "text/plain": [
       "[[-2, -1, 1, 2], [-2, 0, 0, 2], [-1, 0, 0, 1]]"
      ]
     },
     "execution_count": 8,
     "metadata": {},
     "output_type": "execute_result"
    }
   ],
   "source": [
    "class Solution:\n",
    "    def fourSum(self, nums: List[int], target: int) -> List[List[int]]:\n",
    "        nums.sort()\n",
    "        results = []\n",
    "        self.helper(nums, target, 4, [], results)\n",
    "        return results\n",
    "    \n",
    "    def helper(self, nums, target, N, res, results):\n",
    "        \n",
    "        if len(nums) < N or N < 2: #1\n",
    "            return\n",
    "        if N == 2: #2\n",
    "            output_2sum = self.twoSum(nums, target)\n",
    "            if output_2sum != []:\n",
    "                for idx in output_2sum:\n",
    "                    results.append(res + idx)\n",
    "        \n",
    "        else: \n",
    "            for i in range(len(nums) -N +1): #3\n",
    "                if nums[i]*N > target or nums[-1]*N < target: #4\n",
    "                    break\n",
    "                if i == 0 or i > 0 and nums[i-1] != nums[i]: #5\n",
    "                    self.helper(nums[i+1:], target-nums[i], N-1, res + [nums[i]], results)\n",
    "    \n",
    "    \n",
    "    def twoSum(self, nums: List[int], target: int) -> List[int]:\n",
    "        res = []\n",
    "        left = 0\n",
    "        right = len(nums) - 1 \n",
    "        while left < right: \n",
    "            temp_sum = nums[left] + nums[right] \n",
    "\n",
    "            if temp_sum == target:\n",
    "                res.append([nums[left], nums[right]])\n",
    "                right -= 1\n",
    "                left += 1\n",
    "                while left < right and nums[left] == nums[left - 1]:\n",
    "                    left += 1\n",
    "                while right > left and nums[right] == nums[right + 1]:\n",
    "                    right -= 1\n",
    "                                \n",
    "            elif temp_sum < target: \n",
    "                left +=1 \n",
    "            else: \n",
    "                right -= 1\n",
    "                                        \n",
    "        return res\n",
    "    \n",
    "r = Solution()\n",
    "r.fourSum([1,0,-1,0,-2,2],0)"
   ]
  },
  {
   "cell_type": "markdown",
   "id": "276b1ea6",
   "metadata": {},
   "source": [
    "💡 **Question 3**\n",
    "\n",
    "**A permutation of an array of integers is an arrangement of its members into a\n",
    "sequence or linear order**\n",
    "\n",
    "For example, for arr = [1,2,3], the following are all the permutations of arr:\n",
    "[1,2,3], [1,3,2], [2, 1, 3], [2, 3, 1], [3,1,2], [3,2,1].\n",
    "\n",
    "**The next permutation of an array of integers is the next lexicographically greater\n",
    "permutation of its integer. More formally, if all the permutations of the array are\n",
    "sorted in one container according to their lexicographical order, then the next\n",
    "permutation of that array is the permutation that follows it in the sorted container**\n",
    "\n",
    "**If such an arrangement is not possible, the array must be rearranged as the\n",
    "lowest possible order (i.e., sorted in ascending order)**\n",
    "\n",
    "**Given an array of integers nums, find the next permutation of nums.\n",
    "The replacement must be in place and use only constant extra memory**\n"
   ]
  },
  {
   "cell_type": "code",
   "execution_count": 12,
   "id": "073433e1",
   "metadata": {},
   "outputs": [
    {
     "name": "stdout",
     "output_type": "stream",
     "text": [
      "1 3 2 "
     ]
    }
   ],
   "source": [
    "def swapPositions(list, pos1, pos2):\n",
    "    list[pos1], list[pos2] = list[pos2], list[pos1]\n",
    "    return list\n",
    "\n",
    "\n",
    "def nextPermutation(arr):\n",
    "    n = len(arr)\n",
    "    i = 0\n",
    "    j = 0\n",
    "\n",
    "    for i in range(n-2, -1, -1):\n",
    "        if (arr[i] < arr[i + 1]):\n",
    "            break\n",
    "\n",
    "\n",
    "    if (i < 0):\n",
    "        arr.reverse()\n",
    "\n",
    "    else:\n",
    "\n",
    "        for j in range(n-1, i, -1):\n",
    "            if (arr[j] > arr[i]):\n",
    "                break\n",
    "\n",
    "\n",
    "        swapPositions(arr, i, j)\n",
    "\n",
    "        strt, end = i+1, len(arr)\n",
    "\n",
    "        arr[strt:end] = arr[strt:end][::-1]\n",
    "\n",
    "# Driver code\n",
    "if __name__ == \"__main__\":\n",
    "    arr =  [1,2,3]\n",
    "\n",
    "    nextPermutation(arr)\n",
    "\n",
    "    for i in arr:\n",
    "        print(i, end=\" \")\n",
    "\n",
    "\n"
   ]
  },
  {
   "cell_type": "markdown",
   "id": "93181a6c",
   "metadata": {},
   "source": [
    "**Question 4**\n",
    "\n",
    "**Given a sorted array of distinct integers and a target value, return the index if the\n",
    "target is found. If not, return the index where it would be if it were inserted in\n",
    "order**\n",
    "\n",
    "**You must write an algorithm with O(log n) runtime complexity**"
   ]
  },
  {
   "cell_type": "raw",
   "id": "c1af19cd",
   "metadata": {},
   "source": [
    "Algorithm:\n",
    "\n",
    "Set start and end as 0 and N – 1, where the start and end variables denote the lower and upper bound of the search space respectively.\n",
    "Calculate mid = (start + end) / 2.\n",
    "If arr[mid] is found to be equal to K, print mid as the required answer.\n",
    "If arr[mid] exceeds K, set high = mid – 1 Otherwise, set  low = mid + 1. \n"
   ]
  },
  {
   "cell_type": "code",
   "execution_count": 13,
   "id": "1cb80c3b",
   "metadata": {},
   "outputs": [
    {
     "data": {
      "text/plain": [
       "2"
      ]
     },
     "execution_count": 13,
     "metadata": {},
     "output_type": "execute_result"
    }
   ],
   "source": [
    "class Solution:\n",
    "    def searchInsert(self, nums: List[int], target: int) -> int:\n",
    "        start = 0\n",
    "        end = len(nums)-1\n",
    "        while start <= end:\n",
    "            mid = (start + end)//2\n",
    "            if nums[mid] == target:\n",
    "                return mid\n",
    "            elif nums[mid] > target:\n",
    "                end = mid - 1\n",
    "            else:\n",
    "                start = mid + 1\n",
    "        return end+1\n",
    "    \n",
    "r = Solution()\n",
    "r.searchInsert([1,3,5,6],5)"
   ]
  },
  {
   "cell_type": "markdown",
   "id": "01720288",
   "metadata": {},
   "source": [
    "**Question 5**\n",
    "\n",
    "**You are given a large integer represented as an integer array digits, where each\n",
    "digits[i] is the ith digit of the integer. The digits are ordered from most significant\n",
    "to least significant in left-to-right order. The large integer does not contain any\n",
    "leading 0's**\n",
    "\n",
    "**Increment the large integer by one and return the resulting array of digits**"
   ]
  },
  {
   "cell_type": "code",
   "execution_count": 16,
   "id": "2a6fb602",
   "metadata": {},
   "outputs": [
    {
     "data": {
      "text/plain": [
       "[1, 2, 4]"
      ]
     },
     "execution_count": 16,
     "metadata": {},
     "output_type": "execute_result"
    }
   ],
   "source": [
    "class Solution:\n",
    "    def plusOne(self, digits):\n",
    "        strings = \"\"\n",
    "        for number in digits:\n",
    "            strings += str(number)\n",
    "\n",
    "        temp = str(int(strings) +1)\n",
    "\n",
    "        return [int(temp[i]) for i in range(len(temp))]\n",
    "\n",
    "r = Solution()\n",
    "r.plusOne([1,2,3])"
   ]
  },
  {
   "cell_type": "markdown",
   "id": "41136e99",
   "metadata": {},
   "source": [
    "**Question 6**\n",
    "\n",
    "**Given a non-empty array of integers nums, every element appears twice except\n",
    "for one. Find that single one**\n",
    "\n",
    "**You must implement a solution with a linear runtime complexity and use only\n",
    "constant extra space**"
   ]
  },
  {
   "cell_type": "code",
   "execution_count": 19,
   "id": "d6ab37c4",
   "metadata": {},
   "outputs": [
    {
     "name": "stdout",
     "output_type": "stream",
     "text": [
      "1\n"
     ]
    }
   ],
   "source": [
    "def findSingle(A, ar_size):\n",
    "\n",
    "\n",
    "    for i in range(ar_size):\n",
    "\n",
    "\n",
    "        count = 0\n",
    "        for j in range(ar_size):\n",
    "\n",
    "\n",
    "            if(A[i] == A[j]):\n",
    "                count += 1\n",
    "\n",
    "\n",
    "        if(count == 1):\n",
    "            return A[i]\n",
    "\n",
    "    return -1\n",
    "\n",
    "ar =  [2,2,1]\n",
    "n = len(ar)\n",
    "# Function call\n",
    "print( findSingle(ar, n))\n",
    "\n",
    "\n"
   ]
  },
  {
   "cell_type": "markdown",
   "id": "ebb28c9a",
   "metadata": {},
   "source": [
    "**Question 7**\n",
    "\n",
    "**You are given an inclusive range [lower, upper] and a sorted unique integer array\n",
    "nums, where all elements are within the inclusive range**\n",
    "\n",
    "**A number x is considered missing if x is in the range [lower, upper] and x is not in\n",
    "nums**\n",
    "\n",
    "**Return the shortest sorted list of ranges that exactly covers all the missing\n",
    "numbers. That is, no element of nums is included in any of the ranges, and each\n",
    "missing number is covered by one of the ranges**"
   ]
  },
  {
   "cell_type": "code",
   "execution_count": 49,
   "id": "617f0d58",
   "metadata": {},
   "outputs": [
    {
     "name": "stdout",
     "output_type": "stream",
     "text": [
      "2 4 5 6 7 8 9 10 11 12 13 14 15 16 17 18 19 20 21 22 23 24 25 26 27 28 29 30 31 32 33 34 35 36 37 38 39 40 41 42 43 44 45 46 47 48 49 51 52 53 54 55 56 57 58 59 60 61 62 63 64 65 66 67 68 69 70 71 72 73 74 76 77 78 79 80 81 82 83 84 85 86 87 88 89 90 91 92 93 94 95 96 97 98 99 "
     ]
    }
   ],
   "source": [
    "def findMissing(arr, n, low, high)-> List[str]:\n",
    "    for i in range(low, high+1):\n",
    "        found = False\n",
    "\n",
    "        for j in range(n):\n",
    "            if arr[j] == i:\n",
    "                found = True\n",
    "                break\n",
    "\n",
    "        if not found:\n",
    "            print(i, end=' ')\n",
    "\n",
    "# Driver's code\n",
    "if __name__ == '__main__':\n",
    "\n",
    "    arr = [0,1,3,50,75]\n",
    "    n = len(arr)\n",
    "    low = 0\n",
    "    high = 99\n",
    "\n",
    "    findMissing(arr, n, low, high)\n"
   ]
  },
  {
   "cell_type": "markdown",
   "id": "e9270719",
   "metadata": {},
   "source": [
    "**Question 8**\n",
    "\n",
    "**Given an array of meeting time intervals where intervals[i] = [starti, endi],\n",
    "determine if a person could attend all meetings**"
   ]
  },
  {
   "cell_type": "code",
   "execution_count": 53,
   "id": "cdc135be",
   "metadata": {},
   "outputs": [
    {
     "name": "stdout",
     "output_type": "stream",
     "text": [
      "1 2 4 5 \n"
     ]
    }
   ],
   "source": [
    "class meeting:\n",
    "\n",
    "    def __init__(self, start, end, pos):\n",
    "\n",
    "        self.start = start\n",
    "        self.end = end\n",
    "        self.pos = pos\n",
    "\n",
    "\n",
    "def maxMeeting(l, N):\n",
    "\n",
    "    # Initialising an arraylist\n",
    "    # for storing answer\n",
    "    ans = []\n",
    "\n",
    "    l.sort(key=lambda x: x.end)\n",
    "\n",
    "    ans.append(l[0].pos)\n",
    "\n",
    "    time_limit = l[0].end\n",
    "\n",
    "    for i in range(1, N):\n",
    "        if l[i].start > time_limit:\n",
    "            ans.append(l[i].pos)\n",
    "            time_limit = l[i].end\n",
    "\n",
    "\n",
    "    for i in ans:\n",
    "        print(i + 1, end=\" \")\n",
    "\n",
    "    print()\n",
    "\n",
    "\n",
    "\n",
    "if __name__ == '__main__':\n",
    "\n",
    "\n",
    "    s = [1, 3, 0, 5, 8, 5]\n",
    "\n",
    "    \n",
    "    f = [2, 4, 6, 7, 9, 9]\n",
    "\n",
    "\n",
    "    N = len(s)\n",
    "\n",
    "    l = []\n",
    "\n",
    "    for i in range(N):\n",
    "\n",
    "        l.append(meeting(s[i], f[i], i))\n",
    "\n",
    "    maxMeeting(l, N)\n",
    "\n",
    "\n"
   ]
  },
  {
   "cell_type": "code",
   "execution_count": null,
   "id": "93fc13ea",
   "metadata": {},
   "outputs": [],
   "source": []
  }
 ],
 "metadata": {
  "kernelspec": {
   "display_name": "Python 3 (ipykernel)",
   "language": "python",
   "name": "python3"
  },
  "language_info": {
   "codemirror_mode": {
    "name": "ipython",
    "version": 3
   },
   "file_extension": ".py",
   "mimetype": "text/x-python",
   "name": "python",
   "nbconvert_exporter": "python",
   "pygments_lexer": "ipython3",
   "version": "3.9.12"
  }
 },
 "nbformat": 4,
 "nbformat_minor": 5
}

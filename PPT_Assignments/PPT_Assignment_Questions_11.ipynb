{
 "cells": [
  {
   "cell_type": "markdown",
   "id": "33927346",
   "metadata": {},
   "source": [
    "# Assignment Questions 11"
   ]
  },
  {
   "cell_type": "markdown",
   "id": "69e6940d",
   "metadata": {},
   "source": [
    "💡 **Question 1**\n",
    "\n",
    "**Given a non-negative integer `x`, return *the square root of* `x` *rounded down to the nearest integer*. The returned integer should be **non-negative** as well**\n",
    "\n",
    "You **must not use** any built-in exponent function or operator.\n"
   ]
  },
  {
   "cell_type": "code",
   "execution_count": 1,
   "id": "137003c5",
   "metadata": {},
   "outputs": [
    {
     "data": {
      "text/plain": [
       "2"
      ]
     },
     "execution_count": 1,
     "metadata": {},
     "output_type": "execute_result"
    }
   ],
   "source": [
    "class Solution(object):\n",
    "    def mySqrt(self, x):\n",
    "        \n",
    "        if x < 2:\n",
    "            return x\n",
    "        \n",
    "        start = 0\n",
    "        end = x/2\n",
    "        \n",
    "        while (start <= end):\n",
    "            \n",
    "            mid = int((start + end) / 2)\n",
    "            \n",
    "            square = mid * mid\n",
    "            \n",
    "            if square == x:\n",
    "                return mid\n",
    "            \n",
    "            if square > x:\n",
    "                end = mid - 1\n",
    "                \n",
    "            else:\n",
    "                start = mid + 1\n",
    "                \n",
    "        return end\n",
    "    \n",
    "r = Solution()\n",
    "r.mySqrt(4)"
   ]
  },
  {
   "cell_type": "markdown",
   "id": "4da8c9a1",
   "metadata": {},
   "source": [
    "💡 **Question 2**\n",
    "\n",
    "**A peak element is an element that is strictly greater than its neighbors**\n",
    "\n",
    "Given a **0-indexed** integer array `nums`, find a peak element, and return its index. If the array contains multiple peaks, return the index to **any of the peaks**.\n",
    "\n",
    "**You may imagine that `nums[-1] = nums[n] = -∞`. In other words, an element is always considered to be strictly greater than a neighbor that is outside the array**\n",
    "\n",
    "**You must write an algorithm that runs in `O(log n)` time**\n"
   ]
  },
  {
   "cell_type": "markdown",
   "id": "f9217f02",
   "metadata": {},
   "source": [
    "- Here we use  binary search algorithm to find the peak element in O(log n) time.\n",
    "- Initialize the left and right pointers to the first and last indices of the array, respectively. \n",
    "- loop is created until the left and right pointers converge on a single index.\n",
    "- In each iteration of the loop, the mid index is computed as the average of the left and right pointers.\n",
    "- If the element at the mid index is greater than the element at the next index (i.e., nums[mid] > nums[mid+1]), then the peak element must be in the left half of the array, so the right pointer is updated to mid.\n",
    "- Otherwise, the peak element must be in the right half of the array, so the left pointer is updated to mid+1.\n",
    "- At the end of the loop, the left pointer points to the peak element, so it is returned as the result.\n",
    "- By repeating this process with the appropriate half of the array at each step, the algorithm converges on the peak element in O(log n) time.\n"
   ]
  },
  {
   "cell_type": "code",
   "execution_count": 3,
   "id": "e068ae8c",
   "metadata": {},
   "outputs": [
    {
     "data": {
      "text/plain": [
       "2"
      ]
     },
     "execution_count": 3,
     "metadata": {},
     "output_type": "execute_result"
    }
   ],
   "source": [
    "from typing import List\n",
    "\n",
    "class Solution:\n",
    "    def findPeakElement(self, nums: List[int]) -> int:\n",
    "        left, right = 0, len(nums)-1\n",
    "        \n",
    "        while left < right:\n",
    "            mid = (left + right) // 2\n",
    "            if nums[mid] > nums[mid+1]:\n",
    "                right = mid\n",
    "            else:\n",
    "                left = mid + 1\n",
    "                \n",
    "        return left\n",
    "    \n",
    "r = Solution()\n",
    "r.findPeakElement([1,2,3,1])"
   ]
  },
  {
   "cell_type": "markdown",
   "id": "c4aed3be",
   "metadata": {},
   "source": [
    "💡 **Question 3**\n",
    "\n",
    "**Given an array `nums` containing `n` distinct numbers in the range `[0, n]`, return *the only number in the range that is missing from the array**\n"
   ]
  },
  {
   "cell_type": "code",
   "execution_count": 4,
   "id": "1b657ac4",
   "metadata": {},
   "outputs": [
    {
     "data": {
      "text/plain": [
       "2"
      ]
     },
     "execution_count": 4,
     "metadata": {},
     "output_type": "execute_result"
    }
   ],
   "source": [
    "class Solution:\n",
    "    def missingNumber(self, nums: List[int]) -> int:\n",
    "        n =len(nums)\n",
    "        expectedSum = int(n*(n+1)/2)\n",
    "        sum= 0\n",
    "        for num in nums:\n",
    "            sum = sum + num\n",
    "        missingNumber = expectedSum-sum\n",
    "        return missingNumber\n",
    "    \n",
    "r = Solution()\n",
    "r.missingNumber([3,0,1])"
   ]
  },
  {
   "cell_type": "markdown",
   "id": "79ccf5c1",
   "metadata": {},
   "source": [
    "💡 **Question 4**\n",
    "\n",
    "**Given an array of integers `nums` containing `n + 1` integers where each integer is in the range `[1, n]` inclusive**\n",
    "\n",
    "**There is only **one repeated number** in `nums`, return *this repeated number**\n",
    "\n",
    "**You must solve the problem **without** modifying the array `nums` and uses only constant extra space**\n"
   ]
  },
  {
   "cell_type": "code",
   "execution_count": 5,
   "id": "392c8cea",
   "metadata": {},
   "outputs": [
    {
     "data": {
      "text/plain": [
       "2"
      ]
     },
     "execution_count": 5,
     "metadata": {},
     "output_type": "execute_result"
    }
   ],
   "source": [
    "class Solution:\n",
    "    def findDuplicate(self, nums: List[int]) -> int:\n",
    "    # Using Floyd's Tortoise and Hare algorithm\n",
    "    # to detect the cycle in the linked list\n",
    "        tortoise = nums[0]\n",
    "        hare = nums[0]\n",
    "    \n",
    "    # Move tortoise and hare until they meet\n",
    "        while True:\n",
    "            tortoise = nums[tortoise]\n",
    "            hare = nums[nums[hare]]\n",
    "            if tortoise == hare:\n",
    "                break\n",
    "    \n",
    "    # Reset tortoise to the start of the list\n",
    "        tortoise = nums[0]\n",
    "    \n",
    "    # Move tortoise and hare at the same speed until they meet again\n",
    "        while tortoise != hare:\n",
    "            tortoise = nums[tortoise]\n",
    "            hare = nums[hare]\n",
    "    \n",
    "    # Return the duplicate number\n",
    "        return tortoise\n",
    "    \n",
    "r = Solution()\n",
    "r.findDuplicate([1,3,4,2,2])"
   ]
  },
  {
   "cell_type": "markdown",
   "id": "af8485db",
   "metadata": {},
   "source": [
    "💡 **Question 5**\n",
    "\n",
    "**Given two integer arrays `nums1` and `nums2`, return *an array of their intersection*. Each element in the result must be **unique** and you may return the result in **any order**\n"
   ]
  },
  {
   "cell_type": "code",
   "execution_count": 7,
   "id": "f7cf5a7c",
   "metadata": {},
   "outputs": [
    {
     "data": {
      "text/plain": [
       "[2]"
      ]
     },
     "execution_count": 7,
     "metadata": {},
     "output_type": "execute_result"
    }
   ],
   "source": [
    "from collections import defaultdict\n",
    "\n",
    "class Solution:\n",
    "    def intersection(self, nums1: List[int], nums2: List[int]) -> List[int]:\n",
    "        ans=[]\n",
    "        dc=defaultdict(lambda:0)\n",
    "        for a in nums1:\n",
    "            dc[a]=1\n",
    "        nums2=set(nums2)\n",
    "        for a in nums2:\n",
    "            if(dc[a]==1):\n",
    "                ans.append(a)\n",
    "        return ans\n",
    "    \n",
    "r = Solution()\n",
    "r.intersection([1,2,2,1],[2,2])"
   ]
  },
  {
   "cell_type": "markdown",
   "id": "a8d9bb3c",
   "metadata": {},
   "source": [
    "💡 **Question 6**\n",
    "\n",
    "**Suppose an array of length `n` sorted in ascending order is **rotated** between `1` and `n` times. For example, the array `nums = [0,1,2,4,5,6,7]` might become**\n",
    "\n",
    "- `[4,5,6,7,0,1,2]` if it was rotated `4` times.\n",
    "- `[0,1,2,4,5,6,7]` if it was rotated `7` times.\n",
    "\n",
    "**Notice that **rotating** an array `[a[0], a[1], a[2], ..., a[n-1]]` 1 time results in the array `[a[n-1], a[0], a[1], a[2], ..., a[n-2]]**\n",
    "\n",
    "**Given the sorted rotated array `nums` of **unique** elements, return *the minimum element of this array**\n",
    "\n",
    "**You must write an algorithm that runs in `O(log n) time**\n"
   ]
  },
  {
   "cell_type": "markdown",
   "id": "9a5465b7",
   "metadata": {},
   "source": [
    "- using binary search to find the minimum element in the rotated sorted array.\n",
    "- It initializes two pointers, left and right, to the beginning and end of the array, respectively. \n",
    "- It then repeatedly compares the element at the midpoint of the array to the element at the end of the array, and updates the pointers accordingly until the minimum element is found.\n",
    "\n",
    "The time complexity of this solution is O(log n), since binary search is used. The space complexity is O(1), since only constant space is used."
   ]
  },
  {
   "cell_type": "code",
   "execution_count": 8,
   "id": "98e60d0b",
   "metadata": {},
   "outputs": [
    {
     "data": {
      "text/plain": [
       "1"
      ]
     },
     "execution_count": 8,
     "metadata": {},
     "output_type": "execute_result"
    }
   ],
   "source": [
    "class Solution:\n",
    "    def findMin(self, nums: List[int]) -> int:\n",
    "        left, right = 0, len(nums) - 1\n",
    "        while left < right:\n",
    "            mid = left + (right - left) // 2\n",
    "            if nums[mid] > nums[right]:\n",
    "                left = mid + 1\n",
    "            else:\n",
    "                right = mid\n",
    "        return nums[left]\n",
    "    \n",
    "r = Solution()\n",
    "r.findMin([3,4,5,1,2])"
   ]
  },
  {
   "cell_type": "markdown",
   "id": "1674545c",
   "metadata": {},
   "source": [
    "💡 **Question 7**\n",
    "\n",
    "**Given an array of integers `nums` sorted in non-decreasing order, find the starting and ending position of a given `target` value**\n",
    "\n",
    "**If `target` is not found in the array, return `[-1, -1]`**\n",
    "\n",
    "**You must write an algorithm with `O(log n)` runtime complexity**\n"
   ]
  },
  {
   "cell_type": "markdown",
   "id": "98d3d6e1",
   "metadata": {},
   "source": [
    "Let's imagine the following scenario:\n",
    "nums = [1, 2, 3, 3, 3, 4, 5]\n",
    "target = 3\n",
    "\n",
    "- At the beginning, start and end point to the leftmost and rightmost positions of the search range. In this case, start is 0 and end is 6.\n",
    "- We move start towards the left to find the leftmost index in the list where the target value appears. In this example, the target value 3 is found at index 2. So, start becomes 2.\n",
    "- We move end towards the right to find the rightmost index in the list where the target value appears. In this example, the target value 3 is found at index 4. So, end becomes 4.\n",
    "- Now, we know that the target value 3 is located within the range of indices from 2 to 4 in the list.\n",
    "- Therefore, the resulting range is [2, 4].\n",
    "\n",
    "By using this approach, we can accurately determine the range in which the target value is located within the list."
   ]
  },
  {
   "cell_type": "markdown",
   "id": "da286477",
   "metadata": {},
   "source": [
    "The code uses a binary search algorithm to search for the target value in the given nums list. Binary search has a time complexity of O(log N). \n",
    "\n",
    "Space complexity: The algorithm uses a constant amount of extra space, resulting in O(1) space complexity."
   ]
  },
  {
   "cell_type": "code",
   "execution_count": null,
   "id": "2d3a3a83",
   "metadata": {},
   "outputs": [],
   "source": [
    "class Solution:\n",
    "    def searchRange(self, nums: List[int], target: int) -> List[int]:\n",
    "        # Check if the list is empty\n",
    "        if not nums:\n",
    "            return [-1,-1]\n",
    "\n",
    "        # Initialize the left and right pointers\n",
    "        left=0\n",
    "        right= len(nums)-1\n",
    "        \n",
    "        while left<=right:\n",
    "            mid=left+(right-left+1)//2\n",
    "            \n",
    "            # If the middle element is the target\n",
    "            if nums[mid] == target:\n",
    "                start = end = mid\n",
    "                \n",
    "                # Find the leftmost index of the target\n",
    "                while start > 0 and nums[start - 1] == target:\n",
    "                    start -= 1\n",
    "\n",
    "                # Find the rightmost index of the target\n",
    "                while end < len(nums) - 1 and nums[end + 1] == target:\n",
    "                    end += 1\n",
    "                \n",
    "                return [start, end]\n",
    "                    \n",
    "            elif nums[mid]<target:\n",
    "                left=mid+1\n",
    "            else:\n",
    "                right=mid-1\n",
    "\n",
    "        # Return [-1, -1] if the target is not found\n",
    "        return [-1, -1]\n",
    "\n",
    "r = Solution()\n",
    "r.searchRange([5,7,7,8,8,10],8)"
   ]
  },
  {
   "cell_type": "markdown",
   "id": "15265788",
   "metadata": {},
   "source": [
    "💡 **Question 8**\n",
    "\n",
    "**Given two integer arrays `nums1` and `nums2`, return *an array of their intersection*. Each element in the result must appear as many times as it shows in both arrays and you may return the result in **any order**\n"
   ]
  },
  {
   "cell_type": "code",
   "execution_count": 10,
   "id": "fe09c4f4",
   "metadata": {},
   "outputs": [
    {
     "data": {
      "text/plain": [
       "[2, 2]"
      ]
     },
     "execution_count": 10,
     "metadata": {},
     "output_type": "execute_result"
    }
   ],
   "source": [
    "class Solution:\n",
    "    def intersect(self, nums1: List[int], nums2: List[int]) -> List[int]:\n",
    "        # Sort both the arrays first...\n",
    "        sortedArr1 = sorted(nums1)\n",
    "        sortedArr2 = sorted(nums2)\n",
    "        # Use two pointers i and j for the two arrays and initialize both with zero.\n",
    "        i = 0\n",
    "        j = 0\n",
    "        # Create a output list to store the output...\n",
    "        output = []\n",
    "        while i < len(sortedArr1) and j < len(sortedArr2):\n",
    "            # If sortedArr1[i] is less than sortedArr2[j]...\n",
    "            # Leave the smaller element and go to next(greater) element in nums1...\n",
    "            if sortedArr1[i] < sortedArr2[j]:\n",
    "                i += 1\n",
    "            # If sortedArr1[i] is greater than sortedArr2[j]...\n",
    "            # Go to next(greater) element in nums2 array...\n",
    "            elif sortedArr2[j] < sortedArr1[i]:\n",
    "                j += 1\n",
    "            # If both the elements intersected...\n",
    "            # Add this element to output & increment both i and j.\n",
    "            else:\n",
    "                output.append(sortedArr1[i])\n",
    "                i += 1\n",
    "                j += 1\n",
    "        return output      \n",
    "    \n",
    "r = Solution()\n",
    "r.intersect([1,2,2,1],[2,2])"
   ]
  },
  {
   "cell_type": "code",
   "execution_count": null,
   "id": "0d12dfd9",
   "metadata": {},
   "outputs": [],
   "source": []
  }
 ],
 "metadata": {
  "kernelspec": {
   "display_name": "Python 3 (ipykernel)",
   "language": "python",
   "name": "python3"
  },
  "language_info": {
   "codemirror_mode": {
    "name": "ipython",
    "version": 3
   },
   "file_extension": ".py",
   "mimetype": "text/x-python",
   "name": "python",
   "nbconvert_exporter": "python",
   "pygments_lexer": "ipython3",
   "version": "3.9.12"
  }
 },
 "nbformat": 4,
 "nbformat_minor": 5
}

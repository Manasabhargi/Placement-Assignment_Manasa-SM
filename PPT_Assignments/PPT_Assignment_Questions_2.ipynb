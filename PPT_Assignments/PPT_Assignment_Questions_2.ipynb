{
 "cells": [
  {
   "cell_type": "markdown",
   "id": "c7a77039",
   "metadata": {},
   "source": [
    "# Assignment Questions - 2"
   ]
  },
  {
   "cell_type": "markdown",
   "id": "23403101",
   "metadata": {},
   "source": [
    "**Question 1**\n",
    "**Given an integer array nums of 2n integers, group these integers into n pairs (a1, b1), (a2, b2),..., (an, bn) such that the sum of min(ai, bi) for all i is maximized. Return the maximized sum. **"
   ]
  },
  {
   "cell_type": "raw",
   "id": "720b0347",
   "metadata": {},
   "source": [
    "Target is sum(min(a1, b1), min(a2, b2), ... , min(an, bn)). \n",
    "\n",
    "we sort the input array first\n",
    "\n",
    "Then, add values at odd of sorted array.\n",
    "\n",
    "Time Complexity: O(NlogN), N is length of the input array\n",
    "Space Complexity: O(1)"
   ]
  },
  {
   "cell_type": "code",
   "execution_count": 1,
   "id": "7877dcc5",
   "metadata": {},
   "outputs": [],
   "source": [
    "class Solution(object):\n",
    "    def arrayPairSum(self, nums):\n",
    "        \n",
    "        nums.sort()\n",
    "        result = 0\n",
    "        numsLen = len(nums)\n",
    "        for i in range(0, numsLen - 1, 2):\n",
    "            result += nums[i]\n",
    "        return result"
   ]
  },
  {
   "cell_type": "code",
   "execution_count": 2,
   "id": "d7fb6028",
   "metadata": {},
   "outputs": [
    {
     "data": {
      "text/plain": [
       "4"
      ]
     },
     "execution_count": 2,
     "metadata": {},
     "output_type": "execute_result"
    }
   ],
   "source": [
    "r = Solution()\n",
    "r.arrayPairSum([1,4,3,2])"
   ]
  },
  {
   "cell_type": "markdown",
   "id": "73f8dc62",
   "metadata": {},
   "source": [
    "**Question 2**\n",
    "\n",
    "**Alice has n candies, where the ith candy is of type candyType[i]. Alice noticed that she started to gain weight, so she visited a doctor**\n",
    "\n",
    "**The doctor advised Alice to only eat n / 2 of the candies she has (n is always even). Alice likes her candies very much, and she wants to eat the maximum number of different types of candies while still following the doctor's advice**\n",
    "\n",
    "**Given the integer array candyType of length n, return the maximum number of different types of candies she can eat if she only eats n / 2 of them**"
   ]
  },
  {
   "cell_type": "raw",
   "id": "f0738abc",
   "metadata": {},
   "source": [
    "we need to  traverse over each element in candyType, checking whether or not we've already seen a candy of this same type\n",
    "\n",
    "We can do this check by iterating over all elements before the current element.\n",
    "\n",
    " If any of those are of the same type, then this is not a unique candy.\n",
    " \n",
    " Complexity Analysis\n",
    "\n",
    "Let NNN be the the length of candyType.\n",
    "\n",
    "Time complexity : O(N2)O(N^2)O(N2). We traverse over each of the NNN elements of candyTypecandyTypecandyType, and for each, we check all of the elements before it. Checking each item for each item is the classic O(N2)O(N^2)O(N2) time complexity pattern.\n",
    "\n",
    "Space complexity : O(1)O(1)O(1). We don't allocate any additional data structures, instead only using constant space variables."
   ]
  },
  {
   "cell_type": "code",
   "execution_count": 10,
   "id": "a4bc354f",
   "metadata": {},
   "outputs": [],
   "source": [
    "from typing import List\n",
    "\n",
    "class Solution:\n",
    "    def distributeCandies(self, candyType: List[int]) -> int:\n",
    "      \n",
    "        unique_candies = 0\n",
    "       \n",
    "        for i in range(len(candyType)):\n",
    "           \n",
    "            for j in range(0, i):\n",
    "              \n",
    "                if candyType[i] == candyType[j]:\n",
    "                    break\n",
    "         \n",
    "                else:\n",
    "                    unique_candies += 1\n",
    "     \n",
    "        return min(unique_candies, len(candyType) // 2)"
   ]
  },
  {
   "cell_type": "code",
   "execution_count": 11,
   "id": "8719741c",
   "metadata": {},
   "outputs": [
    {
     "data": {
      "text/plain": [
       "3"
      ]
     },
     "execution_count": 11,
     "metadata": {},
     "output_type": "execute_result"
    }
   ],
   "source": [
    "r = Solution()\n",
    "r.distributeCandies([1,1,2,2,3,3])"
   ]
  },
  {
   "cell_type": "markdown",
   "id": "ccc024df",
   "metadata": {},
   "source": [
    "**Question 3**\n",
    "\n",
    "**We define a harmonious array as an array where the difference between its maximum value\n",
    "and its minimum value is exactly 1**\n",
    "\n",
    "**Given an integer array nums, return the length of its longest harmonious subsequence\n",
    "among all its possible subsequences**\n",
    "\n",
    "**A subsequence of an array is a sequence that can be derived from the array by deleting some or no elements without changing the order of the remaining elements**"
   ]
  },
  {
   "cell_type": "code",
   "execution_count": 13,
   "id": "24dd2f21",
   "metadata": {},
   "outputs": [
    {
     "data": {
      "text/plain": [
       "5"
      ]
     },
     "execution_count": 13,
     "metadata": {},
     "output_type": "execute_result"
    }
   ],
   "source": [
    "from collections import Counter\n",
    "\n",
    "class Solution:\n",
    "    def findLHS(self, nums: List[int]) -> int:\n",
    "        freq = Counter(nums)\n",
    "        max_length = 0\n",
    "        \n",
    "        for key in freq:\n",
    "            if key + 1 in freq:\n",
    "                max_length = max(max_length, freq[key] + freq[key+1])\n",
    "                \n",
    "        return max_length\n",
    "    \n",
    "r = Solution()\n",
    "r.findLHS([1,3,2,2,5,2,3,7])"
   ]
  },
  {
   "cell_type": "markdown",
   "id": "eba4af58",
   "metadata": {},
   "source": [
    "**Question 4**\n",
    "\n",
    "**You have a long flowerbed in which some of the plots are planted, and some are not**\n",
    "**However, flowers cannot be planted in adjacent plots**\n",
    "**Given an integer array flowerbed containing 0's and 1's, where 0 means empty and 1 means not empty, and an integer n, return true if n new flowers can be planted in the flowerbed without violating the no-adjacent-flowers rule and false otherwise**"
   ]
  },
  {
   "cell_type": "raw",
   "id": "b09f3180",
   "metadata": {},
   "source": [
    "- we need to traverse through the whole flowerbed and need t check whether there is an empty element\n",
    "- For every such positions, we will check if both the adjacent elements are also empty\n",
    "- If so, we can plant a flower at the current position without violating the no-adjacent-flowers-rule. \n",
    "- For the first and last elements, we need not check the previous and the next adjacent positions respectively.\n",
    "- If the countcountcount obtained is greater than or equal to nnn, the required number of flowers to be planted, we can plant nnn flowers in the empty spaces, otherwise not.\n"
   ]
  },
  {
   "cell_type": "code",
   "execution_count": 14,
   "id": "95f93bb8",
   "metadata": {},
   "outputs": [
    {
     "data": {
      "text/plain": [
       "True"
      ]
     },
     "execution_count": 14,
     "metadata": {},
     "output_type": "execute_result"
    }
   ],
   "source": [
    "class Solution:\n",
    "    def canPlaceFlowers(self, flowerbed: List[int], n: int) -> bool:\n",
    "        count = 0\n",
    "        for i in range(len(flowerbed)):\n",
    "            # Check if the current plot is empty.\n",
    "            if flowerbed[i] == 0:\n",
    "                # Check if the left and right plots are empty.\n",
    "                empty_left_plot = (i == 0) or (flowerbed[i - 1] == 0)\n",
    "                empty_right_lot = (i == len(flowerbed) - 1) or (flowerbed[i + 1] == 0)\n",
    "                \n",
    "                # If both plots are empty, we can plant a flower here.\n",
    "                if empty_left_plot and empty_right_lot:\n",
    "                    flowerbed[i] = 1\n",
    "                    count += 1\n",
    "                    \n",
    "        return count >= n\n",
    "    \n",
    "r = Solution()\n",
    "r.canPlaceFlowers([1,0,0,0,1],1)"
   ]
  },
  {
   "cell_type": "markdown",
   "id": "06e0faf8",
   "metadata": {},
   "source": [
    "**Question 5**\n",
    "\n",
    "**Given an integer array nums, find three numbers whose product is maximum and return the maximum product**"
   ]
  },
  {
   "cell_type": "code",
   "execution_count": 16,
   "id": "d84b5ddc",
   "metadata": {},
   "outputs": [
    {
     "data": {
      "text/plain": [
       "6"
      ]
     },
     "execution_count": 16,
     "metadata": {},
     "output_type": "execute_result"
    }
   ],
   "source": [
    "import heapq\n",
    "class Solution:\n",
    "    def maximumProduct(self, nums: List[int]) -> int:\n",
    "        pos=heapq.nlargest(3,nums)\n",
    "        neg=heapq.nsmallest(2,nums)\n",
    "        return max(neg[0]*neg[1]*pos[0],pos[0]*pos[1]*pos[2])\n",
    "        \n",
    "r = Solution()\n",
    "r.maximumProduct([1,2,3])"
   ]
  },
  {
   "cell_type": "markdown",
   "id": "fd59f82a",
   "metadata": {},
   "source": [
    "**Question 6**\n",
    "\n",
    "**Given an array of integers nums which is sorted in ascending order, and an integer target,\n",
    "write a function to search target in nums. If target exists, then return its index. Otherwise,\n",
    "return -1**"
   ]
  },
  {
   "cell_type": "markdown",
   "id": "e45f7034",
   "metadata": {},
   "source": [
    "- Binary search is an efficient algorithm for searching for a specific target value within a sorted array.\n",
    "- By using this approach, we can quickly eliminate half of the remaining search space at each iteration, resulting in a time complexity of O(log n).\n",
    "- compare  target value to the middle element of the sorted array. \n",
    "- if target = mid element then return index of the mid element\n",
    "- if target < mid element then repeat the search for left array\n",
    "- if target > mid element then repeat the search for right array\n",
    "- continue till the search interval is empty.\n",
    "- If the target is not found, return -1.\n",
    "\n",
    "Time complexity: O(logn)O(log n)O(logn) - Since binary search reduces the search space by half at each step, the maximum number of iterations required to find the target is log base 2 of n, where n is the size of the array. Therefore, the time complexity of binary search is O(logn)O(log n)O(logn).\n",
    "\n",
    "Space complexity: O(1)O(1)O(1) - Binary search only uses a constant amount of additional space for the two pointers and the middle index variable, so the space complexity is O(1)O(1)O(1)."
   ]
  },
  {
   "cell_type": "code",
   "execution_count": 17,
   "id": "cac8c0e0",
   "metadata": {},
   "outputs": [
    {
     "data": {
      "text/plain": [
       "4"
      ]
     },
     "execution_count": 17,
     "metadata": {},
     "output_type": "execute_result"
    }
   ],
   "source": [
    "class Solution(object):\n",
    "    def search(self, nums, target):\n",
    "      \n",
    "        left = 0\n",
    "        right = len(nums) - 1\n",
    "        \n",
    "        while left <= right:\n",
    "            mid = (left + right) // 2\n",
    "            \n",
    "            if nums[mid] == target:\n",
    "                return mid\n",
    "            elif nums[mid] < target:\n",
    "                left = mid + 1\n",
    "            else:\n",
    "                right = mid - 1\n",
    "        \n",
    "        return -1\n",
    "    \n",
    "r = Solution()\n",
    "r.search([-1,0,3,5,9,12],9)"
   ]
  },
  {
   "cell_type": "markdown",
   "id": "ec2659cd",
   "metadata": {},
   "source": [
    "**Question 7**\n",
    "\n",
    "**An array is monotonic if it is either monotone increasing or monotone decreasing**\n",
    "\n",
    "**An array nums is monotone increasing if for all i <= j, nums[i] <= nums[j]. An array nums is\n",
    "monotone decreasing if for all i <= j, nums[i] >= nums[j]**\n",
    "\n",
    "**Given an integer array nums, return true if the given array is monotonic, or false otherwise**"
   ]
  },
  {
   "cell_type": "code",
   "execution_count": 18,
   "id": "eda8a22b",
   "metadata": {},
   "outputs": [
    {
     "data": {
      "text/plain": [
       "True"
      ]
     },
     "execution_count": 18,
     "metadata": {},
     "output_type": "execute_result"
    }
   ],
   "source": [
    "class Solution:\n",
    "    def isMonotonic(self, nums: List[int]) -> bool:\n",
    "       inc = True\n",
    "       dec = True\n",
    "       for i in range(1,len(nums)):\n",
    "           inc = inc and nums[i-1] >= nums[i]\n",
    "           dec = dec and nums[i-1] <= nums[i]\n",
    "       return inc or dec\n",
    "\n",
    "r = Solution()\n",
    "r.isMonotonic([1,2,2,3])"
   ]
  },
  {
   "cell_type": "markdown",
   "id": "57d0f582",
   "metadata": {},
   "source": [
    "**Question 8**\n",
    "\n",
    "**You are given an integer array nums and an integer k**\n",
    "\n",
    "**In one operation, you can choose any index i where 0 <= i < nums.length and change nums[i] to nums[i] + x where x is an integer from the range [-k, k]. You can apply this operation at most once for each index i**\n",
    "\n",
    "**The score of nums is the difference between the maximum and minimum elements in nums**\n",
    "\n",
    "**Return the minimum score of nums after applying the mentioned operation at most once for each index in it**"
   ]
  },
  {
   "cell_type": "code",
   "execution_count": 19,
   "id": "c7ae2fab",
   "metadata": {},
   "outputs": [
    {
     "data": {
      "text/plain": [
       "0"
      ]
     },
     "execution_count": 19,
     "metadata": {},
     "output_type": "execute_result"
    }
   ],
   "source": [
    "class Solution:\n",
    "    def smallestRangeI(self, nums: List[int], k: int) -> int:\n",
    "        x=max(nums)\n",
    "        y=min(nums)\n",
    "        return max(0,(x-k)-(y+k))\n",
    "    \n",
    "r = Solution()\n",
    "r.smallestRangeI([1],0)"
   ]
  },
  {
   "cell_type": "code",
   "execution_count": null,
   "id": "8768fc3e",
   "metadata": {},
   "outputs": [],
   "source": []
  }
 ],
 "metadata": {
  "kernelspec": {
   "display_name": "Python 3 (ipykernel)",
   "language": "python",
   "name": "python3"
  },
  "language_info": {
   "codemirror_mode": {
    "name": "ipython",
    "version": 3
   },
   "file_extension": ".py",
   "mimetype": "text/x-python",
   "name": "python",
   "nbconvert_exporter": "python",
   "pygments_lexer": "ipython3",
   "version": "3.9.12"
  }
 },
 "nbformat": 4,
 "nbformat_minor": 5
}

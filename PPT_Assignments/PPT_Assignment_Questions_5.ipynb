{
 "cells": [
  {
   "cell_type": "markdown",
   "id": "6b398939",
   "metadata": {},
   "source": [
    "# Assignment Questions - 5"
   ]
  },
  {
   "cell_type": "markdown",
   "id": "8e83e65b",
   "metadata": {},
   "source": [
    "💡 **Question 1**\n",
    "\n",
    "**Convert 1D Array Into 2D Array**\n",
    "\n",
    "You are given a **0-indexed** 1-dimensional (1D) integer array original, and two integers, m and n. You are tasked with creating a 2-dimensional (2D) array with  m rows and n columns using **all** the elements from original.\n",
    "\n",
    "The elements from indices 0 to n - 1 (**inclusive**) of original should form the first row of the constructed 2D array, the elements from indices n to 2 * n - 1 (**inclusive**) should form the second row of the constructed 2D array, and so on.\n",
    "\n",
    "Return *an* m x n *2D array constructed according to the above procedure, or an empty 2D array if it is impossible*.\n"
   ]
  },
  {
   "cell_type": "code",
   "execution_count": 6,
   "id": "100c552d",
   "metadata": {},
   "outputs": [
    {
     "data": {
      "text/plain": [
       "[[1, 2], [3, 4]]"
      ]
     },
     "execution_count": 6,
     "metadata": {},
     "output_type": "execute_result"
    }
   ],
   "source": [
    "    from typing import List\n",
    "class Solution:\n",
    "     def construct2DArray(self, original: List[int], m: int, n: int) -> List[List[int]]:\n",
    "        ans = []\n",
    "        if len(original) == m * n:\n",
    "            for r in range(m):\n",
    "                ans.append([])\n",
    "                for c in range(n):\n",
    "                    ans[-1].append(original[r * n + c])\n",
    "        return ans\n",
    "    \n",
    "r  =Solution()\n",
    "r.construct2DArray( [1,2,3,4],2,2)"
   ]
  },
  {
   "cell_type": "markdown",
   "id": "0c43b3af",
   "metadata": {},
   "source": [
    "💡 **Question 2**\n",
    "\n",
    "**You have n coins and you want to build a staircase with these coins. The staircase consists of k rows where the ith row has exactly i coins. The last row of the staircase **may be** incomplete**\n",
    "\n",
    "Given the integer n, return *the number of **complete rows** of the staircase you will build*.\n"
   ]
  },
  {
   "cell_type": "code",
   "execution_count": 7,
   "id": "ca8bad1a",
   "metadata": {},
   "outputs": [
    {
     "data": {
      "text/plain": [
       "2"
      ]
     },
     "execution_count": 7,
     "metadata": {},
     "output_type": "execute_result"
    }
   ],
   "source": [
    "class Solution:\n",
    "    def arrangeCoins(self, n: int) -> int:\n",
    "        coin_counter = 0\n",
    "        rows = 0\n",
    "        \n",
    "        if n == 1:\n",
    "            return 1\n",
    "\n",
    "        while coin_counter+(rows+1) <= n:\n",
    "            rows += 1\n",
    "            coin_counter = coin_counter + rows\n",
    "        \n",
    "        return rows\n",
    "    \n",
    "r = Solution()\n",
    "r.arrangeCoins(5)"
   ]
  },
  {
   "cell_type": "markdown",
   "id": "fffa65d1",
   "metadata": {},
   "source": [
    "💡 **Question 3**\n",
    "\n",
    "Given an integer array nums sorted in **non-decreasing** order, return *an array of **the squares of each number** sorted in non-decreasing order*.\n"
   ]
  },
  {
   "cell_type": "code",
   "execution_count": 9,
   "id": "1702b40f",
   "metadata": {},
   "outputs": [
    {
     "data": {
      "text/plain": [
       "[0, 1, 9, 16, 100]"
      ]
     },
     "execution_count": 9,
     "metadata": {},
     "output_type": "execute_result"
    }
   ],
   "source": [
    "class Solution:\n",
    "    def sortedSquares(self, nums: List[int]) -> List[int]:\n",
    "        sq_nums = list(map(lambda n: n**2, nums))\n",
    "        sq_nums.sort()\n",
    "        return sq_nums\n",
    "    \n",
    "r = Solution()\n",
    "r.sortedSquares([-4,-1,0,3,10])"
   ]
  },
  {
   "cell_type": "markdown",
   "id": "71936744",
   "metadata": {},
   "source": [
    "💡 **Question 4**\n",
    "\n",
    "Given two **0-indexed** integer arrays nums1 and nums2, return *a list* answer *of size* 2 *where:*\n",
    "\n",
    "- answer[0] *is a list of all **distinct** integers in* nums1 *which are **not** present in* nums2*.*\n",
    "- answer[1] *is a list of all **distinct** integers in* nums2 *which are **not** present in* nums1.\n",
    "\n",
    "**Note** that the integers in the lists may be returned in **any** order.\n"
   ]
  },
  {
   "cell_type": "code",
   "execution_count": 10,
   "id": "8e90f4e7",
   "metadata": {},
   "outputs": [
    {
     "data": {
      "text/plain": [
       "[[1, 3], [4, 6]]"
      ]
     },
     "execution_count": 10,
     "metadata": {},
     "output_type": "execute_result"
    }
   ],
   "source": [
    "class Solution:\n",
    "    def findDifference(self, nums1: List[int], nums2: List[int]) -> List[List[int]]:\n",
    "\n",
    "        # define set to store elements\n",
    "        s1 = set(nums1)\n",
    "        s2 = set(nums2)\n",
    "\n",
    "        # define output\n",
    "        out = [[],[]]\n",
    "\n",
    "        # adding the elements to output if not contains in the set\n",
    "        for i in s1:\n",
    "            if i not in s2:  \n",
    "                out[0].append(i)\n",
    "        for i in s2:\n",
    "            if i not in s1:\n",
    "                out[1].append(i)\n",
    "        \n",
    "        return out\n",
    "r = Solution()\n",
    "r.findDifference([1,2,3], [2,4,6])"
   ]
  },
  {
   "cell_type": "markdown",
   "id": "df248a84",
   "metadata": {},
   "source": [
    "💡 **Question 5**\n",
    "\n",
    "**Given two integer arrays arr1 and arr2, and the integer d, *return the distance value between the two arrays**\n",
    "\n",
    "**The distance value is defined as the number of elements arr1[i] such that there is not any element arr2[j] where |arr1[i]-arr2[j]| <= d**\n"
   ]
  },
  {
   "cell_type": "markdown",
   "id": "b58a9900",
   "metadata": {},
   "source": [
    "Time Complexity - O(logN)\n",
    "Space Complexity - O(1)"
   ]
  },
  {
   "cell_type": "code",
   "execution_count": 11,
   "id": "cae1dd87",
   "metadata": {},
   "outputs": [
    {
     "data": {
      "text/plain": [
       "2"
      ]
     },
     "execution_count": 11,
     "metadata": {},
     "output_type": "execute_result"
    }
   ],
   "source": [
    "class Solution:\n",
    "    def findTheDistanceValue(self, arr1: List[int], arr2: List[int], d: int) -> int:\n",
    "        arr2.sort()\n",
    "        distance = len(arr1)\n",
    "        for num in arr1:\n",
    "            start = 0\n",
    "            end = len(arr2) - 1\n",
    "            while start <= end:\n",
    "                mid = (start+end)//2\n",
    "                if abs(num- arr2[mid]) <= d:\n",
    "                    distance -= 1\n",
    "                    break\n",
    "                elif arr2[mid] > num :\n",
    "                    end = mid-1\n",
    "                elif arr2[mid] < num :\n",
    "                    start = mid+1\n",
    "        return distance\n",
    "    \n",
    "r = Solution()\n",
    "r.findTheDistanceValue([4,5,8],[10,9,1,8],2)"
   ]
  },
  {
   "cell_type": "markdown",
   "id": "cc78f4a0",
   "metadata": {},
   "source": [
    "💡 **Question 6**\n",
    "\n",
    "Given an integer array nums of length n where all the integers of nums are in the range [1, n] and each integer appears **once** or **twice**, return *an array of all the integers that appears **twice***.\n",
    "\n",
    "**You must write an algorithm that runs in O(n) time and uses only constant extra space**\n"
   ]
  },
  {
   "cell_type": "markdown",
   "id": "d6197966",
   "metadata": {},
   "source": [
    "Algotithm:\n",
    "\n",
    "- Getting the index one point less since index starts with zero than the current element for e.g.: n = 4 , so index = 4 - 1 = 3 so on and so forth.\n",
    "- We're doing this because whenever there will be a duplicate number in the given array it will point towards the same index\n",
    "- Let's say we have a number 4 appearing twice in the given array i.e. n = 4 we have marked the element at index = n - 1 = 4-1 = 3 as a negative\n",
    "- Now whenever in further iteration we encounter the another 4 (duplicate one) it will again point to the index 3 but the number at the index 3 is already a negative number ( which we've marked when we've encountered it for the first time) so it means it's a duplicate number in the given array so we will add it to the result array .\n",
    "- In the end we'll return the result array"
   ]
  },
  {
   "cell_type": "code",
   "execution_count": 13,
   "id": "9df7a1da",
   "metadata": {},
   "outputs": [
    {
     "data": {
      "text/plain": [
       "[3, 2]"
      ]
     },
     "execution_count": 13,
     "metadata": {},
     "output_type": "execute_result"
    }
   ],
   "source": [
    "from collections import Counter\n",
    "\n",
    "class Solution:\n",
    "    def findDuplicates(self, nums: List[int]) -> List[int]:\n",
    "        c = Counter(nums)\n",
    "        lst=[]\n",
    "        for i,j in c.items():\n",
    "            if j>=2:\n",
    "                lst.append(i)\n",
    "        return lst\n",
    "    xxX\n",
    "r = Solution( )\n",
    "r.findDuplicates([4,3,2,7,8,2,3,1])"
   ]
  },
  {
   "cell_type": "markdown",
   "id": "e5dcffb7",
   "metadata": {},
   "source": [
    "💡 **Question 7**\n",
    "\n",
    "Suppose an array of length n sorted in ascending order is **rotated** between 1 and n times. For example, the array nums = [0,1,2,4,5,6,7] might become:\n",
    "\n",
    "- [4,5,6,7,0,1,2] if it was rotated 4 times.\n",
    "- [0,1,2,4,5,6,7] if it was rotated 7 times.\n",
    "\n",
    "Notice that **rotating** an array [a[0], a[1], a[2], ..., a[n-1]] 1 time results in the array [a[n-1], a[0], a[1], a[2], ..., a[n-2]].\n",
    "\n",
    "**Given the sorted rotated array nums of **unique** elements, return *the minimum element of this array**\n",
    "\n",
    "You must write an algorithm that runs in O(log n) time.\n"
   ]
  },
  {
   "cell_type": "markdown",
   "id": "da579662",
   "metadata": {},
   "source": [
    "Follow the steps mentioned below to implement the idea:\n",
    "\n",
    "Declare a variable (say min_ele) to store the minimum value and initialize it with arr[0].\n",
    "Traverse the array from the start.\n",
    "Update the minimum value (min_ele) if the current element is less than it.\n",
    "Return the final value of min_ele as the required answer.\n",
    "\n",
    "Time Complexity: O(N)\n",
    "\n",
    "Auxiliary Space: O(1)"
   ]
  },
  {
   "cell_type": "code",
   "execution_count": 14,
   "id": "c7c89fb1",
   "metadata": {},
   "outputs": [
    {
     "name": "stdout",
     "output_type": "stream",
     "text": [
      "1\n"
     ]
    }
   ],
   "source": [
    "# python3 code to implement the approach\n",
    "\n",
    "def findMin(arr, N):\n",
    "\n",
    "    min_ele = arr[0];\n",
    "\n",
    "# Traversing over array to\n",
    "# find minimum element\n",
    "    for i in range(N) :\n",
    "        if arr[i] < min_ele :\n",
    "            min_ele = arr[i]\n",
    "\n",
    "    return min_ele;\n",
    "\n",
    "# Driver program\n",
    "arr =  [3,4,5,1,2]\n",
    "N = len(arr)\n",
    "\n",
    "print(findMin(arr,N))\n",
    "\n",
    "\n"
   ]
  },
  {
   "cell_type": "markdown",
   "id": "7a237180",
   "metadata": {},
   "source": [
    "💡 **Question 8**\n",
    "\n",
    "An integer array original is transformed into a **doubled** array changed by appending **twice the value** of every element in original, and then randomly **shuffling** the resulting array.\n",
    "\n",
    "Given an array changed, return original *if* changed *is a **doubled** array. If* changed *is not a **doubled** array, return an empty array. The elements in* original *may be returned in **any** order*.\n"
   ]
  },
  {
   "cell_type": "markdown",
   "id": "e0b69b25",
   "metadata": {},
   "source": [
    "Algorithm:\n",
    "\n",
    "- Sort the given array arr[] in ascending order\n",
    "- Iterate through the array elements and store the numbers and their frequencies in a hashmap\n",
    "- Create a result list res[] to store the elements present in the original list\n",
    "- Add the first element in the result list and reduce the frequency of the element which has a double value of the first element.\n",
    "- Traverse the array and check for the frequency of every element in the map:\n",
    "- If the frequency is greater than 0, then add the element in the result list and decrement the frequency.\n",
    "- Otherwise, skip the element and move ahead because it is a double value and not a part of the original array.\n",
    "- After completing the above steps, print the elements in the list res[]."
   ]
  },
  {
   "cell_type": "code",
   "execution_count": 15,
   "id": "0e21d630",
   "metadata": {},
   "outputs": [
    {
     "data": {
      "text/plain": [
       "[1, 3, 4]"
      ]
     },
     "execution_count": 15,
     "metadata": {},
     "output_type": "execute_result"
    }
   ],
   "source": [
    "class Solution:\n",
    "    def findOriginalArray(self, changed: List[int]) -> List[int]:\n",
    "        if len(changed) % 2 == 1:\n",
    "            return []\n",
    "        data = Counter(changed)\n",
    "        result = []\n",
    "        for k in sorted(data):\n",
    "            if data[k] < 0:\n",
    "                return []\n",
    "            value = k * 2\n",
    "            while data[k] > 0:\n",
    "                if data[value] == 0:\n",
    "                    return []\n",
    "                result.append(k)\n",
    "                data[k] -= 1\n",
    "                data[value] -= 1\n",
    "        return result\n",
    "    \n",
    "r = Solution()\n",
    "r.findOriginalArray([1,3,4,2,6,8])"
   ]
  },
  {
   "cell_type": "code",
   "execution_count": null,
   "id": "fd881322",
   "metadata": {},
   "outputs": [],
   "source": []
  }
 ],
 "metadata": {
  "kernelspec": {
   "display_name": "Python 3 (ipykernel)",
   "language": "python",
   "name": "python3"
  },
  "language_info": {
   "codemirror_mode": {
    "name": "ipython",
    "version": 3
   },
   "file_extension": ".py",
   "mimetype": "text/x-python",
   "name": "python",
   "nbconvert_exporter": "python",
   "pygments_lexer": "ipython3",
   "version": "3.9.12"
  }
 },
 "nbformat": 4,
 "nbformat_minor": 5
}

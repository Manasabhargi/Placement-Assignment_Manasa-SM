{
 "cells": [
  {
   "cell_type": "markdown",
   "id": "e9f8394b",
   "metadata": {},
   "source": [
    "# Assignment Questions - 9"
   ]
  },
  {
   "cell_type": "markdown",
   "id": "625c9993",
   "metadata": {},
   "source": [
    "💡 **Question 1**\n",
    "\n",
    "**Given an integer `n`, return *`true` if it is a power of two. Otherwise, return `false`**\n",
    "\n",
    "**An integer `n` is a power of two, if there exists an integer `x` such that `n == 2x`**\n"
   ]
  },
  {
   "cell_type": "markdown",
   "id": "2891dea4",
   "metadata": {},
   "source": [
    "Time Complexity: O(log N)\n",
    "Auxiliary Space: O(1)"
   ]
  },
  {
   "cell_type": "code",
   "execution_count": 2,
   "id": "f5929777",
   "metadata": {},
   "outputs": [
    {
     "name": "stdout",
     "output_type": "stream",
     "text": [
      "True\n",
      "False\n"
     ]
    }
   ],
   "source": [
    "import math\n",
    "\n",
    "\n",
    "def Log2(x):\n",
    "    if x == 0:\n",
    "        return false\n",
    "\n",
    "    return (math.log10(x) /\n",
    "            math.log10(2))\n",
    "\n",
    "\n",
    "def isPowerOfTwo(n):\n",
    "    return (math.ceil(Log2(n)) ==\n",
    "            math.floor(Log2(n)))\n",
    "\n",
    "\n",
    "# Driver Code\n",
    "if __name__ == \"__main__\":\n",
    "\n",
    "# Function call\n",
    "    if(isPowerOfTwo(1)):\n",
    "        print(\"True\")\n",
    "    else:\n",
    "        print(\"False\")\n",
    "\n",
    "    if(isPowerOfTwo(3)):\n",
    "        print(\"True\")\n",
    "    else:\n",
    "        print(\"False\")\n",
    "\n",
    "\n"
   ]
  },
  {
   "cell_type": "markdown",
   "id": "925021a1",
   "metadata": {},
   "source": [
    "💡 **Question 2**\n",
    "\n",
    "**Given a number n, find the sum of the first natural numbers**\n"
   ]
  },
  {
   "cell_type": "raw",
   "id": "dbec179d",
   "metadata": {},
   "source": [
    "1) Initialize : sum = 0\n",
    "2) Run a loop from x = 1 to n and \n",
    "   do following in loop.\n",
    "     sum = sum + x \n",
    "     \n",
    "     Time Complexity: O(n)\n",
    "\n",
    "Auxiliary Space: O(1)"
   ]
  },
  {
   "cell_type": "code",
   "execution_count": 4,
   "id": "33334114",
   "metadata": {},
   "outputs": [
    {
     "name": "stdout",
     "output_type": "stream",
     "text": [
      "6\n"
     ]
    }
   ],
   "source": [
    "def findSum(n):\n",
    "    sum = 0\n",
    "    x = 1\n",
    "    while x <= n:\n",
    "        sum = sum + x\n",
    "        x = x + 1\n",
    "    return sum\n",
    "\n",
    "\n",
    "# Driver code\n",
    "n = 3\n",
    "print(findSum(n))\n"
   ]
  },
  {
   "cell_type": "markdown",
   "id": "fd23f1df",
   "metadata": {},
   "source": [
    "💡 **Question 3**\n",
    "\n",
    "**Given a positive integer, N. Find the factorial of N**\n"
   ]
  },
  {
   "cell_type": "markdown",
   "id": "a461f7f0",
   "metadata": {},
   "source": [
    "Time Complexity: O(n)\n",
    "\n",
    "Auxiliary Space: O(n)\n"
   ]
  },
  {
   "cell_type": "code",
   "execution_count": 5,
   "id": "1013c7d8",
   "metadata": {},
   "outputs": [
    {
     "name": "stdout",
     "output_type": "stream",
     "text": [
      "Factorial of 5 is 120\n"
     ]
    }
   ],
   "source": [
    "def factorial(n):\n",
    "\n",
    "    if n == 0:\n",
    "        return 1\n",
    "\n",
    "    return n * factorial(n-1)\n",
    "\n",
    "# Driver Code\n",
    "num = 5;\n",
    "print(\"Factorial of\", num, \"is\",\n",
    "factorial(num))\n",
    "\n"
   ]
  },
  {
   "cell_type": "markdown",
   "id": "e4496340",
   "metadata": {},
   "source": [
    "💡 **Question 4**\n",
    "\n",
    "**Given a number N and a power P, the task is to find the exponent of this number raised to the given power, i.e. N^P**\n"
   ]
  },
  {
   "cell_type": "raw",
   "id": "2c50907d",
   "metadata": {},
   "source": [
    "Create a recursive function with parameters number N and power P.\n",
    "If P = 0 return 1.\n",
    "Else return N times result of the recursive call for N and P-1.\n",
    "\n",
    "Time Complexity: O(P), For P recursive calls.\n",
    "Auxiliary Space: O(P), For recursion call stack.\n",
    "\n",
    "Optimized Approach : \n",
    "Calling the recursive function for (n, p) -> (n, p-1) -> (n, p-2) -> … -> (n, 0) taking P recursive calls. In the optimized approach the idea is to\n",
    "decrease the number of functions from p to log p. "
   ]
  },
  {
   "cell_type": "code",
   "execution_count": 6,
   "id": "386b17cf",
   "metadata": {},
   "outputs": [
    {
     "name": "stdout",
     "output_type": "stream",
     "text": [
      "25\n"
     ]
    }
   ],
   "source": [
    "def power(N, P):\n",
    "\n",
    "    if P == 0:\n",
    "        return 1\n",
    "\n",
    "# Recurrence relation\n",
    "    return (N*power(N, P-1))\n",
    "\n",
    "\n",
    "# Driver code\n",
    "if __name__ == '__main__':\n",
    "    N = 5\n",
    "    P = 2\n",
    "\n",
    "    print(power(N, P))\n"
   ]
  },
  {
   "cell_type": "markdown",
   "id": "50511beb",
   "metadata": {},
   "source": [
    "💡 **Question 5**\n",
    "\n",
    "**Given an array of integers **arr**, the task is to find maximum element of that array using recursion**\n"
   ]
  },
  {
   "cell_type": "raw",
   "id": "fde19ece",
   "metadata": {},
   "source": [
    "If there is single element, return it.\n",
    "Else return maximum of following.\n",
    "    a) Last Element\n",
    "    b) Value returned by recursive call\n",
    "       for n-1 elements.\n",
    "       \n",
    "       "
   ]
  },
  {
   "cell_type": "code",
   "execution_count": 11,
   "id": "54a7a94b",
   "metadata": {},
   "outputs": [
    {
     "name": "stdout",
     "output_type": "stream",
     "text": [
      "45\n"
     ]
    }
   ],
   "source": [
    "def findMaxRec(A, n):\n",
    "\n",
    "# if n = 0 means whole array\n",
    "# has been traversed\n",
    "    if (n == 1):\n",
    "        return A[0]\n",
    "    return max(A[n - 1], findMaxRec(A, n - 1))\n",
    "\n",
    "# Driver Code\n",
    "if __name__ == \"__main__\":\n",
    "\n",
    "    A = [1, 4, 45, 6, 10, -8]\n",
    "    n = len(A)\n",
    "    print(findMaxRec(A, n))\n",
    "\n",
    "\n"
   ]
  },
  {
   "cell_type": "markdown",
   "id": "a9fc3ca7",
   "metadata": {},
   "source": [
    "💡 **Question 6**\n",
    "\n",
    "**Given first term (a), common difference (d) and a integer N of the Arithmetic Progression series, the task is to find Nth term of the series**\n"
   ]
  },
  {
   "cell_type": "raw",
   "id": "96dd95b2",
   "metadata": {},
   "source": [
    "Time Complexity: O(1), the code will run in a constant time.\n",
    "Auxiliary Space: O(1), no extra space is required, so it is a constant."
   ]
  },
  {
   "cell_type": "code",
   "execution_count": 12,
   "id": "86609a9d",
   "metadata": {},
   "outputs": [
    {
     "name": "stdout",
     "output_type": "stream",
     "text": [
      "The  5 th term of the series is :  6\n"
     ]
    }
   ],
   "source": [
    "def Nth_of_AP(a, d, N) :\n",
    "\n",
    "# using formula to find the\n",
    "# Nth term t(n) = a(1) + (n-1)*d\n",
    "    return (a + (N - 1) * d)\n",
    "\n",
    "\n",
    "# Driver code\n",
    "a = 2 # starting number\n",
    "d = 1 # Common difference\n",
    "N = 5 # N th term to be find\n",
    "\n",
    "# Display the output\n",
    "print( \"The \", N ,\"th term of the series is : \",\n",
    "    Nth_of_AP(a, d, N))\n",
    "\n",
    "\n"
   ]
  },
  {
   "cell_type": "markdown",
   "id": "36c30e4d",
   "metadata": {},
   "source": [
    "💡 **Question 7**\n",
    "\n",
    "**Given a string S, the task is to write a program to print all permutations of a given string**\n"
   ]
  },
  {
   "cell_type": "markdown",
   "id": "478c8109",
   "metadata": {},
   "source": [
    "- Create a function permute() with parameters as input string, starting index of the string, ending index of the string\n",
    "- Call this function with values input string, 0, size of string – 1\n",
    "- In this function, if the value of  L and R is the same then print the same string\n",
    "- Else run a for loop from L to R and swap the current element in the for loop with the inputString[L]\n",
    "- Then again call this same function by increasing the value of L by 1\n",
    "- After that again swap the previously swapped values to initiate backtracking\n",
    "\n",
    "Time Complexity: O(N * N!) Note that there are N! permutations and it requires O(N) time to print a permutation.\n",
    "Auxiliary Space: O(R – L)"
   ]
  },
  {
   "cell_type": "code",
   "execution_count": 13,
   "id": "19781601",
   "metadata": {},
   "outputs": [
    {
     "name": "stdout",
     "output_type": "stream",
     "text": [
      "ABC\n",
      "ACB\n",
      "BAC\n",
      "BCA\n",
      "CBA\n",
      "CAB\n"
     ]
    }
   ],
   "source": [
    "def toString(List):\n",
    "    return ''.join(List)\n",
    "\n",
    "\n",
    "def permute(a, l, r):\n",
    "    if l == r:\n",
    "        print(toString(a))\n",
    "    else:\n",
    "        for i in range(l, r):\n",
    "            a[l], a[i] = a[i], a[l]\n",
    "            permute(a, l+1, r)\n",
    "            a[l], a[i] = a[i], a[l] # backtrack\n",
    "\n",
    "\n",
    "# Driver code\n",
    "string = \"ABC\"\n",
    "n = len(string)\n",
    "a = list(string)\n",
    "\n",
    "# Function call\n",
    "permute(a, 0, n)\n",
    "\n",
    "\n"
   ]
  },
  {
   "cell_type": "markdown",
   "id": "ccf5781a",
   "metadata": {},
   "source": [
    "💡 **Question 8**\n",
    "\n",
    "**Given an array, find a product of all array elements**\n"
   ]
  },
  {
   "cell_type": "raw",
   "id": "8322aa13",
   "metadata": {},
   "source": [
    "1) Input: arr[]\n",
    "2) Initialize with start and last pointers i.e i,j. and also initialize product=0\n",
    "3) Iterate i=0 to i>j;\n",
    "    i+=1\n",
    "    j-=1\n",
    "4) Multiply first and last numbers at a time while iterating.\n",
    "5) if i==j multiply element only once.\n",
    "\n",
    "Time Complexity : O(n)\n",
    "Auxiliary Space : O(1) "
   ]
  },
  {
   "cell_type": "code",
   "execution_count": 14,
   "id": "5f123626",
   "metadata": {},
   "outputs": [
    {
     "name": "stdout",
     "output_type": "stream",
     "text": [
      "120\n"
     ]
    }
   ],
   "source": [
    "\n",
    "arr=[1,2,3,4,5]\n",
    "product=1\n",
    "\n",
    "#initialize start and last pointers\n",
    "i=0\n",
    "j=len(arr)-1\n",
    "\n",
    "#add first and last simultaneously\n",
    "while(i<j):\n",
    "    product*=arr[i]*arr[j]\n",
    "    i+=1\n",
    "    j-=1\n",
    "\n",
    "#multiply only one element\n",
    "if(i==j):\n",
    "    product*=arr[i]\n",
    "\n",
    "#printing product\n",
    "print(product)\n"
   ]
  },
  {
   "cell_type": "code",
   "execution_count": null,
   "id": "da50595b",
   "metadata": {},
   "outputs": [],
   "source": []
  }
 ],
 "metadata": {
  "kernelspec": {
   "display_name": "Python 3 (ipykernel)",
   "language": "python",
   "name": "python3"
  },
  "language_info": {
   "codemirror_mode": {
    "name": "ipython",
    "version": 3
   },
   "file_extension": ".py",
   "mimetype": "text/x-python",
   "name": "python",
   "nbconvert_exporter": "python",
   "pygments_lexer": "ipython3",
   "version": "3.9.12"
  }
 },
 "nbformat": 4,
 "nbformat_minor": 5
}

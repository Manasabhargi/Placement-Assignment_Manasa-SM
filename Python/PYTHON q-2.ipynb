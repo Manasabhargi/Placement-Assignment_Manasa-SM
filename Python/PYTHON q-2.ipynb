{
 "cells": [
  {
   "cell_type": "code",
   "execution_count": 6,
   "id": "df9d224b",
   "metadata": {},
   "outputs": [
    {
     "name": "stdout",
     "output_type": "stream",
     "text": [
      "YES\n"
     ]
    }
   ],
   "source": [
    "# Assuming only lower case characters\n",
    "CHARS = 26\n",
    "\n",
    "# To check a string S can be converted to a “valid”\n",
    "# string by removing less than or equal to one\n",
    "# character.\n",
    "\n",
    "def isValidString(str):\n",
    "\n",
    "    freq = [0]*CHARS\n",
    "\n",
    "    # freq[] : stores the frequency of each\n",
    "    # character of a string\n",
    "    for i in range(len(str)):\n",
    "        freq[ord(str[i])-ord('a')] += 1\n",
    "\n",
    "    # Find first character with non-zero frequency\n",
    "    freq1 = 0\n",
    "    count_freq1 = 0\n",
    "    for i in range(CHARS):\n",
    "\n",
    "        if (freq[i] != 0):\n",
    "\n",
    "            freq1 = freq[i]\n",
    "            count_freq1 = 1\n",
    "            break\n",
    "\n",
    "    # Find a character with frequency different\n",
    "    # from freq1.\n",
    "    freq2 = 0\n",
    "    count_freq2 = 0\n",
    "    for j in range(i+1,CHARS):\n",
    "    \n",
    "        if (freq[j] != 0):\n",
    "\n",
    "            if (freq[j] == freq1):\n",
    "                count_freq1 += 1\n",
    "            else:\n",
    "\n",
    "                count_freq2 = 1\n",
    "                freq2 = freq[j]\n",
    "                break\n",
    "\n",
    "\n",
    "    for k in range(j+1,CHARS):\n",
    "\n",
    "        if (freq[k] != 0):\n",
    "        \n",
    "            if (freq[k] == freq1):\n",
    "                count_freq1 += 1\n",
    "            if (freq[k] == freq2):\n",
    "                count_freq2 += 1\n",
    "\n",
    "            # If we find a third non-zero freq\n",
    "            else:\n",
    "                return False\n",
    "\n",
    "        # If counts of both frequencies is more than 1\n",
    "        if (count_freq1 > 1 and count_freq2 > 1):\n",
    "            return False\n",
    "\n",
    "    # Return true if we reach here\n",
    "    return True\n",
    "\n",
    "# Driver code\n",
    "if __name__ == \"__main__\":\n",
    "    str= \"abcbcc\"\n",
    "\n",
    "    if (isValidString(str)):\n",
    "        print(\"YES\")\n",
    "    else:\n",
    "        print(\"NO\")\n",
    "\n"
   ]
  },
  {
   "cell_type": "raw",
   "id": "17633e9d",
   "metadata": {},
   "source": [
    "Testcase 1\n",
    "example - abcbcc\n",
    "explanation - if one charater is removed also the frequency of the character b and c will be 2 all other charater frequencies will be 1 so this string will be invalid string."
   ]
  },
  {
   "cell_type": "raw",
   "id": "36f0c73d",
   "metadata": {},
   "source": [
    "Testcase 2\n",
    "example - abcc\n",
    "explanation - if the last character c is removed so the freqencies of other characters will become 1 hence it is an valid string."
   ]
  }
 ],
 "metadata": {
  "kernelspec": {
   "display_name": "Python 3 (ipykernel)",
   "language": "python",
   "name": "python3"
  },
  "language_info": {
   "codemirror_mode": {
    "name": "ipython",
    "version": 3
   },
   "file_extension": ".py",
   "mimetype": "text/x-python",
   "name": "python",
   "nbconvert_exporter": "python",
   "pygments_lexer": "ipython3",
   "version": "3.9.12"
  }
 },
 "nbformat": 4,
 "nbformat_minor": 5
}

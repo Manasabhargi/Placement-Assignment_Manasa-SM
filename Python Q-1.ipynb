{
 "cells": [
  {
   "cell_type": "code",
   "execution_count": null,
   "id": "8b1834ab",
   "metadata": {},
   "outputs": [],
   "source": [
    "Testcase 1"
   ]
  },
  {
   "cell_type": "code",
   "execution_count": 2,
   "id": "5564eba8",
   "metadata": {},
   "outputs": [
    {
     "name": "stdout",
     "output_type": "stream",
     "text": [
      "The length of highest freq word is : 7\n",
      "The highest freq word is: weather\n",
      "{'the': 3, 'weather': 1, 'is': 1, 'good': 1, 'today.': 1}\n"
     ]
    }
   ],
   "source": [
    "def word_count(str):\n",
    "    counts = dict()\n",
    "    words = str.split()\n",
    "\n",
    "    for word in words:\n",
    "        if word in counts:\n",
    "            counts[word] += 1\n",
    "        else:\n",
    "            counts[word] = 1\n",
    "\n",
    "    print(\"The length of highest freq word is :\",len(max(counts)))\n",
    "     \n",
    "    print(\"The highest freq word is:\",max(counts))\n",
    "    return counts\n",
    "\n",
    "print( word_count('the weather is the good the today.'))\n"
   ]
  },
  {
   "cell_type": "markdown",
   "id": "edd176a4",
   "metadata": {},
   "source": [
    "Explanation : From the given string we can note that the most frequent word is “weather” and its corresponding length is 7"
   ]
  },
  {
   "cell_type": "markdown",
   "id": "f6af7e5d",
   "metadata": {},
   "source": [
    "Testcase - 2"
   ]
  },
  {
   "cell_type": "code",
   "execution_count": 34,
   "id": "51c54cec",
   "metadata": {},
   "outputs": [
    {
     "name": "stdout",
     "output_type": "stream",
     "text": [
      "The length of highest freq word is : 6\n",
      "The highest freq word is: TRAVEL\n",
      "{'I': 1, 'LIKE': 1, 'TO': 1, 'TRAVEL': 1}\n"
     ]
    }
   ],
   "source": [
    "def word_count(str):\n",
    "    counts = dict()\n",
    "    words = str.split()\n",
    "\n",
    "    for word in words:\n",
    "        if word in counts:\n",
    "            counts[word] += 1\n",
    "        else:\n",
    "            counts[word] = 1\n",
    "\n",
    "    print(\"The length of highest freq word is :\",len(max(counts)))\n",
    "     \n",
    "    print(\"The highest freq word is:\",max(counts))\n",
    "    return counts\n",
    "\n",
    "print( word_count(\"I LIKE TO TRAVEL\"))"
   ]
  },
  {
   "cell_type": "markdown",
   "id": "8d8fa224",
   "metadata": {},
   "source": [
    "Explanation : The highest frequency word is travel and its count is 6 which is displayed above. And also the count of each word is also displayed."
   ]
  }
 ],
 "metadata": {
  "kernelspec": {
   "display_name": "Python 3 (ipykernel)",
   "language": "python",
   "name": "python3"
  },
  "language_info": {
   "codemirror_mode": {
    "name": "ipython",
    "version": 3
   },
   "file_extension": ".py",
   "mimetype": "text/x-python",
   "name": "python",
   "nbconvert_exporter": "python",
   "pygments_lexer": "ipython3",
   "version": "3.9.12"
  }
 },
 "nbformat": 4,
 "nbformat_minor": 5
}
